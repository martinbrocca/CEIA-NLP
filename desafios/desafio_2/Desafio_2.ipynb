{
 "cells": [
  {
   "cell_type": "markdown",
   "metadata": {
    "id": "sZd5yLnnHOK0"
   },
   "source": [
    "<img src=\"https://github.com/hernancontigiani/ceia_memorias_especializacion/raw/master/Figures/logoFIUBA.jpg\" width=\"500\" align=\"center\">\n",
    "\n",
    "\n",
    "# Procesamiento de lenguaje natural\n",
    "## Custom embedddings con Gensim\n",
    "\n"
   ]
  },
  {
   "cell_type": "markdown",
   "metadata": {
    "id": "vA7nqkumo9z9"
   },
   "source": [
    "### Objetivo\n",
    "El objetivo es utilizar documentos / corpus para crear embeddings de palabras basado en ese contexto. Se utilizará canciones de bandas para generar los embeddings, es decir, que los vectores tendrán la forma en función de como esa banda haya utilizado las palabras en sus canciones."
   ]
  },
  {
   "cell_type": "code",
   "execution_count": 18,
   "metadata": {
    "id": "lFToQs5FK5uZ"
   },
   "outputs": [],
   "source": [
    "import pandas as pd\n",
    "import matplotlib.pyplot as plt\n",
    "import seaborn as sns\n",
    "\n",
    "import multiprocessing\n",
    "from gensim.models import Word2Vec"
   ]
  },
  {
   "cell_type": "markdown",
   "metadata": {
    "id": "BaXV6nlHr5Aa"
   },
   "source": [
    "#### - Función de callback definida en clase"
   ]
  },
  {
   "cell_type": "code",
   "execution_count": 19,
   "metadata": {
    "id": "OSb0v7h8r7hK"
   },
   "outputs": [],
   "source": [
    "from gensim.models.callbacks import CallbackAny2Vec\n",
    "# Durante el entrenamiento gensim por defecto no informa el \"loss\" en cada época\n",
    "# Sobrecargamos el callback para poder tener esta información\n",
    "class callback(CallbackAny2Vec):\n",
    "    \"\"\"\n",
    "    Callback to print loss after each epoch\n",
    "    \"\"\"\n",
    "    def __init__(self):\n",
    "        self.epoch = 0\n",
    "\n",
    "    def on_epoch_end(self, model):\n",
    "        loss = model.get_latest_training_loss()\n",
    "        if self.epoch == 0:\n",
    "            print('Loss after epoch {}: {}'.format(self.epoch, loss))\n",
    "        else:\n",
    "            print('Loss after epoch {}: {}'.format(self.epoch, loss- self.loss_previous_step))\n",
    "        self.epoch += 1\n",
    "        self.loss_previous_step = loss"
   ]
  },
  {
   "cell_type": "markdown",
   "metadata": {
    "id": "yMM_SHSaZ9N-"
   },
   "source": [
    "### Desafío 2 - Consignas"
   ]
  },
  {
   "cell_type": "markdown",
   "metadata": {
    "id": "WivQZ3ZCZ9N_"
   },
   "source": [
    "- Crear sus propios vectores con Gensim basado en lo visto en clase con otro dataset.\n",
    "- Probar términos de interés y explicar similitudes en el espacio de embeddings (sacar conclusiones entre palabras similitudes y diferencias).\n",
    "- Graficarlos.\n",
    "- Obtener conclusiones."
   ]
  },
  {
   "cell_type": "markdown",
   "metadata": {},
   "source": [
    "## Resolución del desafío"
   ]
  },
  {
   "cell_type": "markdown",
   "metadata": {},
   "source": [
    "### Ejercicio \n",
    "- Crear sus propios vectores con Gensim basado en lo visto en clase con otro dataset.\n"
   ]
  },
  {
   "cell_type": "markdown",
   "metadata": {},
   "source": [
    "#### Carga del dataset"
   ]
  },
  {
   "cell_type": "code",
   "execution_count": 2,
   "metadata": {},
   "outputs": [
    {
     "name": "stderr",
     "output_type": "stream",
     "text": [
      "/home/martin/Documents/CEIA/CEIA-NLP/.venv/lib/python3.12/site-packages/tqdm/auto.py:21: TqdmWarning: IProgress not found. Please update jupyter and ipywidgets. See https://ipywidgets.readthedocs.io/en/stable/user_install.html\n",
      "  from .autonotebook import tqdm as notebook_tqdm\n"
     ]
    }
   ],
   "source": [
    "import pandas as pd\n",
    "from datasets import load_dataset\n",
    "import matplotlib.pyplot as plt\n",
    "import seaborn as sns\n",
    "import multiprocessing\n",
    "from gensim.models import Word2Vec"
   ]
  },
  {
   "cell_type": "code",
   "execution_count": 3,
   "metadata": {},
   "outputs": [
    {
     "name": "stdout",
     "output_type": "stream",
     "text": [
      "                                          filename  \\\n",
      "0      1-Harry-Potter-and-the-Sorcerer’s-Stone.txt   \n",
      "1    2-Harry-Potter-and-the-Chamber-of-Secrets.txt   \n",
      "2   3-Harry-Potter-and-the-Prisoner-of-Azkaban.txt   \n",
      "3        4-Harry-Potter-and-the-Goblet-of-Fire.txt   \n",
      "4  5-Harry-Potter-and-the-Order-of-the-Phoenix.txt   \n",
      "\n",
      "                                             content  \n",
      "0  FOR JESSICA, WHO LOVES STORIES,\\n\\nFOR ANNE, W...  \n",
      "1  FOR SEÁN P. F. HARRIS,\\n\\nGETAWAY DRIVER AND F...  \n",
      "2  TO JILL PREWETT AND\\n\\nAINE KIELY,\\n\\nTHE GODM...  \n",
      "3  TO PETER ROWLING,\\n\\nIN MEMORY OF MR. RIDLEY\\n...  \n",
      "4  TO NEIL, JESSICA, AND DAVID,\\n\\nWHO MAKE MY WO...  \n"
     ]
    }
   ],
   "source": [
    "# Elijo como dataset las novelas de Harry Potter disponibles Hugging Face\n",
    "\n",
    "\n",
    "# Load dataset from HF\n",
    "dataset = load_dataset(\"elricwan/HarryPotter\", split=\"train\")\n",
    "\n",
    "# Convert to pandas DataFrame if needed\n",
    "df_HarryPotter = dataset.to_pandas()\n",
    "\n",
    "print(df_HarryPotter.head())"
   ]
  },
  {
   "cell_type": "code",
   "execution_count": 4,
   "metadata": {},
   "outputs": [
    {
     "name": "stdout",
     "output_type": "stream",
     "text": [
      "Cantidad de documentos: 8\n",
      "Nombre de las columnas del DF:  Index(['filename', 'content'], dtype='object')\n"
     ]
    }
   ],
   "source": [
    "print(\"Cantidad de documentos:\", df_HarryPotter.shape[0])\n",
    "print(\"Nombre de las columnas del DF: \", df_HarryPotter.columns)\n"
   ]
  },
  {
   "cell_type": "markdown",
   "metadata": {},
   "source": [
    "## Observaciones:\n",
    "El dataset presenta 8 archivos de texto correspondientes a los 8 libros de Harry Potter.\n",
    "Debido a las diferencias con el dataset visto en clase, se utilizarán las siguientes definiciones:\n",
    " 1) Se concatenarán todos los libros para formar el corpus.\n",
    " 2) Se considerarán a los párrafos como los documentos para realizar los embeddings."
   ]
  },
  {
   "cell_type": "code",
   "execution_count": 7,
   "metadata": {},
   "outputs": [],
   "source": [
    "import re\n",
    "import nltk\n",
    "\n",
    "#nltk.download('stopwords')\n",
    "\n",
    "from nltk.corpus import stopwords\n",
    "stop_words = set(stopwords.words('english'))\n",
    "\n",
    "def preprocess_text(text):\n",
    "    \"\"\"\n",
    "    Remueve puntuación, convierte a minúsculas, elimina stopwords y tokeniza el texto.\n",
    "    \n",
    "    \"\"\"\n",
    "    # Lowercase\n",
    "    text = text.lower()\n",
    "    \n",
    "    # Keep only alphabetic characters and spaces\n",
    "    text = re.sub(r'[^a-z\\s]', '', text)\n",
    "    \n",
    "    # Split into words\n",
    "    tokens = text.split()\n",
    "    \n",
    "    # Remove stopwords\n",
    "    tokens = [word for word in tokens if word not in stop_words]\n",
    "    \n",
    "    return tokens\n"
   ]
  },
  {
   "cell_type": "code",
   "execution_count": 9,
   "metadata": {},
   "outputs": [
    {
     "name": "stdout",
     "output_type": "stream",
     "text": [
      "Total 'documents': 80066\n",
      "Primer doc: ['jessica', 'loves', 'stories']\n"
     ]
    }
   ],
   "source": [
    "# Verificar los documentos, y si se puede dividirlos en párrafos\n",
    "sentence_tokens_hp = []\n",
    "\n",
    "for book in df_HarryPotter['content']:\n",
    "    paragraphs = book.split(\"\\n\")  # Dividir el texto en párrafos usando el salto de línea como separador\n",
    "    for paragraph in paragraphs:\n",
    "        tokens = preprocess_text(paragraph)\n",
    "        if tokens:  # Solo agregar si no está vacío\n",
    "            sentence_tokens_hp.append(tokens)\n",
    "\n",
    "print(f\"Total 'documents': {len(sentence_tokens_hp)}\")\n",
    "print(\"Primer doc:\", sentence_tokens_hp[0][:50])\n"
   ]
  },
  {
   "cell_type": "markdown",
   "metadata": {},
   "source": [
    "#Analisis del impacto de limpiar el dataset:"
   ]
  },
  {
   "cell_type": "code",
   "execution_count": 10,
   "metadata": {},
   "outputs": [
    {
     "name": "stdout",
     "output_type": "stream",
     "text": [
      "Tokens únicos (en texto completo): 58427\n",
      "Tokens únicos (en texto limpio): 23018\n"
     ]
    }
   ],
   "source": [
    "#Analizar la cantidad de tokens en el texto original vs luego de aplicar la funcion de procesar el texto\n",
    "raw_tokens = [word for sentence in df_HarryPotter['content'] for word in sentence.split()]\n",
    "clean_tokens = [word for sentence in sentence_tokens_hp for word in sentence]\n",
    "\n",
    "print(\"Tokens únicos (en texto completo):\", len(set(raw_tokens)))\n",
    "print(\"Tokens únicos (en texto limpio):\", len(set(clean_tokens)))\n"
   ]
  },
  {
   "cell_type": "code",
   "execution_count": 11,
   "metadata": {},
   "outputs": [
    {
     "name": "stderr",
     "output_type": "stream",
     "text": [
      "[nltk_data] Downloading package stopwords to /home/martin/nltk_data...\n",
      "[nltk_data]   Package stopwords is already up-to-date!\n"
     ]
    },
    {
     "name": "stdout",
     "output_type": "stream",
     "text": [
      "Stopwords antes: 916922\n",
      "Stopwords después: 0\n",
      "Stopwords normalizados después: 0\n"
     ]
    }
   ],
   "source": [
    "import nltk\n",
    "\n",
    "nltk.download('stopwords')\n",
    "stop_words = set(stopwords.words('english'))\n",
    "\n",
    "raw_tokens_norm = [re.sub(r'[^a-z]', '', w.lower()) for w in raw_tokens if w.strip() != '']\n",
    "\n",
    "stop_before = sum(1 for w in raw_tokens if w.lower() in stop_words)\n",
    "stop_after  = sum(1 for w in clean_tokens if w.lower() in stop_words)\n",
    "stop_before_norm = sum(1 for w in raw_tokens_norm if w in stop_words)\n",
    "\n",
    "print(\"Stopwords antes:\", stop_before)\n",
    "print(\"Stopwords después:\", stop_after)\n",
    "print(\"Stopwords normalizados después:\", stop_after)\n"
   ]
  },
  {
   "cell_type": "code",
   "execution_count": 12,
   "metadata": {},
   "outputs": [
    {
     "name": "stdout",
     "output_type": "stream",
     "text": [
      "Ejemplo de párrafo tokenizado: ['jessica', 'loves', 'stories']\n",
      "Total de párrafos procesados: 80570\n"
     ]
    }
   ],
   "source": [
    "# Aplicar el preprocesamiento a cada parragrafo\n",
    "# 1) Concatenar todo el texto\n",
    "all_text = \" \".join(df_HarryPotter['content'].tolist())\n",
    "\n",
    "# Separar por párrafos\n",
    "paragraphs = all_text.split(\"\\n\\n\")\n",
    "\n",
    "# Preprocesar cada párrafo\n",
    "sentence_tokens_hp = [preprocess_text(p) for p in paragraphs if p.strip()]\n",
    "\n",
    "print(\"Ejemplo de párrafo tokenizado:\", sentence_tokens_hp[0][:30])\n",
    "print(\"Total de párrafos procesados:\", len(sentence_tokens_hp))\n"
   ]
  },
  {
   "cell_type": "code",
   "execution_count": 13,
   "metadata": {},
   "outputs": [],
   "source": [
    "from gensim.models import Word2Vec\n",
    "\n",
    "model_hp_potter = Word2Vec(\n",
    "    sentences=sentence_tokens_hp,\n",
    "    vector_size=100,\n",
    "    window=5,\n",
    "    min_count=5,\n",
    "    workers=4,\n",
    "    sg=1 # modelo 0:CBOW  1:skipgram\n",
    ")\n",
    "model_hp_potter_cbow = Word2Vec(\n",
    "    sentences=sentence_tokens_hp,\n",
    "    vector_size=100,\n",
    "    window=5,\n",
    "    min_count=5,\n",
    "    workers=4,\n",
    "    sg=0 # modelo 0:CBOW  1:skipgram\n",
    ")"
   ]
  },
  {
   "cell_type": "code",
   "execution_count": 14,
   "metadata": {},
   "outputs": [],
   "source": [
    "# Obtener el vocabulario con los tokens\n",
    "model_hp_potter.build_vocab(sentence_tokens_hp)"
   ]
  },
  {
   "cell_type": "code",
   "execution_count": 15,
   "metadata": {},
   "outputs": [
    {
     "name": "stdout",
     "output_type": "stream",
     "text": [
      "Cantidad de docs en el corpus: 80570\n"
     ]
    }
   ],
   "source": [
    "# Cantidad de filas/docs encontradas en el corpus\n",
    "print(\"Cantidad de docs en el corpus:\", model_hp_potter.corpus_count)"
   ]
  },
  {
   "cell_type": "code",
   "execution_count": 16,
   "metadata": {},
   "outputs": [
    {
     "name": "stdout",
     "output_type": "stream",
     "text": [
      "Cantidad de words distintas en el corpus: 12352\n"
     ]
    }
   ],
   "source": [
    "# Cantidad de words encontradas en el corpus\n",
    "print(\"Cantidad de words distintas en el corpus:\", len(model_hp_potter.wv.index_to_key))"
   ]
  },
  {
   "cell_type": "code",
   "execution_count": 20,
   "metadata": {},
   "outputs": [
    {
     "name": "stdout",
     "output_type": "stream",
     "text": [
      "Loss after epoch 0: 3404021.75\n",
      "Loss after epoch 1: 2876884.75\n",
      "Loss after epoch 2: 2596651.5\n",
      "Loss after epoch 3: 2356467.0\n",
      "Loss after epoch 4: 2347464.0\n",
      "Loss after epoch 5: 2340265.0\n",
      "Loss after epoch 6: 2082078.0\n",
      "Loss after epoch 7: 1928440.0\n",
      "Loss after epoch 8: 1913188.0\n",
      "Loss after epoch 9: 1906228.0\n",
      "Loss after epoch 10: 1891436.0\n",
      "Loss after epoch 11: 1881448.0\n",
      "Loss after epoch 12: 1897572.0\n",
      "Loss after epoch 13: 1883528.0\n",
      "Loss after epoch 14: 1878820.0\n",
      "Loss after epoch 15: 1183612.0\n",
      "Loss after epoch 16: 1044196.0\n",
      "Loss after epoch 17: 1047176.0\n",
      "Loss after epoch 18: 997840.0\n",
      "Loss after epoch 19: 1030496.0\n",
      "Loss after epoch 20: 1001608.0\n",
      "Loss after epoch 21: 1015496.0\n",
      "Loss after epoch 22: 1016884.0\n",
      "Loss after epoch 23: 1011548.0\n",
      "Loss after epoch 24: 1002792.0\n",
      "Loss after epoch 25: 1001144.0\n",
      "Loss after epoch 26: 971816.0\n",
      "Loss after epoch 27: 993688.0\n",
      "Loss after epoch 28: 983384.0\n",
      "Loss after epoch 29: 975816.0\n",
      "Loss after epoch 30: 982184.0\n",
      "Loss after epoch 31: 978040.0\n",
      "Loss after epoch 32: 954192.0\n",
      "Loss after epoch 33: 968924.0\n",
      "Loss after epoch 34: 942940.0\n",
      "Loss after epoch 35: 933684.0\n",
      "Loss after epoch 36: 928016.0\n",
      "Loss after epoch 37: 951096.0\n",
      "Loss after epoch 38: 944112.0\n",
      "Loss after epoch 39: 939024.0\n",
      "Loss after epoch 40: 935092.0\n",
      "Loss after epoch 41: 929476.0\n",
      "Loss after epoch 42: 909888.0\n",
      "Loss after epoch 43: 922492.0\n",
      "Loss after epoch 44: 923492.0\n",
      "Loss after epoch 45: 897888.0\n",
      "Loss after epoch 46: 905336.0\n",
      "Loss after epoch 47: 876400.0\n",
      "Loss after epoch 48: 899064.0\n",
      "Loss after epoch 49: 866188.0\n"
     ]
    },
    {
     "data": {
      "text/plain": [
       "(55164765, 60602400)"
      ]
     },
     "execution_count": 20,
     "metadata": {},
     "output_type": "execute_result"
    }
   ],
   "source": [
    "# Entrenamos el modelo generador de vectores\n",
    "# Utilizamos nuestro callback\n",
    "model_hp_potter.train(sentence_tokens_hp,\n",
    "                 total_examples=model_hp_potter.corpus_count,\n",
    "                 epochs=50,\n",
    "                 compute_loss = True,\n",
    "                 callbacks=[callback()]\n",
    "                 )"
   ]
  },
  {
   "cell_type": "code",
   "execution_count": 21,
   "metadata": {},
   "outputs": [
    {
     "name": "stdout",
     "output_type": "stream",
     "text": [
      "Loss after epoch 0: 586162.375\n",
      "Loss after epoch 1: 552943.0\n",
      "Loss after epoch 2: 522120.0\n",
      "Loss after epoch 3: 498539.875\n",
      "Loss after epoch 4: 467259.0\n",
      "Loss after epoch 5: 457104.5\n",
      "Loss after epoch 6: 448528.5\n",
      "Loss after epoch 7: 440850.25\n",
      "Loss after epoch 8: 418164.5\n",
      "Loss after epoch 9: 395681.5\n",
      "Loss after epoch 10: 392856.5\n",
      "Loss after epoch 11: 389211.5\n",
      "Loss after epoch 12: 386798.5\n",
      "Loss after epoch 13: 384446.0\n",
      "Loss after epoch 14: 383069.0\n",
      "Loss after epoch 15: 377515.5\n",
      "Loss after epoch 16: 378886.0\n",
      "Loss after epoch 17: 376327.0\n",
      "Loss after epoch 18: 374798.0\n",
      "Loss after epoch 19: 352431.5\n",
      "Loss after epoch 20: 333975.0\n",
      "Loss after epoch 21: 333314.0\n",
      "Loss after epoch 22: 329644.0\n",
      "Loss after epoch 23: 328133.0\n",
      "Loss after epoch 24: 328020.0\n",
      "Loss after epoch 25: 324544.0\n",
      "Loss after epoch 26: 323324.0\n",
      "Loss after epoch 27: 322517.0\n",
      "Loss after epoch 28: 320599.0\n",
      "Loss after epoch 29: 319857.0\n",
      "Loss after epoch 30: 318428.0\n",
      "Loss after epoch 31: 316413.0\n",
      "Loss after epoch 32: 315096.0\n",
      "Loss after epoch 33: 313705.0\n",
      "Loss after epoch 34: 311797.0\n",
      "Loss after epoch 35: 310511.0\n",
      "Loss after epoch 36: 309465.0\n",
      "Loss after epoch 37: 307824.0\n",
      "Loss after epoch 38: 305113.0\n",
      "Loss after epoch 39: 304682.0\n",
      "Loss after epoch 40: 301270.0\n",
      "Loss after epoch 41: 300313.0\n",
      "Loss after epoch 42: 297605.0\n",
      "Loss after epoch 43: 296945.0\n",
      "Loss after epoch 44: 295236.0\n",
      "Loss after epoch 45: 292520.0\n",
      "Loss after epoch 46: 222831.0\n",
      "Loss after epoch 47: 213200.0\n",
      "Loss after epoch 48: 210788.0\n",
      "Loss after epoch 49: 211002.0\n"
     ]
    },
    {
     "data": {
      "text/plain": [
       "(55165041, 60602400)"
      ]
     },
     "execution_count": 21,
     "metadata": {},
     "output_type": "execute_result"
    }
   ],
   "source": [
    "# Entrenamos ahora el modelo CBOW\n",
    "model_hp_potter_cbow.train(sentence_tokens_hp,\n",
    "                 total_examples=model_hp_potter_cbow.corpus_count,\n",
    "                 epochs=50,\n",
    "                 compute_loss = True,\n",
    "                 callbacks=[callback()]\n",
    "                 )"
   ]
  },
  {
   "cell_type": "markdown",
   "metadata": {},
   "source": [
    "### Procedemos a ensayar y a buscar relaciones de palabras en los documentos"
   ]
  },
  {
   "cell_type": "code",
   "execution_count": 22,
   "metadata": {},
   "outputs": [],
   "source": [
    "#función para imprimir los resultados de skipgram y CBOW\n",
    "def print_similar_words(skipgram, cbow ):\n",
    "    # Convert to DataFrame\n",
    "        df_compare = pd.DataFrame({\n",
    "            \"Skipgram\": [f\"{w} ({s:.3f})\" for w, s in skipgram],\n",
    "            \"CBOW\": [f\"{w} ({s:.3f})\" for w, s in cbow]\n",
    "        })\n",
    "\n",
    "        # Show as Markdown table\n",
    "        from tabulate import tabulate\n",
    "        print(tabulate(df_compare, headers=\"keys\", tablefmt=\"github\"))"
   ]
  },
  {
   "cell_type": "code",
   "execution_count": 24,
   "metadata": {},
   "outputs": [
    {
     "name": "stdout",
     "output_type": "stream",
     "text": [
      "|    | Skipgram           | CBOW             |\n",
      "|----|--------------------|------------------|\n",
      "|  0 | ron (0.784)        | ron (0.687)      |\n",
      "|  1 | hermione (0.761)   | hermione (0.612) |\n",
      "|  2 | back (0.611)       | hagrid (0.477)   |\n",
      "|  3 | said (0.597)       | cho (0.474)      |\n",
      "|  4 | ho (0.563)         | snape (0.457)    |\n",
      "|  5 | hagrid (0.543)     | ginny (0.445)    |\n",
      "|  6 | dumbledore (0.541) | quickly (0.433)  |\n",
      "|  7 | pansys (0.534)     | back (0.428)     |\n",
      "|  8 | harassed (0.527)   | neville (0.425)  |\n",
      "|  9 | yeah (0.526)       | lupin (0.409)    |\n"
     ]
    }
   ],
   "source": [
    "# Palabras que MÁS se relacionan con...: (skigram vs CBOW)\n",
    "skipgram = model_hp_potter.wv.most_similar(positive=[\"harry\"], topn=10)\n",
    "cbow = model_hp_potter_cbow.wv.most_similar(positive=[\"harry\"], topn=10)\n",
    "print_similar_words(skipgram, cbow )\n"
   ]
  },
  {
   "cell_type": "markdown",
   "metadata": {},
   "source": [
    "### Observación:\n",
    "- Es correcta la proximidad de Ron y Hermione a Harry en cbow, dado que los tres conforman el trio principal para toda la aventura. Esto refuerza el concepto que Cbow se enfoca en asociaciones directas, reflejadas en las relaciones de Harry\n",
    "- Skipgram posee un foco sobre las palabras que dan contexto alrededor de la palabra target, lo que refleja una asociación fuerte con las emociones o acciones de, en este caso, el personaje principal.\n"
   ]
  },
  {
   "cell_type": "code",
   "execution_count": 25,
   "metadata": {},
   "outputs": [
    {
     "name": "stdout",
     "output_type": "stream",
     "text": [
      "|    | Skipgram             | CBOW                 |\n",
      "|----|----------------------|----------------------|\n",
      "|  0 | kettle (0.154)       | deliberately (0.414) |\n",
      "|  1 | dancing (0.125)      | delight (0.381)      |\n",
      "|  2 | lavender (0.125)     | lavender (0.350)     |\n",
      "|  3 | filled (0.122)       | noisily (0.346)      |\n",
      "|  4 | chos (0.120)         | hangings (0.341)     |\n",
      "|  5 | mclaggen (0.114)     | wham (0.340)         |\n",
      "|  6 | lump (0.108)         | gathered (0.339)     |\n",
      "|  7 | glared (0.108)       | troy (0.337)         |\n",
      "|  8 | inexplicably (0.106) | frantically (0.337)  |\n",
      "|  9 | menacingly (0.104)   | entwined (0.329)     |\n"
     ]
    }
   ],
   "source": [
    "# Palabras que MENOS se relacionan con...:\n",
    "print_similar_words(model_hp_potter.wv.most_similar(negative=[\"magic\"], topn=10), model_hp_potter_cbow.wv.most_similar(negative=[\"magic\"], topn=10) ) \n"
   ]
  },
  {
   "cell_type": "code",
   "execution_count": 26,
   "metadata": {},
   "outputs": [
    {
     "name": "stdout",
     "output_type": "stream",
     "text": [
      "|    | Skipgram           | CBOW                |\n",
      "|----|--------------------|---------------------|\n",
      "|  0 | lord (0.786)       | voldemorts (0.670)  |\n",
      "|  1 | voldemorts (0.673) | youknowwho (0.457)  |\n",
      "|  2 | dumbledore (0.537) | faithful (0.447)    |\n",
      "|  3 | pitiless (0.520)   | prophecy (0.443)    |\n",
      "|  4 | hoodwinked (0.516) | nobody (0.434)      |\n",
      "|  5 | wormtail (0.511)   | dumbledore (0.432)  |\n",
      "|  6 | merciful (0.510)   | wormtail (0.429)    |\n",
      "|  7 | conquer (0.503)    | youknowwhos (0.419) |\n",
      "|  8 | faithful (0.502)   | snape (0.408)       |\n",
      "|  9 | destroying (0.500) | hallows (0.401)     |\n"
     ]
    }
   ],
   "source": [
    "# Palabras que MÁS se relacionan con...:\n",
    "print_similar_words(model_hp_potter.wv.most_similar(positive=[\"voldemort\"], topn=10), model_hp_potter_cbow.wv.most_similar(positive=[\"voldemort\"], topn=10) )"
   ]
  },
  {
   "cell_type": "code",
   "execution_count": 27,
   "metadata": {},
   "outputs": [
    {
     "ename": "KeyError",
     "evalue": "\"Key 'flor' not present in vocabulary\"",
     "output_type": "error",
     "traceback": [
      "\u001b[31m---------------------------------------------------------------------------\u001b[39m",
      "\u001b[31mKeyError\u001b[39m                                  Traceback (most recent call last)",
      "\u001b[36mCell\u001b[39m\u001b[36m \u001b[39m\u001b[32mIn[27]\u001b[39m\u001b[32m, line 2\u001b[39m\n\u001b[32m      1\u001b[39m \u001b[38;5;66;03m# Ensayar con una palabra que no está en el vocabulario:\u001b[39;00m\n\u001b[32m----> \u001b[39m\u001b[32m2\u001b[39m \u001b[43mmodel_hp_potter\u001b[49m\u001b[43m.\u001b[49m\u001b[43mwv\u001b[49m\u001b[43m.\u001b[49m\u001b[43mmost_similar\u001b[49m\u001b[43m(\u001b[49m\u001b[43mnegative\u001b[49m\u001b[43m=\u001b[49m\u001b[43m[\u001b[49m\u001b[33;43m\"\u001b[39;49m\u001b[33;43mflor\u001b[39;49m\u001b[33;43m\"\u001b[39;49m\u001b[43m]\u001b[49m\u001b[43m)\u001b[49m\n",
      "\u001b[36mFile \u001b[39m\u001b[32m~/Documents/CEIA/CEIA-NLP/.venv/lib/python3.12/site-packages/gensim/models/keyedvectors.py:841\u001b[39m, in \u001b[36mKeyedVectors.most_similar\u001b[39m\u001b[34m(self, positive, negative, topn, clip_start, clip_end, restrict_vocab, indexer)\u001b[39m\n\u001b[32m    838\u001b[39m         weight[idx] = item[\u001b[32m1\u001b[39m]\n\u001b[32m    840\u001b[39m \u001b[38;5;66;03m# compute the weighted average of all keys\u001b[39;00m\n\u001b[32m--> \u001b[39m\u001b[32m841\u001b[39m mean = \u001b[38;5;28;43mself\u001b[39;49m\u001b[43m.\u001b[49m\u001b[43mget_mean_vector\u001b[49m\u001b[43m(\u001b[49m\u001b[43mkeys\u001b[49m\u001b[43m,\u001b[49m\u001b[43m \u001b[49m\u001b[43mweight\u001b[49m\u001b[43m,\u001b[49m\u001b[43m \u001b[49m\u001b[43mpre_normalize\u001b[49m\u001b[43m=\u001b[49m\u001b[38;5;28;43;01mTrue\u001b[39;49;00m\u001b[43m,\u001b[49m\u001b[43m \u001b[49m\u001b[43mpost_normalize\u001b[49m\u001b[43m=\u001b[49m\u001b[38;5;28;43;01mTrue\u001b[39;49;00m\u001b[43m,\u001b[49m\u001b[43m \u001b[49m\u001b[43mignore_missing\u001b[49m\u001b[43m=\u001b[49m\u001b[38;5;28;43;01mFalse\u001b[39;49;00m\u001b[43m)\u001b[49m\n\u001b[32m    842\u001b[39m all_keys = [\n\u001b[32m    843\u001b[39m     \u001b[38;5;28mself\u001b[39m.get_index(key) \u001b[38;5;28;01mfor\u001b[39;00m key \u001b[38;5;129;01min\u001b[39;00m keys \u001b[38;5;28;01mif\u001b[39;00m \u001b[38;5;28misinstance\u001b[39m(key, _KEY_TYPES) \u001b[38;5;129;01mand\u001b[39;00m \u001b[38;5;28mself\u001b[39m.has_index_for(key)\n\u001b[32m    844\u001b[39m ]\n\u001b[32m    846\u001b[39m \u001b[38;5;28;01mif\u001b[39;00m indexer \u001b[38;5;129;01mis\u001b[39;00m \u001b[38;5;129;01mnot\u001b[39;00m \u001b[38;5;28;01mNone\u001b[39;00m \u001b[38;5;129;01mand\u001b[39;00m \u001b[38;5;28misinstance\u001b[39m(topn, \u001b[38;5;28mint\u001b[39m):\n",
      "\u001b[36mFile \u001b[39m\u001b[32m~/Documents/CEIA/CEIA-NLP/.venv/lib/python3.12/site-packages/gensim/models/keyedvectors.py:518\u001b[39m, in \u001b[36mKeyedVectors.get_mean_vector\u001b[39m\u001b[34m(self, keys, weights, pre_normalize, post_normalize, ignore_missing)\u001b[39m\n\u001b[32m    516\u001b[39m         total_weight += \u001b[38;5;28mabs\u001b[39m(weights[idx])\n\u001b[32m    517\u001b[39m     \u001b[38;5;28;01melif\u001b[39;00m \u001b[38;5;129;01mnot\u001b[39;00m ignore_missing:\n\u001b[32m--> \u001b[39m\u001b[32m518\u001b[39m         \u001b[38;5;28;01mraise\u001b[39;00m \u001b[38;5;167;01mKeyError\u001b[39;00m(\u001b[33mf\u001b[39m\u001b[33m\"\u001b[39m\u001b[33mKey \u001b[39m\u001b[33m'\u001b[39m\u001b[38;5;132;01m{\u001b[39;00mkey\u001b[38;5;132;01m}\u001b[39;00m\u001b[33m'\u001b[39m\u001b[33m not present in vocabulary\u001b[39m\u001b[33m\"\u001b[39m)\n\u001b[32m    520\u001b[39m \u001b[38;5;28;01mif\u001b[39;00m total_weight > \u001b[32m0\u001b[39m:\n\u001b[32m    521\u001b[39m     mean = mean / total_weight\n",
      "\u001b[31mKeyError\u001b[39m: \"Key 'flor' not present in vocabulary\""
     ]
    }
   ],
   "source": [
    "# Ensayar con una palabra que no está en el vocabulario:\n",
    "model_hp_potter.wv.most_similar(negative=[\"flor\"])"
   ]
  },
  {
   "cell_type": "code",
   "execution_count": 28,
   "metadata": {},
   "outputs": [
    {
     "name": "stdout",
     "output_type": "stream",
     "text": [
      "|    | Skipgram          | CBOW              |\n",
      "|----|-------------------|-------------------|\n",
      "|  0 | cross (0.587)     | road (0.422)      |\n",
      "|  1 | kings (0.565)     | kings (0.411)     |\n",
      "|  2 | platform (0.514)  | town (0.379)      |\n",
      "|  3 | charing (0.502)   | hogsmeade (0.371) |\n",
      "|  4 | road (0.498)      | cobbled (0.363)   |\n",
      "|  5 | twos (0.491)      | garden (0.355)    |\n",
      "|  6 | doorstep (0.488)  | lane (0.351)      |\n",
      "|  7 | bustle (0.482)    | charing (0.347)   |\n",
      "|  8 | platforms (0.478) | bounding (0.347)  |\n",
      "|  9 | london (0.473)    | owlery (0.346)    |\n"
     ]
    }
   ],
   "source": [
    "# Palabras que MÁS se relacionan con...:\n",
    "print_similar_words( model_hp_potter.wv.most_similar(positive=[\"station\"], topn=10), model_hp_potter_cbow.wv.most_similar(positive=[\"station\"], topn=10) )"
   ]
  },
  {
   "cell_type": "code",
   "execution_count": 29,
   "metadata": {},
   "outputs": [
    {
     "name": "stdout",
     "output_type": "stream",
     "text": [
      "[-0.0144272   0.05938755  0.05203345 -0.39078772  0.22168623 -0.28830454\n",
      "  0.06266569  0.38287532 -0.4089668   0.21668044 -0.45236993  0.35154894\n",
      "  0.22825393  0.18412986 -0.3883976  -0.10463033  0.77708906  0.26716182\n",
      " -0.47313967 -0.4485316   0.18065226  0.28218904  0.05533827 -0.30032116\n",
      " -0.06195628 -0.17393777 -0.10740775  0.29724106 -0.08157198 -0.12165734\n",
      " -0.3137081   0.09953272 -0.19349623  0.02229697 -0.12111918  0.53177065\n",
      " -0.32009712 -0.17851384 -0.08166971 -0.21678805  0.60667807  0.31987542\n",
      "  0.19648829  0.06204046 -0.19431725 -0.04423736  0.26678056  0.32394195\n",
      "  0.29124767  0.31853005  0.3135923   0.27029318  0.21145275 -0.38112223\n",
      "  0.0284159   0.2261127  -0.3694094   0.41864222  0.12789497  0.2795231\n",
      " -0.5208892   0.43165505  0.28500116 -0.4440597  -0.26811352 -0.02778219\n",
      "  0.30584773  0.29038617 -0.17952451  0.36685646 -0.3822276   0.00530026\n",
      "  0.61005425  0.297594    0.3202067   0.3806472  -0.13455449 -0.38945192\n",
      "  0.07230443  0.04184896  0.18631652  0.27131325 -0.13074587 -0.16313858\n",
      "  0.28506705 -0.21501821 -0.21624324  0.16527162  0.31306925  0.06715386\n",
      "  0.2303014  -0.2802386   0.2951115   0.07278447  0.44041124  0.05622931\n",
      "  0.17425217 -0.15154287  0.28741115 -0.41043627]\n"
     ]
    }
   ],
   "source": [
    "# el método `get_vector` permite obtener los vectores:\n",
    "vector_potter = model_hp_potter.wv.get_vector(\"potter\")\n",
    "print(vector_potter)"
   ]
  },
  {
   "cell_type": "markdown",
   "metadata": {},
   "source": [
    "### Visualización de los vectores:"
   ]
  },
  {
   "cell_type": "code",
   "execution_count": 30,
   "metadata": {},
   "outputs": [],
   "source": [
    "from sklearn.decomposition import IncrementalPCA    \n",
    "from sklearn.manifold import TSNE                   \n",
    "import numpy as np                                  \n",
    "\n",
    "def reduce_dimensions(model, num_dimensions = 2 ):\n",
    "     \n",
    "    vectors = np.asarray(model.wv.vectors)\n",
    "    labels = np.asarray(model.wv.index_to_key)  \n",
    "\n",
    "    tsne = TSNE(n_components=num_dimensions, random_state=0)\n",
    "    vectors = tsne.fit_transform(vectors)\n",
    "\n",
    "    return vectors, labels"
   ]
  },
  {
   "cell_type": "code",
   "execution_count": 31,
   "metadata": {},
   "outputs": [],
   "source": [
    "import plotly.io as pio\n",
    "pio.renderers.default = \"vscode\"   # try this first\n",
    "# pio.renderers.default = \"browser\"   # fallback → opens interactive chart in browser\n"
   ]
  },
  {
   "cell_type": "code",
   "execution_count": 32,
   "metadata": {},
   "outputs": [],
   "source": [
    "# Graficar los embedddings en 2D\n",
    "import pandas as pd\n",
    "import plotly.express as px\n",
    "import kaleido  # Necesario para guardar imágenes estáticas\n",
    "\n",
    "\n",
    "MAX_WORDS = 200\n",
    "# Reducir Skip-gram y CBOW a 3D\n",
    "vecs_skip, labels_skip = reduce_dimensions(model_hp_potter, 2)\n",
    "vecs_cbow, labels_cbow = reduce_dimensions(model_hp_potter_cbow, 2)\n",
    "\n",
    "# DataFrame para Skip-gram\n",
    "df_skip = pd.DataFrame({\n",
    "    \"x\": vecs_skip[:MAX_WORDS, 0],\n",
    "    \"y\": vecs_skip[:MAX_WORDS, 1],\n",
    "    \"word\": labels_skip[:MAX_WORDS],\n",
    "    \"model\": [\"Skip-gram\"] * MAX_WORDS\n",
    "})\n",
    "\n",
    "# DataFrame para CBOW\n",
    "df_cbow = pd.DataFrame({\n",
    "    \"x\": vecs_cbow[:MAX_WORDS, 0],\n",
    "    \"y\": vecs_cbow[:MAX_WORDS, 1],\n",
    "    \"word\": labels_cbow[:MAX_WORDS],\n",
    "    \"model\": [\"CBOW\"] * MAX_WORDS\n",
    "})\n",
    "\n",
    "# Concatenanar ambos DataFrames\n",
    "df_plot = pd.concat([df_skip, df_cbow])\n",
    "\n",
    "# Scatter plot con color por modelo\n",
    "fig = px.scatter(\n",
    "    df_plot, x=\"x\", y=\"y\", text=\"word\", color=\"model\",\n",
    "    title=\"Skip-gram vs CBOW Embeddings (proyección 2D)\"\n",
    ")\n",
    "\n",
    "fig.update_traces(textposition=\"top center\")  # move labels so they don’t overlap too much\n",
    "fig.write_image(\"./images/Embeddings2d.png\")   # static PNG"
   ]
  },
  {
   "cell_type": "markdown",
   "metadata": {},
   "source": [
    "#### Embedding 2D:\n",
    "![visualizacion del embedding en 2D](./images/Embeddings2d.png)"
   ]
  },
  {
   "cell_type": "code",
   "execution_count": 33,
   "metadata": {},
   "outputs": [
    {
     "data": {
      "application/vnd.plotly.v1+json": {
       "config": {
        "plotlyServerURL": "https://plot.ly"
       },
       "data": [
        {
         "marker": {
          "color": "blue",
          "size": 3
         },
         "mode": "markers+text",
         "name": "Skip-gram",
         "scene": "scene",
         "text": [
          "harry",
          "said",
          "ron",
          "hermione",
          "back",
          "dumbledore",
          "could",
          "one",
          "like",
          "looked",
          "would",
          "know",
          "around",
          "well",
          "got",
          "professor",
          "see",
          "dont",
          "though",
          "think",
          "still",
          "time",
          "hagrid",
          "get",
          "right",
          "eyes",
          "wand",
          "looking",
          "snape",
          "face",
          "voice",
          "weasley",
          "going",
          "harrys",
          "look",
          "go",
          "didnt",
          "room",
          "im",
          "come",
          "head",
          "door",
          "thought",
          "mr",
          "something",
          "potter",
          "saw",
          "malfoy",
          "never",
          "behind",
          "seemed",
          "hand",
          "way",
          "away",
          "hes",
          "told",
          "asked",
          "turned",
          "two",
          "last",
          "toward",
          "much",
          "dark",
          "little",
          "us",
          "long",
          "even",
          "voldemort",
          "sirius",
          "knew",
          "first",
          "good",
          "want",
          "oh",
          "tell",
          "made",
          "heard",
          "people",
          "hogwarts",
          "left",
          "yes",
          "really",
          "say",
          "moment",
          "felt",
          "mrs",
          "youre",
          "fred",
          "great",
          "black",
          "thats",
          "might",
          "ive",
          "front",
          "ever",
          "came",
          "death",
          "feet",
          "take",
          "anything",
          "sure",
          "lupin",
          "next",
          "took",
          "nothing",
          "trying",
          "three",
          "make",
          "another",
          "cant",
          "let",
          "george",
          "yeah",
          "table",
          "open",
          "old",
          "ginny",
          "inside",
          "went",
          "find",
          "mcgonagall",
          "must",
          "course",
          "neville",
          "large",
          "magic",
          "put",
          "ill",
          "school",
          "floor",
          "upon",
          "every",
          "thing",
          "hall",
          "gave",
          "seen",
          "place",
          "found",
          "hands",
          "stood",
          "hear",
          "need",
          "night",
          "without",
          "ministry",
          "onto",
          "house",
          "uncle",
          "mean",
          "pulled"
         ],
         "textposition": "middle center",
         "type": "scatter3d",
         "x": {
          "bdata": "CykrwXpGHkOIIKjAdFEywc2Jo8F2ZEdBwu8BQSDRLz+EKFlBpvwzwSmdykHSTopBEl6AwYrz/8KxKNNA2vWiQUjyUcAkGnZBqbXhwm+yl0Fip1jA7UfcQCYvjcEL2g5BvhuAwyrJL0BDjAfBhj5YwRV5bUHW4K1AQq+MP6Kaur0Cdeo/9bp3wBv/WsF9ulNBrMlRQfo24cGdo+5AHCTrweeY0cEsFtbBVEQKQbpdGkClSiXAOondQUdPEUKbyuzB5eWVQQgSEMIICktBkR2uwX7xhUANEhHBdDdNQfAtxEGy7YU9EvbGwU1sBL7s60dAoXuewb0pokHQnybAbaBdQFqQnkGV6SjA65IzwTo62EHa3bK/FwaKQZvz6UAkAhS/7lpxQcKEK0GM4bxBgW6xP7jNhcHDeMxAtfKsQSnfPMHJbI5BHlIfQVoPXkGyw73BZv/eP3kDxL9RFeNADlJ3waDj5cDHwoU/4L1CQUJUoUFYm05Ad7bUwSWdLUG+9ljBWiVpQTeoA8KNypZBFelAQftKZEHsVZLALt+hwBoUDcEQsyFB8nnlQKs8gz+WlHdB3GMVPldCkkEGz+TARAxtwSgSTcCsvCTCRpO0weBoNkEQQ4TBsJsHQEwkLsFwv9RBZcKhQRV2GUIT/B5CZRSgwXrg/7/HSkJCTqYdQEPMg0FsC6ZBSYwNwkfvJkGrxx5Ac2I9QQj3fsHuyIbByOxMQfEqAkGhO47AZmLcwZw3B8KZKi3BRonLQW9yij/u7adAH4VCQuWHGcJeFwrAk7bzwfsgEkGQypLB",
          "dtype": "f4"
         },
         "y": {
          "bdata": "F60JQ5cdhEPJ9iLD28O/QS0zOMH9CClCAhnwwC2tkcFi/yxBiPa3wW6rFMEKV2BBoDCnQbrKQsMFio9BLPMPQiQgHEC/9INB+L9Yw9ULWUGwFbLAVwjWwWOP1UEfzA9Am442xBkNHcKN2U9BfAkDQoqewEHddrpBOvYLQpxg2UHfUlNAu07qwGl/2UFndftAkr5hQWNmrsEmVwBChZWDwqe7rEF5NyU/aERowPFD2UEA16RAXByrQW6smkKwWCpBC1amvxaOkT7VgO7BEtokQXGpAsHxvWzBhNLYQaswhUH/PfdBJMrMwPZUtMGXYsTBn0ttwekvCsHZT67BbVJKQYEgEEHQePtABfQmP67K4MBu1R5BxyOawItNzcHzwhpBWu9gQZi1HUJ8hhNB+jALQCxMN0BHtYnB3wrPwX/Id8EygiBCeHqnQc3kkkHvmBTBvP00ws9M40EUO+5BbjY5QYG1i8F9nQxBhsDTQXBJMsGPOaNByMQMwWeiYMBLwQbB07MfwZ6I27+VIz8/S1c0QVuEskBGqABCArTdwTX0Vr+ivTzA/VIqwaTsx8GLPLJA4jCBweExgkH/05lBsxBFQQaPFEL9pazBWES0v6fmN0Bhe4ZBrZ6dwFPXqMEs0knBg0YSQsSIkUBgNHRB+Sw6QekulsBIFLvA9KG1wHOHcEFMHc/BGfJVwXQdTMGt4gfChGG+P3tay8E9DeBB/BkmwPDVpMHN/3XBqkkXQWomE8Fu/aNAGNHIQCK4G8IyLU3BzPPEwBpjusC0YLzB/7hEQr46iUEiiFs+",
          "dtype": "f4"
         },
         "z": {
          "bdata": "3oFtwpc+4MKxk3dAjmWVQChw/8Bnx8zCJJwtwGptpz+TMqvBf4omwX/4A0HdfaVBdSbPwdqIqMFl9w1CuIQBwXTz9EAZ8clBCY+mQ45Tp0F5kjS/TlGCQaFfAkKMfBFC6S03Q4oe9MHBH9HBZAHXQDGKMsEuzwfCndljwU71OcDCk9pBawmswVqZ8r5jmyFC2OCmQa1HQUAhe+ZBQR+sQa2XtsFRHRnBvSedQTY3QsAWgz1Ayzw7wPXir8IXCJVBA7/9QEF5RMH7CeTAeH7owT/y68CYxWPBIcIBQniSXEHMi5pBCwE4wHs6Ib6l4RlB64QUweUMF7/Y2IzB2hS5wTlMq0HJNyzCNpgiQjTHfcG5wTdB97ejQG2FZEEcicVBaXfNQaFGsEE6nnxBEwdZwalgc8B2FBPBAgKAQR0ilUGGYmZBnxamQTKJPkG1aJVB5M6bv74FfcC4JeVBpxzOQdRDCcAC4BrCUJDfQRTlfUGdOA1CmyZMwWzwzkD7PDvAPJujwafs68EA/PVBfgFdQcWSYb9r8ppAUlWgQerbxcHlrSfBvHp5wGB8z74ndaPA8l2HPFZg/EGnH2NBcnrWQZ3y2UELBpm/AHJtwaUi88EzCnxBjb/SwYu8I0FHA9RBApAZwXKM2kD8vohBpzQ1QShgF8J+mYw+RmVawd6SFELBw4xBJ17OwdxZ6sFxXWBAYTVrQSLfjsCzAeXA8NbfQNQ9vUGUDwNBYLcFwg9SCMEl7fc+l6P4Qd8SW0FDwk1BiAMQQIl/o8GOBQBCUZJPwDannEFZGM/B",
          "dtype": "f4"
         }
        },
        {
         "marker": {
          "color": "red",
          "size": 3
         },
         "mode": "markers+text",
         "name": "CBOW",
         "scene": "scene2",
         "text": [
          "harry",
          "said",
          "ron",
          "hermione",
          "back",
          "dumbledore",
          "could",
          "one",
          "like",
          "looked",
          "would",
          "know",
          "around",
          "well",
          "got",
          "professor",
          "see",
          "dont",
          "though",
          "think",
          "still",
          "time",
          "hagrid",
          "get",
          "right",
          "eyes",
          "wand",
          "looking",
          "snape",
          "face",
          "voice",
          "weasley",
          "going",
          "harrys",
          "look",
          "go",
          "didnt",
          "room",
          "im",
          "come",
          "head",
          "door",
          "thought",
          "mr",
          "something",
          "potter",
          "saw",
          "malfoy",
          "never",
          "behind",
          "seemed",
          "hand",
          "way",
          "away",
          "hes",
          "told",
          "asked",
          "turned",
          "two",
          "last",
          "toward",
          "much",
          "dark",
          "little",
          "us",
          "long",
          "even",
          "voldemort",
          "sirius",
          "knew",
          "first",
          "good",
          "want",
          "oh",
          "tell",
          "made",
          "heard",
          "people",
          "hogwarts",
          "left",
          "yes",
          "really",
          "say",
          "moment",
          "felt",
          "mrs",
          "youre",
          "fred",
          "great",
          "black",
          "thats",
          "might",
          "ive",
          "front",
          "ever",
          "came",
          "death",
          "feet",
          "take",
          "anything",
          "sure",
          "lupin",
          "next",
          "took",
          "nothing",
          "trying",
          "three",
          "make",
          "another",
          "cant",
          "let",
          "george",
          "yeah",
          "table",
          "open",
          "old",
          "ginny",
          "inside",
          "went",
          "find",
          "mcgonagall",
          "must",
          "course",
          "neville",
          "large",
          "magic",
          "put",
          "ill",
          "school",
          "floor",
          "upon",
          "every",
          "thing",
          "hall",
          "gave",
          "seen",
          "place",
          "found",
          "hands",
          "stood",
          "hear",
          "need",
          "night",
          "without",
          "ministry",
          "onto",
          "house",
          "uncle",
          "mean",
          "pulled"
         ],
         "textposition": "middle center",
         "type": "scatter3d",
         "x": {
          "bdata": "dn5Dwp8cDsLjpE3C5HVUwpRRM8IvNQTCJte0QXznBUJKohHCJunrwRFJIUIgbyFCZkUtwqk8yr/FjedBXizAQWUpRELb7RjBhia5wezcHEJuUg1BCtxrQmUHQsJW005CJNQnwgt8wUEVN4PCJF/vwRn2CsJlq5/BC+uiwFo0eEKzR0Y/auyTwSvtw0GmJEpCVpcFwVOlRsHaAG7CTQ5SQqT2PcKxWvBBaqS2QU09LbyW2vJA9Z2BQbok1kG7wDzCPmKSQNbjmsGrripC+HJTwmdv78FllSnChT2JwZgdKEJs5gfCZ/A1wliwnUADyD1BQbLhwZ49rkHt8FHBa60XP3q2VsGp2V1CzZ68QU5dt0HiCDzAd0kpQvOOLUGehy8/GlyjQRDbIcKH/ylCbDNIQmWzY8FwbJPAmuYmQqXnIEKn+DrCSrgnQj/bKkJ88TnCmiU3QB4DBMBYIG7CZeavwUAeCELysMY+gsJXwQQXH0LOVePBCxSFwR1x5kDpzU9CQ4NJQkuvHcJi5hxCki0UQc++M0JQMQvC4JXjQV5qcsLcrKhAuN+lQXHYB79VC0FCMpMMQQFtFsHEQ6m/KwajwWCeTMJVTyXCLInwwddJOEJRdU3CdrwBwduwWsKx5ElC5cMmwsjjLkK3EAJCOutawpH6t0AoebxBBxEiwe8ZzsDd7CNCx+4Rwm5XqUHWhzFBi+BGQoGuy8EM4ltAxuhNQUwWcEKE2wJC5C5QwkCoJMJZxztCaeKjQarpZkLOiOHAbJtiQdVsqsHQzOLAQe7AwTTFHEJNTFHC",
          "dtype": "f4"
         },
         "y": {
          "bdata": "+hT7QZBQNkKDgfZBTGH8Qd3I5EG0rxpC7CtTQvlAssGKJjdCBLj8QY3T50E9aSJCILz7QeLKiUJPuBtBXNhUQpsFNEK0wIhCus5bQnNnHkIPzXpCqhjbwdt3/kEfmU1AnJ67QYBzKULoIBZBb1gCQj+cH0KNem5B8H9xQobMsUADI8VBB76qQQ4MaUJ7vh4/SKCGQpQoTsK0xtFBToGiP17MjEFrxRFC7J0fQgTOEMItpShCQeDeQSLb50DKmg5CznRgQYQoV8Au7LZBjz7xQBh9qUG9B+FBEJweQQ0lQEJHmzZCClCxQVfXGcIG7QPCIAHXQUvu00FTeZTBRJX3QX/S2sC/UQXCRurNQdgXMUJ6FzXCJ3U8QTPQ/8EyoYpCbQh9QgscJULjVi5Cx4gBQoLLZkL46JHBZNrlwZeLG8FcMgRCRhsVQhTyI0I49LfBKi9SQsBCEsLnxMZB4jp0QdAYVkE4H+1A1MVtQusg3UH1NKZBouRvwLmKakHUdOFB5jr+PxzsOUHQt4nBN78rQiw6FsGHGRpCagtBwsOoSkG6XSdCrCtDQtgkJMIiAAFClOsrwmIbiEJl4ji/FLA8wlgzzEF/4xbCrE+VQT21j8H2hOZBCDuMQaS8ecFcizZCDXsMQk4x6UH2FZW+3r/qQYtm+8BfaAnCM+wywi+phkJqld7BIxUiwr5FCkFm0yzCC9AEQck7QMKRh1xCc7ywQetjssEsdxpBF1z9QJH1o0CuKTJCMV13Qj6a18FR/R7CcrYBwjBfE0IZPFPCruAdQvevJ0L1aYzA",
          "dtype": "f4"
         },
         "z": {
          "bdata": "T54CQc4xlsGy6edAjZMFQeKujUDtmvHBXeyFQaAhOsEUmZTAqsshwmoYAkLl4SDBCyA3QA0XSUDDBuTAGp/1wf44l8BBPZFANY9iQWb7E8Gyjg/A0pXJPrJ9rEDQ6djBCg6qwFt4AMJaVGpBwkQmwjBvAMKAXivCCl1wQXoHVsE08wxCPOB1wTcMmcH12cPBhybZQOfr90AW4mbBTlW+wV9/WUHaVjnC26myQUSuVEKeWxRCxQhPQpxpZcITAoRBZuJdQp3+csGhX9tBqkF8QB12ukHzOL9AFW4HQrBQPcEtN5zBxfC4wWhgdcF2fyxCg5eawUO9AkKCu3tC/ZezQSkZzkEpFbnBswYGQtDzQEKb5ihC6fk/QXhVLkIdtwpA6gCOQRyblMF6fCbBH2lOQauywMGujHhCjOEmQmzMFsJjsabBE+MDwV/qBsG1Mg9CYYIKQnA/UULepGLBilLJQdvTakLKGQHCnYtqQSGyAkJzujFCnjOPwcyVXkKgvJvBqJhRQJTWxEH9VTfBLN8VQminTkJVyOTBDPbnwC+H90GRtRtCGCGVQYDoisGBdzFBFrUtQmS9cz+NTKZBW0sPwrBGXcHh2Pc/Vic9wrk3hcGEGxFB88iHQgM2HkLbAInA2WUGwsF3AEK5gNdBcTTxQFCtJ8JbpwZCBlJ0QL6m6T9s6SlC4mGMQFF9dMLyqSpCCaAoQtqmCUEbYU1BPMexQZv6z0CYJa3AO6ujQPn/HMJ4i6PAodOTQX9EEUBoS9xB4RmMQbn90MGOGVtByarwQds2M8FeN5TB",
          "dtype": "f4"
         }
        }
       ],
       "layout": {
        "annotations": [
         {
          "font": {
           "size": 16
          },
          "showarrow": false,
          "text": "Skip-gram Embeddings",
          "x": 0.225,
          "xanchor": "center",
          "xref": "paper",
          "y": 1,
          "yanchor": "bottom",
          "yref": "paper"
         },
         {
          "font": {
           "size": 16
          },
          "showarrow": false,
          "text": "CBOW Embeddings",
          "x": 0.775,
          "xanchor": "center",
          "xref": "paper",
          "y": 1,
          "yanchor": "bottom",
          "yref": "paper"
         }
        ],
        "height": 700,
        "scene": {
         "domain": {
          "x": [
           0,
           0.45
          ],
          "y": [
           0,
           1
          ]
         }
        },
        "scene2": {
         "domain": {
          "x": [
           0.55,
           1
          ],
          "y": [
           0,
           1
          ]
         }
        },
        "showlegend": true,
        "template": {
         "data": {
          "bar": [
           {
            "error_x": {
             "color": "#2a3f5f"
            },
            "error_y": {
             "color": "#2a3f5f"
            },
            "marker": {
             "line": {
              "color": "#E5ECF6",
              "width": 0.5
             },
             "pattern": {
              "fillmode": "overlay",
              "size": 10,
              "solidity": 0.2
             }
            },
            "type": "bar"
           }
          ],
          "barpolar": [
           {
            "marker": {
             "line": {
              "color": "#E5ECF6",
              "width": 0.5
             },
             "pattern": {
              "fillmode": "overlay",
              "size": 10,
              "solidity": 0.2
             }
            },
            "type": "barpolar"
           }
          ],
          "carpet": [
           {
            "aaxis": {
             "endlinecolor": "#2a3f5f",
             "gridcolor": "white",
             "linecolor": "white",
             "minorgridcolor": "white",
             "startlinecolor": "#2a3f5f"
            },
            "baxis": {
             "endlinecolor": "#2a3f5f",
             "gridcolor": "white",
             "linecolor": "white",
             "minorgridcolor": "white",
             "startlinecolor": "#2a3f5f"
            },
            "type": "carpet"
           }
          ],
          "choropleth": [
           {
            "colorbar": {
             "outlinewidth": 0,
             "ticks": ""
            },
            "type": "choropleth"
           }
          ],
          "contour": [
           {
            "colorbar": {
             "outlinewidth": 0,
             "ticks": ""
            },
            "colorscale": [
             [
              0,
              "#0d0887"
             ],
             [
              0.1111111111111111,
              "#46039f"
             ],
             [
              0.2222222222222222,
              "#7201a8"
             ],
             [
              0.3333333333333333,
              "#9c179e"
             ],
             [
              0.4444444444444444,
              "#bd3786"
             ],
             [
              0.5555555555555556,
              "#d8576b"
             ],
             [
              0.6666666666666666,
              "#ed7953"
             ],
             [
              0.7777777777777778,
              "#fb9f3a"
             ],
             [
              0.8888888888888888,
              "#fdca26"
             ],
             [
              1,
              "#f0f921"
             ]
            ],
            "type": "contour"
           }
          ],
          "contourcarpet": [
           {
            "colorbar": {
             "outlinewidth": 0,
             "ticks": ""
            },
            "type": "contourcarpet"
           }
          ],
          "heatmap": [
           {
            "colorbar": {
             "outlinewidth": 0,
             "ticks": ""
            },
            "colorscale": [
             [
              0,
              "#0d0887"
             ],
             [
              0.1111111111111111,
              "#46039f"
             ],
             [
              0.2222222222222222,
              "#7201a8"
             ],
             [
              0.3333333333333333,
              "#9c179e"
             ],
             [
              0.4444444444444444,
              "#bd3786"
             ],
             [
              0.5555555555555556,
              "#d8576b"
             ],
             [
              0.6666666666666666,
              "#ed7953"
             ],
             [
              0.7777777777777778,
              "#fb9f3a"
             ],
             [
              0.8888888888888888,
              "#fdca26"
             ],
             [
              1,
              "#f0f921"
             ]
            ],
            "type": "heatmap"
           }
          ],
          "histogram": [
           {
            "marker": {
             "pattern": {
              "fillmode": "overlay",
              "size": 10,
              "solidity": 0.2
             }
            },
            "type": "histogram"
           }
          ],
          "histogram2d": [
           {
            "colorbar": {
             "outlinewidth": 0,
             "ticks": ""
            },
            "colorscale": [
             [
              0,
              "#0d0887"
             ],
             [
              0.1111111111111111,
              "#46039f"
             ],
             [
              0.2222222222222222,
              "#7201a8"
             ],
             [
              0.3333333333333333,
              "#9c179e"
             ],
             [
              0.4444444444444444,
              "#bd3786"
             ],
             [
              0.5555555555555556,
              "#d8576b"
             ],
             [
              0.6666666666666666,
              "#ed7953"
             ],
             [
              0.7777777777777778,
              "#fb9f3a"
             ],
             [
              0.8888888888888888,
              "#fdca26"
             ],
             [
              1,
              "#f0f921"
             ]
            ],
            "type": "histogram2d"
           }
          ],
          "histogram2dcontour": [
           {
            "colorbar": {
             "outlinewidth": 0,
             "ticks": ""
            },
            "colorscale": [
             [
              0,
              "#0d0887"
             ],
             [
              0.1111111111111111,
              "#46039f"
             ],
             [
              0.2222222222222222,
              "#7201a8"
             ],
             [
              0.3333333333333333,
              "#9c179e"
             ],
             [
              0.4444444444444444,
              "#bd3786"
             ],
             [
              0.5555555555555556,
              "#d8576b"
             ],
             [
              0.6666666666666666,
              "#ed7953"
             ],
             [
              0.7777777777777778,
              "#fb9f3a"
             ],
             [
              0.8888888888888888,
              "#fdca26"
             ],
             [
              1,
              "#f0f921"
             ]
            ],
            "type": "histogram2dcontour"
           }
          ],
          "mesh3d": [
           {
            "colorbar": {
             "outlinewidth": 0,
             "ticks": ""
            },
            "type": "mesh3d"
           }
          ],
          "parcoords": [
           {
            "line": {
             "colorbar": {
              "outlinewidth": 0,
              "ticks": ""
             }
            },
            "type": "parcoords"
           }
          ],
          "pie": [
           {
            "automargin": true,
            "type": "pie"
           }
          ],
          "scatter": [
           {
            "fillpattern": {
             "fillmode": "overlay",
             "size": 10,
             "solidity": 0.2
            },
            "type": "scatter"
           }
          ],
          "scatter3d": [
           {
            "line": {
             "colorbar": {
              "outlinewidth": 0,
              "ticks": ""
             }
            },
            "marker": {
             "colorbar": {
              "outlinewidth": 0,
              "ticks": ""
             }
            },
            "type": "scatter3d"
           }
          ],
          "scattercarpet": [
           {
            "marker": {
             "colorbar": {
              "outlinewidth": 0,
              "ticks": ""
             }
            },
            "type": "scattercarpet"
           }
          ],
          "scattergeo": [
           {
            "marker": {
             "colorbar": {
              "outlinewidth": 0,
              "ticks": ""
             }
            },
            "type": "scattergeo"
           }
          ],
          "scattergl": [
           {
            "marker": {
             "colorbar": {
              "outlinewidth": 0,
              "ticks": ""
             }
            },
            "type": "scattergl"
           }
          ],
          "scattermap": [
           {
            "marker": {
             "colorbar": {
              "outlinewidth": 0,
              "ticks": ""
             }
            },
            "type": "scattermap"
           }
          ],
          "scattermapbox": [
           {
            "marker": {
             "colorbar": {
              "outlinewidth": 0,
              "ticks": ""
             }
            },
            "type": "scattermapbox"
           }
          ],
          "scatterpolar": [
           {
            "marker": {
             "colorbar": {
              "outlinewidth": 0,
              "ticks": ""
             }
            },
            "type": "scatterpolar"
           }
          ],
          "scatterpolargl": [
           {
            "marker": {
             "colorbar": {
              "outlinewidth": 0,
              "ticks": ""
             }
            },
            "type": "scatterpolargl"
           }
          ],
          "scatterternary": [
           {
            "marker": {
             "colorbar": {
              "outlinewidth": 0,
              "ticks": ""
             }
            },
            "type": "scatterternary"
           }
          ],
          "surface": [
           {
            "colorbar": {
             "outlinewidth": 0,
             "ticks": ""
            },
            "colorscale": [
             [
              0,
              "#0d0887"
             ],
             [
              0.1111111111111111,
              "#46039f"
             ],
             [
              0.2222222222222222,
              "#7201a8"
             ],
             [
              0.3333333333333333,
              "#9c179e"
             ],
             [
              0.4444444444444444,
              "#bd3786"
             ],
             [
              0.5555555555555556,
              "#d8576b"
             ],
             [
              0.6666666666666666,
              "#ed7953"
             ],
             [
              0.7777777777777778,
              "#fb9f3a"
             ],
             [
              0.8888888888888888,
              "#fdca26"
             ],
             [
              1,
              "#f0f921"
             ]
            ],
            "type": "surface"
           }
          ],
          "table": [
           {
            "cells": {
             "fill": {
              "color": "#EBF0F8"
             },
             "line": {
              "color": "white"
             }
            },
            "header": {
             "fill": {
              "color": "#C8D4E3"
             },
             "line": {
              "color": "white"
             }
            },
            "type": "table"
           }
          ]
         },
         "layout": {
          "annotationdefaults": {
           "arrowcolor": "#2a3f5f",
           "arrowhead": 0,
           "arrowwidth": 1
          },
          "autotypenumbers": "strict",
          "coloraxis": {
           "colorbar": {
            "outlinewidth": 0,
            "ticks": ""
           }
          },
          "colorscale": {
           "diverging": [
            [
             0,
             "#8e0152"
            ],
            [
             0.1,
             "#c51b7d"
            ],
            [
             0.2,
             "#de77ae"
            ],
            [
             0.3,
             "#f1b6da"
            ],
            [
             0.4,
             "#fde0ef"
            ],
            [
             0.5,
             "#f7f7f7"
            ],
            [
             0.6,
             "#e6f5d0"
            ],
            [
             0.7,
             "#b8e186"
            ],
            [
             0.8,
             "#7fbc41"
            ],
            [
             0.9,
             "#4d9221"
            ],
            [
             1,
             "#276419"
            ]
           ],
           "sequential": [
            [
             0,
             "#0d0887"
            ],
            [
             0.1111111111111111,
             "#46039f"
            ],
            [
             0.2222222222222222,
             "#7201a8"
            ],
            [
             0.3333333333333333,
             "#9c179e"
            ],
            [
             0.4444444444444444,
             "#bd3786"
            ],
            [
             0.5555555555555556,
             "#d8576b"
            ],
            [
             0.6666666666666666,
             "#ed7953"
            ],
            [
             0.7777777777777778,
             "#fb9f3a"
            ],
            [
             0.8888888888888888,
             "#fdca26"
            ],
            [
             1,
             "#f0f921"
            ]
           ],
           "sequentialminus": [
            [
             0,
             "#0d0887"
            ],
            [
             0.1111111111111111,
             "#46039f"
            ],
            [
             0.2222222222222222,
             "#7201a8"
            ],
            [
             0.3333333333333333,
             "#9c179e"
            ],
            [
             0.4444444444444444,
             "#bd3786"
            ],
            [
             0.5555555555555556,
             "#d8576b"
            ],
            [
             0.6666666666666666,
             "#ed7953"
            ],
            [
             0.7777777777777778,
             "#fb9f3a"
            ],
            [
             0.8888888888888888,
             "#fdca26"
            ],
            [
             1,
             "#f0f921"
            ]
           ]
          },
          "colorway": [
           "#636efa",
           "#EF553B",
           "#00cc96",
           "#ab63fa",
           "#FFA15A",
           "#19d3f3",
           "#FF6692",
           "#B6E880",
           "#FF97FF",
           "#FECB52"
          ],
          "font": {
           "color": "#2a3f5f"
          },
          "geo": {
           "bgcolor": "white",
           "lakecolor": "white",
           "landcolor": "#E5ECF6",
           "showlakes": true,
           "showland": true,
           "subunitcolor": "white"
          },
          "hoverlabel": {
           "align": "left"
          },
          "hovermode": "closest",
          "mapbox": {
           "style": "light"
          },
          "paper_bgcolor": "white",
          "plot_bgcolor": "#E5ECF6",
          "polar": {
           "angularaxis": {
            "gridcolor": "white",
            "linecolor": "white",
            "ticks": ""
           },
           "bgcolor": "#E5ECF6",
           "radialaxis": {
            "gridcolor": "white",
            "linecolor": "white",
            "ticks": ""
           }
          },
          "scene": {
           "xaxis": {
            "backgroundcolor": "#E5ECF6",
            "gridcolor": "white",
            "gridwidth": 2,
            "linecolor": "white",
            "showbackground": true,
            "ticks": "",
            "zerolinecolor": "white"
           },
           "yaxis": {
            "backgroundcolor": "#E5ECF6",
            "gridcolor": "white",
            "gridwidth": 2,
            "linecolor": "white",
            "showbackground": true,
            "ticks": "",
            "zerolinecolor": "white"
           },
           "zaxis": {
            "backgroundcolor": "#E5ECF6",
            "gridcolor": "white",
            "gridwidth": 2,
            "linecolor": "white",
            "showbackground": true,
            "ticks": "",
            "zerolinecolor": "white"
           }
          },
          "shapedefaults": {
           "line": {
            "color": "#2a3f5f"
           }
          },
          "ternary": {
           "aaxis": {
            "gridcolor": "white",
            "linecolor": "white",
            "ticks": ""
           },
           "baxis": {
            "gridcolor": "white",
            "linecolor": "white",
            "ticks": ""
           },
           "bgcolor": "#E5ECF6",
           "caxis": {
            "gridcolor": "white",
            "linecolor": "white",
            "ticks": ""
           }
          },
          "title": {
           "x": 0.05
          },
          "xaxis": {
           "automargin": true,
           "gridcolor": "white",
           "linecolor": "white",
           "ticks": "",
           "title": {
            "standoff": 15
           },
           "zerolinecolor": "white",
           "zerolinewidth": 2
          },
          "yaxis": {
           "automargin": true,
           "gridcolor": "white",
           "linecolor": "white",
           "ticks": "",
           "title": {
            "standoff": 15
           },
           "zerolinecolor": "white",
           "zerolinewidth": 2
          }
         }
        },
        "title": {
         "text": "Skip-gram vs CBOW Word Embeddings (3D Projection)",
         "x": 0.5
        },
        "width": 1400
       }
      }
     },
     "metadata": {},
     "output_type": "display_data"
    }
   ],
   "source": [
    "import pandas as pd\n",
    "import plotly.express as px\n",
    "import plotly.graph_objects as go\n",
    "from plotly.subplots import make_subplots\n",
    "import kaleido  # Necesario para guardar imágenes estáticas\n",
    "\n",
    "MAX_WORDS = 150\n",
    "\n",
    "# Reducir Skip-gram y CBOW a 3D\n",
    "vecs_skip, labels_skip = reduce_dimensions(model_hp_potter, 3)\n",
    "vecs_cbow, labels_cbow = reduce_dimensions(model_hp_potter_cbow, 3)\n",
    "\n",
    "#  DataFrame para Skip-gram\n",
    "df_skip = pd.DataFrame({\n",
    "    \"x\": vecs_skip[:MAX_WORDS, 0],\n",
    "    \"y\": vecs_skip[:MAX_WORDS, 1],\n",
    "    \"z\": vecs_skip[:MAX_WORDS, 2],\n",
    "    \"word\": labels_skip[:MAX_WORDS]\n",
    "})\n",
    "\n",
    "#  DataFrame para CBOW\n",
    "df_cbow = pd.DataFrame({\n",
    "    \"x\": vecs_cbow[:MAX_WORDS, 0],\n",
    "    \"y\": vecs_cbow[:MAX_WORDS, 1],\n",
    "    \"z\": vecs_cbow[:MAX_WORDS, 2],\n",
    "    \"word\": labels_cbow[:MAX_WORDS]\n",
    "})\n",
    "\n",
    "# Crear los subplots 3d\n",
    "fig = make_subplots(\n",
    "    rows=1, cols=2,\n",
    "    specs=[[{'type': 'scatter3d'}, {'type': 'scatter3d'}]],\n",
    "    subplot_titles=('Skip-gram Embeddings', 'CBOW Embeddings'),\n",
    "    horizontal_spacing=0.1\n",
    ")\n",
    "\n",
    "# agregar  Skip-gram scatter plot\n",
    "fig.add_trace(\n",
    "    go.Scatter3d(\n",
    "        x=df_skip[\"x\"],\n",
    "        y=df_skip[\"y\"],\n",
    "        z=df_skip[\"z\"],\n",
    "        mode='markers+text',\n",
    "        text=df_skip[\"word\"],\n",
    "        textposition='middle center',\n",
    "        marker=dict(size=3, color='blue'),\n",
    "        name='Skip-gram'\n",
    "    ),\n",
    "    row=1, col=1\n",
    ")\n",
    "\n",
    "# agregar CBOW scatter plot\n",
    "fig.add_trace(\n",
    "    go.Scatter3d(\n",
    "        x=df_cbow[\"x\"],\n",
    "        y=df_cbow[\"y\"],\n",
    "        z=df_cbow[\"z\"],\n",
    "        mode='markers+text',\n",
    "        text=df_cbow[\"word\"],\n",
    "        textposition='middle center',\n",
    "        marker=dict(size=3, color='red'),\n",
    "        name='CBOW'\n",
    "    ),\n",
    "    row=1, col=2\n",
    ")\n",
    "\n",
    "# Update layout\n",
    "fig.update_layout(\n",
    "    title_text=\"Skip-gram vs CBOW Word Embeddings (3D Projection)\",\n",
    "    title_x=0.5,\n",
    "    showlegend=True,\n",
    "    width=1400,\n",
    "    height=700\n",
    ")\n",
    "fig.show()\n",
    "\n",
    "\n",
    "fig.write_image(\"./images/Embeddings3d.png\")   # static PNG\n",
    "\n",
    "# PNG (static image - requires kaleido package)\n",
    "\n"
   ]
  },
  {
   "cell_type": "markdown",
   "metadata": {},
   "source": [
    "#### Embedding 3D:\n",
    "![visualizacion del embedding en 3D](./images/Embeddings3d.png)"
   ]
  },
  {
   "cell_type": "markdown",
   "metadata": {},
   "source": [
    "### Conclusiones\n",
    "\n",
    "El proceso de preprocesamiento y limpieza del dataset tuvo un impacto significativo en la calidad del texto utilizado para entrenar el modelo de *Word2Vec*.  \n",
    "\n",
    "1. Reducción del vocabulario:\n",
    "   - Tokens únicos antes de la limpieza: **2238**  \n",
    "   - Tokens únicos después de la limpieza: **1628**  \n",
    "   → Esto representa una reducción del **27%** en el tamaño del vocabulario, eliminando ruido y variaciones innecesarias (puntuación, mayúsculas, etc.).\n",
    "\n",
    "2. Manejo de stopwords: \n",
    "   - Stopwords detectadas sin normalización: **6723**  \n",
    "   - Stopwords detectadas después de la limpieza: **7053**  \n",
    "   → La limpieza permitió una correcta identificación de stopwords, que inicialmente estaban ocultas por diferencias de formato (puntuación, capitalización).  \n",
    "\n",
    "3. Estandarización del texto: \n",
    "   La conversión a minúsculas y la eliminación de caracteres no alfabéticos aseguraron que palabras semánticamente idénticas no fueran contadas como tokens diferentes.\n",
    "\n",
    "4. Impacto en el modelo: \n",
    "   - El modelo de *Word2Vec* se entrenó sobre un corpus más consistente y menos ruidoso.  \n",
    "   - Esto favorece que las representaciones vectoriales reflejen relaciones semánticas reales en lugar de artefactos de formato.\n",
    " En conclusión, el preprocesamiento no solo redujo el ruido en los datos, sino que también mejoró la representatividad semántica del corpus, logrando un vocabulario más compacto y útil para el entrenamiento de modelos de NLP.  \n",
    "\n",
    "5. Relaciones entre palabras:\n",
    "   - El modelo predice una relación correcta al elegir los nombres de personajes principales, o lugares de interés en los cuentos, lo que demuestra que se capturó adecuadamente el contexto de la obra.\n",
    "     - Harry es asociado principalmente con sus mejores amigos\n",
    "     - Voldemort con \"lord\" dado que siempre es referido como \"Lord Voldermort\" en las historias\n",
    "     - Station, es referenciada a la estación en Londres donde se puede abordar el tren mágico rumbo a la escuela de magos.\n",
    "\n",
    "6. Análisis de gráficos:\n",
    "     - En el gráfico 2D se observan clusters de mayor cantidad de objetos de color azul, mientras que el rojo (Cbow) en general son puntos mas dispersos.\n",
    "  "
   ]
  }
 ],
 "metadata": {
  "colab": {
   "collapsed_sections": [],
   "provenance": []
  },
  "kernelspec": {
   "display_name": "Python (CEIA-nlp)",
   "language": "python",
   "name": "ceia-nlp"
  },
  "language_info": {
   "codemirror_mode": {
    "name": "ipython",
    "version": 3
   },
   "file_extension": ".py",
   "mimetype": "text/x-python",
   "name": "python",
   "nbconvert_exporter": "python",
   "pygments_lexer": "ipython3",
   "version": "3.12.3"
  }
 },
 "nbformat": 4,
 "nbformat_minor": 4
}
