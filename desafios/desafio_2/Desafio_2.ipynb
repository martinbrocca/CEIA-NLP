{
 "cells": [
  {
   "cell_type": "markdown",
   "metadata": {
    "id": "sZd5yLnnHOK0"
   },
   "source": [
    "<img src=\"https://github.com/hernancontigiani/ceia_memorias_especializacion/raw/master/Figures/logoFIUBA.jpg\" width=\"500\" align=\"center\">\n",
    "\n",
    "\n",
    "# Procesamiento de lenguaje natural\n",
    "## Custom embedddings con Gensim\n",
    "\n"
   ]
  },
  {
   "cell_type": "markdown",
   "metadata": {
    "id": "vA7nqkumo9z9"
   },
   "source": [
    "### Objetivo\n",
    "El objetivo es utilizar documentos / corpus para crear embeddings de palabras basado en ese contexto. Se utilizará canciones de bandas para generar los embeddings, es decir, que los vectores tendrán la forma en función de como esa banda haya utilizado las palabras en sus canciones."
   ]
  },
  {
   "cell_type": "code",
   "execution_count": 1,
   "metadata": {
    "id": "lFToQs5FK5uZ"
   },
   "outputs": [],
   "source": [
    "import pandas as pd\n",
    "import matplotlib.pyplot as plt\n",
    "import seaborn as sns\n",
    "\n",
    "import multiprocessing\n",
    "from gensim.models import Word2Vec"
   ]
  },
  {
   "cell_type": "markdown",
   "metadata": {
    "id": "g07zJxG7H9vG"
   },
   "source": [
    "### Datos\n",
    "Utilizaremos como dataset canciones de bandas de habla inglesa."
   ]
  },
  {
   "cell_type": "code",
   "execution_count": 2,
   "metadata": {
    "id": "l7z4CSBfpR3X"
   },
   "outputs": [
    {
     "name": "stdout",
     "output_type": "stream",
     "text": [
      "El dataset ya se encuentra descargado\n"
     ]
    }
   ],
   "source": [
    "# Descargar la carpeta de dataset\n",
    "import os\n",
    "import platform\n",
    "if os.access('./songs_dataset', os.F_OK) is False:\n",
    "    if os.access('songs_dataset.zip', os.F_OK) is False:\n",
    "        if platform.system() == 'Windows':\n",
    "            !curl https://raw.githubusercontent.com/FIUBA-Posgrado-Inteligencia-Artificial/procesamiento_lenguaje_natural/main/datasets/songs_dataset.zip -o songs_dataset.zip\n",
    "        else:\n",
    "            !wget songs_dataset.zip https://github.com/FIUBA-Posgrado-Inteligencia-Artificial/procesamiento_lenguaje_natural/raw/main/datasets/songs_dataset.zip\n",
    "    !unzip -q songs_dataset.zip   \n",
    "else:\n",
    "    print(\"El dataset ya se encuentra descargado\")"
   ]
  },
  {
   "cell_type": "code",
   "execution_count": 3,
   "metadata": {
    "id": "mysGrIw9ljC2"
   },
   "outputs": [
    {
     "data": {
      "text/plain": [
       "['prince.txt',\n",
       " 'dickinson.txt',\n",
       " 'notorious-big.txt',\n",
       " 'beatles.txt',\n",
       " 'bob-dylan.txt',\n",
       " 'bjork.txt',\n",
       " 'johnny-cash.txt',\n",
       " 'disney.txt',\n",
       " 'janisjoplin.txt',\n",
       " 'kanye.txt',\n",
       " 'bob-marley.txt',\n",
       " 'leonard-cohen.txt',\n",
       " 'ludacris.txt',\n",
       " 'adele.txt',\n",
       " 'alicia-keys.txt',\n",
       " 'joni-mitchell.txt',\n",
       " 'amy-winehouse.txt',\n",
       " 'lorde.txt',\n",
       " 'rihanna.txt',\n",
       " 'Kanye_West.txt',\n",
       " 'nirvana.txt',\n",
       " 'cake.txt',\n",
       " 'bieber.txt',\n",
       " 'notorious_big.txt',\n",
       " 'missy-elliott.txt',\n",
       " 'dolly-parton.txt',\n",
       " 'jimi-hendrix.txt',\n",
       " 'michael-jackson.txt',\n",
       " 'al-green.txt',\n",
       " 'lil-wayne.txt',\n",
       " 'lady-gaga.txt',\n",
       " 'lin-manuel-miranda.txt',\n",
       " 'nursery_rhymes.txt',\n",
       " 'dj-khaled.txt',\n",
       " 'radiohead.txt',\n",
       " 'patti-smith.txt',\n",
       " 'blink-182.txt',\n",
       " 'Lil_Wayne.txt',\n",
       " 'dr-seuss.txt',\n",
       " 'r-kelly.txt',\n",
       " 'drake.txt',\n",
       " 'britney-spears.txt',\n",
       " 'bruce-springsteen.txt',\n",
       " 'nicki-minaj.txt',\n",
       " 'kanye-west.txt',\n",
       " 'paul-simon.txt',\n",
       " 'nickelback.txt',\n",
       " 'eminem.txt',\n",
       " 'bruno-mars.txt']"
      ]
     },
     "execution_count": 3,
     "metadata": {},
     "output_type": "execute_result"
    }
   ],
   "source": [
    "# Posibles bandas\n",
    "os.listdir(\"./songs_dataset/\")"
   ]
  },
  {
   "cell_type": "code",
   "execution_count": null,
   "metadata": {
    "id": "ticoqYD1Z3I7"
   },
   "outputs": [
    {
     "name": "stderr",
     "output_type": "stream",
     "text": [
      "/var/folders/b5/g9qh0pv107q2zdxqjdmjv97m0000gn/T/ipykernel_4969/1481237235.py:2: ParserWarning: Falling back to the 'python' engine because the 'c' engine does not support regex separators (separators > 1 char and different from '\\s+' are interpreted as regex); you can avoid this warning by specifying engine='python'.\n",
      "  df = pd.read_csv('songs_dataset/beatles.txt', sep='/n', header=None)\n"
     ]
    },
    {
     "data": {
      "text/html": [
       "<div>\n",
       "<style scoped>\n",
       "    .dataframe tbody tr th:only-of-type {\n",
       "        vertical-align: middle;\n",
       "    }\n",
       "\n",
       "    .dataframe tbody tr th {\n",
       "        vertical-align: top;\n",
       "    }\n",
       "\n",
       "    .dataframe thead th {\n",
       "        text-align: right;\n",
       "    }\n",
       "</style>\n",
       "<table border=\"1\" class=\"dataframe\">\n",
       "  <thead>\n",
       "    <tr style=\"text-align: right;\">\n",
       "      <th></th>\n",
       "      <th>0</th>\n",
       "    </tr>\n",
       "  </thead>\n",
       "  <tbody>\n",
       "    <tr>\n",
       "      <th>0</th>\n",
       "      <td>Yesterday, all my troubles seemed so far away</td>\n",
       "    </tr>\n",
       "    <tr>\n",
       "      <th>1</th>\n",
       "      <td>Now it looks as though they're here to stay</td>\n",
       "    </tr>\n",
       "    <tr>\n",
       "      <th>2</th>\n",
       "      <td>Oh, I believe in yesterday Suddenly, I'm not h...</td>\n",
       "    </tr>\n",
       "    <tr>\n",
       "      <th>3</th>\n",
       "      <td>There's a shadow hanging over me.</td>\n",
       "    </tr>\n",
       "    <tr>\n",
       "      <th>4</th>\n",
       "      <td>Oh, yesterday came suddenly Why she had to go ...</td>\n",
       "    </tr>\n",
       "  </tbody>\n",
       "</table>\n",
       "</div>"
      ],
      "text/plain": [
       "                                                   0\n",
       "0      Yesterday, all my troubles seemed so far away\n",
       "1        Now it looks as though they're here to stay\n",
       "2  Oh, I believe in yesterday Suddenly, I'm not h...\n",
       "3                  There's a shadow hanging over me.\n",
       "4  Oh, yesterday came suddenly Why she had to go ..."
      ]
     },
     "execution_count": 10,
     "metadata": {},
     "output_type": "execute_result"
    }
   ],
   "source": [
    "# Armar el dataset utilizando salto de línea para separar las oraciones/docs\n",
    "df = pd.read_csv('songs_dataset/beatles.txt', sep='/n', header=None)\n",
    "df.head()"
   ]
  },
  {
   "cell_type": "code",
   "execution_count": 11,
   "metadata": {
    "id": "LEpKubK9XzXN"
   },
   "outputs": [
    {
     "name": "stdout",
     "output_type": "stream",
     "text": [
      "Cantidad de documentos: 1846\n"
     ]
    }
   ],
   "source": [
    "print(\"Cantidad de documentos:\", df.shape[0])"
   ]
  },
  {
   "cell_type": "markdown",
   "metadata": {
    "id": "ab94qaFlrA1G"
   },
   "source": [
    "### 1 - Preprocesamiento"
   ]
  },
  {
   "cell_type": "code",
   "execution_count": 12,
   "metadata": {
    "id": "rIsmMWmjrDHd"
   },
   "outputs": [],
   "source": [
    "from tensorflow.keras.preprocessing.text import text_to_word_sequence\n",
    "\n",
    "\n",
    "sentence_tokens = []\n",
    "# Recorrer todas las filas y transformar las oraciones\n",
    "# en una secuencia de palabras (esto podría realizarse con NLTK o spaCy también)\n",
    "# for _, row in df[:None].iterrows():\n",
    "#     sentence_tokens.append(text_to_word_sequence(row[0]))\n",
    "sentence_tokens = df[0].apply(text_to_word_sequence).tolist()\n"
   ]
  },
  {
   "cell_type": "code",
   "execution_count": 13,
   "metadata": {
    "id": "CHepi_DGrbhq"
   },
   "outputs": [
    {
     "data": {
      "text/plain": [
       "[['yesterday', 'all', 'my', 'troubles', 'seemed', 'so', 'far', 'away'],\n",
       " ['now', 'it', 'looks', 'as', 'though', \"they're\", 'here', 'to', 'stay']]"
      ]
     },
     "execution_count": 13,
     "metadata": {},
     "output_type": "execute_result"
    }
   ],
   "source": [
    "# Demos un vistazo\n",
    "sentence_tokens[:2]"
   ]
  },
  {
   "cell_type": "markdown",
   "metadata": {
    "id": "BaXV6nlHr5Aa"
   },
   "source": [
    "### 2 - Crear los vectores (word2vec)"
   ]
  },
  {
   "cell_type": "code",
   "execution_count": 51,
   "metadata": {
    "id": "OSb0v7h8r7hK"
   },
   "outputs": [],
   "source": [
    "from gensim.models.callbacks import CallbackAny2Vec\n",
    "# Durante el entrenamiento gensim por defecto no informa el \"loss\" en cada época\n",
    "# Sobrecargamos el callback para poder tener esta información\n",
    "class callback(CallbackAny2Vec):\n",
    "    \"\"\"\n",
    "    Callback to print loss after each epoch\n",
    "    \"\"\"\n",
    "    def __init__(self):\n",
    "        self.epoch = 0\n",
    "\n",
    "    def on_epoch_end(self, model):\n",
    "        loss = model.get_latest_training_loss()\n",
    "        if self.epoch == 0:\n",
    "            print('Loss after epoch {}: {}'.format(self.epoch, loss))\n",
    "        else:\n",
    "            print('Loss after epoch {}: {}'.format(self.epoch, loss- self.loss_previous_step))\n",
    "        self.epoch += 1\n",
    "        self.loss_previous_step = loss"
   ]
  },
  {
   "cell_type": "code",
   "execution_count": 15,
   "metadata": {
    "id": "i0wnDdv9sJ47"
   },
   "outputs": [],
   "source": [
    "# Crearmos el modelo generador de vectores\n",
    "# En este caso utilizaremos la estructura modelo Skipgram\n",
    "w2v_model = Word2Vec(min_count=5,    # frecuencia mínima de palabra para incluirla en el vocabulario\n",
    "                     window=2,       # cant de palabras antes y desp de la predicha\n",
    "                     vector_size=300,       # dimensionalidad de los vectores \n",
    "                     negative=20,    # cantidad de negative samples... 0 es no se usa\n",
    "                     workers=1,      # si tienen más cores pueden cambiar este valor\n",
    "                     sg=1)           # modelo 0:CBOW  1:skipgram"
   ]
  },
  {
   "cell_type": "code",
   "execution_count": 16,
   "metadata": {
    "id": "5lTt8wErsf17"
   },
   "outputs": [],
   "source": [
    "# Obtener el vocabulario con los tokens\n",
    "w2v_model.build_vocab(sentence_tokens)"
   ]
  },
  {
   "cell_type": "code",
   "execution_count": 17,
   "metadata": {
    "id": "TNc9qt4os5AT"
   },
   "outputs": [
    {
     "name": "stdout",
     "output_type": "stream",
     "text": [
      "Cantidad de docs en el corpus: 1846\n"
     ]
    }
   ],
   "source": [
    "# Cantidad de filas/docs encontradas en el corpus\n",
    "print(\"Cantidad de docs en el corpus:\", w2v_model.corpus_count)"
   ]
  },
  {
   "cell_type": "code",
   "execution_count": 18,
   "metadata": {
    "id": "idw9cHF3tSMl"
   },
   "outputs": [
    {
     "name": "stdout",
     "output_type": "stream",
     "text": [
      "Cantidad de words distintas en el corpus: 445\n"
     ]
    }
   ],
   "source": [
    "# Cantidad de words encontradas en el corpus\n",
    "print(\"Cantidad de words distintas en el corpus:\", len(w2v_model.wv.index_to_key))"
   ]
  },
  {
   "cell_type": "markdown",
   "metadata": {
    "id": "fC9mZ8DPk-UC"
   },
   "source": [
    "### 3 - Entrenar embeddings"
   ]
  },
  {
   "cell_type": "code",
   "execution_count": 19,
   "metadata": {
    "id": "QSp-x0PAsq56"
   },
   "outputs": [
    {
     "name": "stdout",
     "output_type": "stream",
     "text": [
      "Loss after epoch 0: 113208.1484375\n",
      "Loss after epoch 1: 65953.9609375\n",
      "Loss after epoch 2: 65934.0\n",
      "Loss after epoch 3: 65712.109375\n",
      "Loss after epoch 4: 63872.4375\n",
      "Loss after epoch 5: 64142.15625\n",
      "Loss after epoch 6: 64058.90625\n",
      "Loss after epoch 7: 64755.53125\n",
      "Loss after epoch 8: 62585.6875\n",
      "Loss after epoch 9: 60415.1875\n",
      "Loss after epoch 10: 59823.6875\n",
      "Loss after epoch 11: 58929.875\n",
      "Loss after epoch 12: 57726.125\n",
      "Loss after epoch 13: 56493.0\n",
      "Loss after epoch 14: 55842.3125\n",
      "Loss after epoch 15: 55862.6875\n",
      "Loss after epoch 16: 51696.0625\n",
      "Loss after epoch 17: 49815.75\n",
      "Loss after epoch 18: 49568.125\n",
      "Loss after epoch 19: 48959.75\n"
     ]
    },
    {
     "data": {
      "text/plain": [
       "(156986, 287740)"
      ]
     },
     "execution_count": 19,
     "metadata": {},
     "output_type": "execute_result"
    }
   ],
   "source": [
    "# Entrenamos el modelo generador de vectores\n",
    "# Utilizamos nuestro callback\n",
    "w2v_model.train(sentence_tokens,\n",
    "                 total_examples=w2v_model.corpus_count,\n",
    "                 epochs=20,\n",
    "                 compute_loss = True,\n",
    "                 callbacks=[callback()]\n",
    "                 )"
   ]
  },
  {
   "cell_type": "markdown",
   "metadata": {
    "id": "ddT9NVuNlCAe"
   },
   "source": [
    "### 4 - Ensayar"
   ]
  },
  {
   "cell_type": "code",
   "execution_count": 20,
   "metadata": {
    "id": "6cHN9xGLuPEm"
   },
   "outputs": [
    {
     "data": {
      "text/plain": [
       "[('pretty', 0.9087111949920654),\n",
       " ('sleep', 0.8649654388427734),\n",
       " ('help', 0.859427273273468),\n",
       " ('try', 0.8455997705459595),\n",
       " ('cry', 0.8387208580970764),\n",
       " ('little', 0.827362060546875),\n",
       " ('not', 0.8181124329566956),\n",
       " ('seems', 0.8175204992294312),\n",
       " ('twist', 0.8154967427253723),\n",
       " ('peace', 0.8122625946998596)]"
      ]
     },
     "execution_count": 20,
     "metadata": {},
     "output_type": "execute_result"
    }
   ],
   "source": [
    "# Palabras que MÁS se relacionan con...:\n",
    "w2v_model.wv.most_similar(positive=[\"darling\"], topn=10)"
   ]
  },
  {
   "cell_type": "code",
   "execution_count": 21,
   "metadata": {
    "id": "47HiU5gdkdMq"
   },
   "outputs": [
    {
     "data": {
      "text/plain": [
       "[('shake', -0.2178674340248108),\n",
       " ('our', -0.24496109783649445),\n",
       " ('come', -0.26132795214653015),\n",
       " ('on', -0.26722264289855957),\n",
       " ('bang', -0.2733001112937927),\n",
       " ('five', -0.27418217062950134),\n",
       " ('six', -0.27740582823753357),\n",
       " ('baby', -0.2776320278644562),\n",
       " ('work', -0.27903637290000916),\n",
       " ('four', -0.2792740762233734)]"
      ]
     },
     "execution_count": 21,
     "metadata": {},
     "output_type": "execute_result"
    }
   ],
   "source": [
    "# Palabras que MENOS se relacionan con...:\n",
    "w2v_model.wv.most_similar(negative=[\"love\"], topn=10)"
   ]
  },
  {
   "cell_type": "code",
   "execution_count": 22,
   "metadata": {
    "id": "DT4Rvno2mD65"
   },
   "outputs": [
    {
     "data": {
      "text/plain": [
       "[('five', 0.9786691069602966),\n",
       " ('three', 0.9761053919792175),\n",
       " ('six', 0.9668909907341003),\n",
       " ('two', 0.9565711617469788),\n",
       " ('seven', 0.954231858253479),\n",
       " ('sixty', 0.9003376960754395),\n",
       " ('one', 0.8165019750595093),\n",
       " ('us', 0.7762883305549622),\n",
       " ('crying', 0.7727385759353638),\n",
       " ('strawberry', 0.7672423720359802)]"
      ]
     },
     "execution_count": 22,
     "metadata": {},
     "output_type": "execute_result"
    }
   ],
   "source": [
    "# Palabras que MÁS se relacionan con...:\n",
    "w2v_model.wv.most_similar(positive=[\"four\"], topn=10)"
   ]
  },
  {
   "cell_type": "code",
   "execution_count": 23,
   "metadata": {
    "id": "XPLDPgzBmQXt"
   },
   "outputs": [
    {
     "data": {
      "text/plain": [
       "[(\"can't\", 0.9409590363502502),\n",
       " ('buy', 0.9399516582489014),\n",
       " ('much', 0.8996817469596863),\n",
       " ('hide', 0.8465147018432617),\n",
       " ('just', 0.8415088057518005)]"
      ]
     },
     "execution_count": 23,
     "metadata": {},
     "output_type": "execute_result"
    }
   ],
   "source": [
    "# Palabras que MÁS se relacionan con...:\n",
    "w2v_model.wv.most_similar(positive=[\"money\"], topn=5)"
   ]
  },
  {
   "cell_type": "code",
   "execution_count": 24,
   "metadata": {
    "id": "L_UvHPMMklOr"
   },
   "outputs": [
    {
     "ename": "KeyError",
     "evalue": "\"Key 'diedaa' not present in vocabulary\"",
     "output_type": "error",
     "traceback": [
      "\u001b[31m---------------------------------------------------------------------------\u001b[39m",
      "\u001b[31mKeyError\u001b[39m                                  Traceback (most recent call last)",
      "\u001b[36mCell\u001b[39m\u001b[36m \u001b[39m\u001b[32mIn[24]\u001b[39m\u001b[32m, line 2\u001b[39m\n\u001b[32m      1\u001b[39m \u001b[38;5;66;03m# Ensayar con una palabra que no está en el vocabulario:\u001b[39;00m\n\u001b[32m----> \u001b[39m\u001b[32m2\u001b[39m \u001b[43mw2v_model\u001b[49m\u001b[43m.\u001b[49m\u001b[43mwv\u001b[49m\u001b[43m.\u001b[49m\u001b[43mmost_similar\u001b[49m\u001b[43m(\u001b[49m\u001b[43mnegative\u001b[49m\u001b[43m=\u001b[49m\u001b[43m[\u001b[49m\u001b[33;43m\"\u001b[39;49m\u001b[33;43mdiedaa\u001b[39;49m\u001b[33;43m\"\u001b[39;49m\u001b[43m]\u001b[49m\u001b[43m)\u001b[49m\n",
      "\u001b[36mFile \u001b[39m\u001b[32m~/CEIA/CEIA-NLP/.venv/lib/python3.11/site-packages/gensim/models/keyedvectors.py:841\u001b[39m, in \u001b[36mKeyedVectors.most_similar\u001b[39m\u001b[34m(self, positive, negative, topn, clip_start, clip_end, restrict_vocab, indexer)\u001b[39m\n\u001b[32m    838\u001b[39m         weight[idx] = item[\u001b[32m1\u001b[39m]\n\u001b[32m    840\u001b[39m \u001b[38;5;66;03m# compute the weighted average of all keys\u001b[39;00m\n\u001b[32m--> \u001b[39m\u001b[32m841\u001b[39m mean = \u001b[38;5;28;43mself\u001b[39;49m\u001b[43m.\u001b[49m\u001b[43mget_mean_vector\u001b[49m\u001b[43m(\u001b[49m\u001b[43mkeys\u001b[49m\u001b[43m,\u001b[49m\u001b[43m \u001b[49m\u001b[43mweight\u001b[49m\u001b[43m,\u001b[49m\u001b[43m \u001b[49m\u001b[43mpre_normalize\u001b[49m\u001b[43m=\u001b[49m\u001b[38;5;28;43;01mTrue\u001b[39;49;00m\u001b[43m,\u001b[49m\u001b[43m \u001b[49m\u001b[43mpost_normalize\u001b[49m\u001b[43m=\u001b[49m\u001b[38;5;28;43;01mTrue\u001b[39;49;00m\u001b[43m,\u001b[49m\u001b[43m \u001b[49m\u001b[43mignore_missing\u001b[49m\u001b[43m=\u001b[49m\u001b[38;5;28;43;01mFalse\u001b[39;49;00m\u001b[43m)\u001b[49m\n\u001b[32m    842\u001b[39m all_keys = [\n\u001b[32m    843\u001b[39m     \u001b[38;5;28mself\u001b[39m.get_index(key) \u001b[38;5;28;01mfor\u001b[39;00m key \u001b[38;5;129;01min\u001b[39;00m keys \u001b[38;5;28;01mif\u001b[39;00m \u001b[38;5;28misinstance\u001b[39m(key, _KEY_TYPES) \u001b[38;5;129;01mand\u001b[39;00m \u001b[38;5;28mself\u001b[39m.has_index_for(key)\n\u001b[32m    844\u001b[39m ]\n\u001b[32m    846\u001b[39m \u001b[38;5;28;01mif\u001b[39;00m indexer \u001b[38;5;129;01mis\u001b[39;00m \u001b[38;5;129;01mnot\u001b[39;00m \u001b[38;5;28;01mNone\u001b[39;00m \u001b[38;5;129;01mand\u001b[39;00m \u001b[38;5;28misinstance\u001b[39m(topn, \u001b[38;5;28mint\u001b[39m):\n",
      "\u001b[36mFile \u001b[39m\u001b[32m~/CEIA/CEIA-NLP/.venv/lib/python3.11/site-packages/gensim/models/keyedvectors.py:518\u001b[39m, in \u001b[36mKeyedVectors.get_mean_vector\u001b[39m\u001b[34m(self, keys, weights, pre_normalize, post_normalize, ignore_missing)\u001b[39m\n\u001b[32m    516\u001b[39m         total_weight += \u001b[38;5;28mabs\u001b[39m(weights[idx])\n\u001b[32m    517\u001b[39m     \u001b[38;5;28;01melif\u001b[39;00m \u001b[38;5;129;01mnot\u001b[39;00m ignore_missing:\n\u001b[32m--> \u001b[39m\u001b[32m518\u001b[39m         \u001b[38;5;28;01mraise\u001b[39;00m \u001b[38;5;167;01mKeyError\u001b[39;00m(\u001b[33mf\u001b[39m\u001b[33m\"\u001b[39m\u001b[33mKey \u001b[39m\u001b[33m'\u001b[39m\u001b[38;5;132;01m{\u001b[39;00mkey\u001b[38;5;132;01m}\u001b[39;00m\u001b[33m'\u001b[39m\u001b[33m not present in vocabulary\u001b[39m\u001b[33m\"\u001b[39m)\n\u001b[32m    520\u001b[39m \u001b[38;5;28;01mif\u001b[39;00m total_weight > \u001b[32m0\u001b[39m:\n\u001b[32m    521\u001b[39m     mean = mean / total_weight\n",
      "\u001b[31mKeyError\u001b[39m: \"Key 'diedaa' not present in vocabulary\""
     ]
    }
   ],
   "source": [
    "# Ensayar con una palabra que no está en el vocabulario:\n",
    "w2v_model.wv.most_similar(negative=[\"diedaa\"])"
   ]
  },
  {
   "cell_type": "code",
   "execution_count": 68,
   "metadata": {},
   "outputs": [
    {
     "name": "stdout",
     "output_type": "stream",
     "text": [
      "[ 0.17736575  0.2146101  -0.05407884  0.06707156  0.13060287 -0.2571361\n",
      "  0.00711569  0.26743898 -0.03100282  0.259966    0.21179484 -0.08465589\n",
      " -0.26272163  0.30837908 -0.07934508 -0.13357273  0.29947317  0.18061721\n",
      " -0.13111906 -0.11857361  0.03467939  0.11256406  0.08478606  0.08090245\n",
      " -0.1762275   0.03122391 -0.08726044  0.23747045 -0.11507294 -0.29118884\n",
      " -0.03650349 -0.33222473  0.2326327   0.10366983 -0.18365678  0.08299293\n",
      "  0.14315957 -0.19761501 -0.00757889  0.11195931 -0.10420218 -0.13083498\n",
      " -0.03264751 -0.04687788  0.11331188  0.10231608 -0.16201344 -0.10347553\n",
      "  0.03660087 -0.08524201 -0.34872565 -0.02154043  0.25938827  0.16540739\n",
      "  0.03108748  0.09505356  0.24453093 -0.09860147  0.18298486  0.06455195\n",
      "  0.01696305 -0.3259232  -0.04773364 -0.05418696 -0.04338877 -0.09137462\n",
      "  0.00889946  0.1163592  -0.25662434  0.05426565  0.08916582  0.04541196\n",
      "  0.20835699 -0.19101447  0.32209986  0.19337751  0.09080258 -0.00362502\n",
      " -0.18663995 -0.07053484 -0.12137373 -0.0347695  -0.1579791   0.3906998\n",
      " -0.06144847  0.11082683 -0.16214238 -0.2460504   0.15004417  0.4144745\n",
      " -0.02289346 -0.1789617  -0.07827593 -0.2219343   0.02855712  0.485346\n",
      "  0.04446914  0.12464236 -0.04169961  0.19826007 -0.15919559 -0.08606773\n",
      "  0.13206042  0.07071821  0.30666915  0.08808948 -0.19750135  0.23502085\n",
      " -0.07388483  0.04295726 -0.24778605 -0.28853992 -0.44016424  0.00458007\n",
      " -0.07824937  0.18824095  0.05078027 -0.05739452  0.15620944 -0.48762262\n",
      "  0.19229236  0.0831409   0.04989609  0.0264452  -0.06825364  0.35304788\n",
      "  0.1719131  -0.16261083 -0.2936469   0.29585174  0.34883228  0.13242917\n",
      "  0.20136176 -0.45007777  0.1067784   0.29547855  0.05580212 -0.10513242\n",
      " -0.18691532 -0.00886119  0.01701578 -0.16564216 -0.11337104  0.06720287\n",
      "  0.15243025 -0.009596   -0.0473952  -0.08677255 -0.07125571  0.16441846\n",
      "  0.00310595 -0.36776137  0.08533595  0.06347193 -0.02669146  0.22113281\n",
      " -0.24416293  0.024411   -0.00925069  0.23634052 -0.10890909  0.11366099\n",
      " -0.09946515  0.21861222  0.01365894  0.0101776  -0.18820512  0.25845137\n",
      "  0.3025142   0.03778301  0.20664272  0.22038548  0.16829266  0.04512742\n",
      "  0.01971628 -0.36934644  0.03287015 -0.2033605   0.12939993  0.04162239\n",
      "  0.0208571  -0.10500506 -0.17457555 -0.28336456 -0.08274414 -0.04555154\n",
      " -0.11861053 -0.03437093  0.02552962 -0.2553982   0.17146194  0.0509326\n",
      "  0.09174886 -0.06427701 -0.16106996  0.19085947 -0.10930143 -0.18051153\n",
      " -0.06336951  0.01224355 -0.09301834  0.22475912  0.3070023  -0.2662039\n",
      "  0.23052523  0.00148935  0.13293228  0.02429053  0.07882916 -0.09135685\n",
      " -0.17123453 -0.36640957  0.3834637  -0.21642964  0.30519992 -0.05142354\n",
      " -0.36278597 -0.23481211  0.05347444 -0.33068824 -0.01501687  0.07849725\n",
      "  0.01581995 -0.11110971  0.25852746 -0.15109167  0.07833123  0.03888264\n",
      "  0.06565188 -0.1025245  -0.02964638 -0.1736319   0.01443015  0.14266515\n",
      " -0.20421942  0.03214566 -0.16295354  0.23105642 -0.08102672 -0.07967597\n",
      "  0.13010609 -0.15626483  0.06894085 -0.03020702 -0.0472965  -0.24359499\n",
      "  0.21855299 -0.03477853  0.05899943  0.17103574  0.02151106  0.2957396\n",
      "  0.11162174 -0.16905247 -0.18563117 -0.19698061  0.34150895  0.18428011\n",
      " -0.20898612 -0.06921851  0.02646271 -0.33699366  0.03618186 -0.02290296\n",
      " -0.04528276 -0.0264427   0.27353397  0.28740254 -0.03061389  0.13751748\n",
      "  0.05502846  0.0268024   0.05629823  0.03125622  0.2700851   0.18144648\n",
      "  0.04076651  0.18558599 -0.10238112 -0.05794101  0.04536267 -0.09978139\n",
      " -0.17145789 -0.15288258  0.09160153  0.05247526  0.00280443  0.00947002\n",
      "  0.23113997  0.03046399  0.11368104  0.3598673   0.15569767 -0.02522592\n",
      "  0.35871765  0.32228613  0.00840294  0.18052022  0.1312735  -0.3131083 ]\n"
     ]
    }
   ],
   "source": [
    "# el método `get_vector` permite obtener los vectores:\n",
    "vector_love = w2v_model.wv.get_vector(\"love\")\n",
    "print(vector_love)"
   ]
  },
  {
   "cell_type": "code",
   "execution_count": 69,
   "metadata": {},
   "outputs": [
    {
     "data": {
      "text/plain": [
       "[('love', 0.9999999403953552),\n",
       " ('babe', 0.9132977724075317),\n",
       " ('someone', 0.8914989829063416),\n",
       " ('nothing', 0.8811892867088318),\n",
       " ('need', 0.8758766055107117),\n",
       " (\"didn't\", 0.8689667582511902),\n",
       " (\"there's\", 0.8557892441749573),\n",
       " ('you', 0.8447702527046204),\n",
       " ('feed', 0.8422104120254517),\n",
       " ('somebody', 0.8385516405105591)]"
      ]
     },
     "execution_count": 69,
     "metadata": {},
     "output_type": "execute_result"
    }
   ],
   "source": [
    "# el método `most_similar` también permite comparar a partir de vectores\n",
    "w2v_model.wv.most_similar(vector_love)"
   ]
  },
  {
   "cell_type": "code",
   "execution_count": 70,
   "metadata": {},
   "outputs": [
    {
     "data": {
      "text/plain": [
       "[('babe', 0.9132977724075317),\n",
       " ('someone', 0.8914989233016968),\n",
       " ('nothing', 0.8811892867088318),\n",
       " ('need', 0.8758766055107117),\n",
       " (\"didn't\", 0.8689666986465454),\n",
       " (\"there's\", 0.8557891845703125),\n",
       " ('you', 0.8447702527046204),\n",
       " ('feed', 0.8422104120254517),\n",
       " ('somebody', 0.8385516405105591),\n",
       " ('hope', 0.8361444473266602)]"
      ]
     },
     "execution_count": 70,
     "metadata": {},
     "output_type": "execute_result"
    }
   ],
   "source": [
    "# Palabras que MÁS se relacionan con...:\n",
    "w2v_model.wv.most_similar(positive=[\"love\"], topn=10)"
   ]
  },
  {
   "cell_type": "markdown",
   "metadata": {
    "id": "_g8UVWe6lFmh"
   },
   "source": [
    "### 5 - Visualizar agrupación de vectores"
   ]
  },
  {
   "cell_type": "code",
   "execution_count": 71,
   "metadata": {
    "id": "pDxEVXAivjr9"
   },
   "outputs": [],
   "source": [
    "from sklearn.decomposition import IncrementalPCA    \n",
    "from sklearn.manifold import TSNE                   \n",
    "import numpy as np                                  \n",
    "\n",
    "def reduce_dimensions(model, num_dimensions = 2 ):\n",
    "     \n",
    "    vectors = np.asarray(model.wv.vectors)\n",
    "    labels = np.asarray(model.wv.index_to_key)  \n",
    "\n",
    "    tsne = TSNE(n_components=num_dimensions, random_state=0)\n",
    "    vectors = tsne.fit_transform(vectors)\n",
    "\n",
    "    return vectors, labels"
   ]
  },
  {
   "cell_type": "code",
   "execution_count": 72,
   "metadata": {
    "id": "NCCXtDpcugmd"
   },
   "outputs": [
    {
     "data": {
      "text/html": [
       "<html>\n",
       "<head><meta charset=\"utf-8\" /></head>\n",
       "<body>\n",
       "    <div>            <script src=\"https://cdnjs.cloudflare.com/ajax/libs/mathjax/2.7.5/MathJax.js?config=TeX-AMS-MML_SVG\"></script><script type=\"text/javascript\">if (window.MathJax && window.MathJax.Hub && window.MathJax.Hub.Config) {window.MathJax.Hub.Config({SVG: {font: \"STIX-Web\"}});}</script>                <script type=\"text/javascript\">window.PlotlyConfig = {MathJaxConfig: 'local'};</script>\n",
       "        <script charset=\"utf-8\" src=\"https://cdn.plot.ly/plotly-3.1.0.min.js\" integrity=\"sha256-Ei4740bWZhaUTQuD6q9yQlgVCMPBz6CZWhevDYPv93A=\" crossorigin=\"anonymous\"></script>                <div id=\"0af815c1-87fc-4247-9f8c-a53d48bed0a4\" class=\"plotly-graph-div\" style=\"height:525px; width:100%;\"></div>            <script type=\"text/javascript\">                window.PLOTLYENV=window.PLOTLYENV || {};                                if (document.getElementById(\"0af815c1-87fc-4247-9f8c-a53d48bed0a4\")) {                    Plotly.newPlot(                        \"0af815c1-87fc-4247-9f8c-a53d48bed0a4\",                        [{\"hovertemplate\":\"x=%{x}\\u003cbr\\u003ey=%{y}\\u003cbr\\u003etext=%{text}\\u003cextra\\u003e\\u003c\\u002fextra\\u003e\",\"legendgroup\":\"\",\"marker\":{\"color\":\"#636efa\",\"symbol\":\"circle\"},\"mode\":\"markers+text\",\"name\":\"\",\"orientation\":\"v\",\"showlegend\":false,\"text\":[\"you\",\"i\",\"the\",\"to\",\"and\",\"love\",\"a\",\"me\",\"in\",\"all\",\"nah\",\"my\",\"it\",\"know\",\"that\",\"be\",\"on\",\"of\",\"she\",\"is\",\"say\",\"now\",\"oh\",\"your\",\"yeah\",\"get\",\"don't\",\"back\",\"with\",\"let\",\"her\",\"can\",\"it's\",\"do\",\"when\",\"come\",\"i'm\",\"will\",\"he\",\"but\",\"for\",\"so\",\"there\",\"need\",\"like\",\"together\",\"no\",\"i'll\",\"see\",\"we\",\"was\",\"never\",\"down\",\"if\",\"way\",\"want\",\"hey\",\"out\",\"one\",\"got\",\"can't\",\"girl\",\"well\",\"good\",\"go\",\"sun\",\"his\",\"hello\",\"home\",\"they\",\"day\",\"are\",\"ah\",\"right\",\"from\",\"little\",\"at\",\"man\",\"help\",\"here\",\"have\",\"gonna\",\"not\",\"world\",\"what\",\"going\",\"how\",\"please\",\"still\",\"too\",\"just\",\"you're\",\"time\",\"as\",\"make\",\"long\",\"yes\",\"yellow\",\"life\",\"once\",\"sky\",\"been\",\"think\",\"tell\",\"why\",\"only\",\"where\",\"people\",\"she's\",\"eyes\",\"jude\",\"take\",\"submarine\",\"up\",\"hold\",\"goodbye\",\"give\",\"nowhere\",\"sing\",\"look\",\"friends\",\"always\",\"hand\",\"boy\",\"we're\",\"am\",\"away\",\"darling\",\"goo\",\"nothing\",\"should\",\"lonely\",\"could\",\"feel\",\"some\",\"night\",\"comes\",\"had\",\"would\",\"better\",\"head\",\"them\",\"four\",\"buy\",\"more\",\"i've\",\"la\",\"mind\",\"two\",\"this\",\"everything\",\"carry\",\"by\",\"our\",\"sunshine\",\"weight\",\"change\",\"us\",\"lucy\",\"birthday\",\"an\",\"true\",\"you'll\",\"every\",\"pretty\",\"three\",\"diamonds\",\"before\",\"believe\",\"these\",\"i'd\",\"words\",\"mm\",\"work\",\"dear\",\"leave\",\"were\",\"mine\",\"there's\",\"nobody\",\"told\",\"money\",\"bom\",\"said\",\"forever\",\"round\",\"children\",\"'cause\",\"something\",\"about\",\"waiting\",\"standing\",\"who\",\"didn't\",\"try\",\"loves\",\"then\",\"hide\",\"saw\",\"prudence\"],\"x\":{\"dtype\":\"f4\",\"bdata\":\"mUTHQdT0l0E\\u002fuVnBlSsFQGi\\u002fp7\\u002fRcdJBvs9SwRhEyUEVJ4TB2aa5wUBaCkFdvnLAh3wKQfychUH9VHpBfMQXQQ\\u002fRm8EwtWHBWQ6hQEthvsAfQq1BAJ23wa4vnUHrxKhBkQ+6QDInK8F4I4RBGuEswc\\u002f3gsFB\\u002fS1BVRfZQGIchEH154hB\\u002flqqQUQKuUEXgp7Bjpu7P62wxUFSedhAaPpOQUhZbUEIlqlBMKlnwTLhzkGrEsJBTAW0wWSenUEkaVxB0LCbQYkBpcFaW2HBv0eVQWwCLEHBWqZBxC9NwfRjrUF5rAtBOSuQwRbxRUBC4VVBZ2DsQQ3+TsGZe9NAeNKxwdfOncEdBM\\u002fBoGyEwcCYtUHPVS7B0u4JQLSKtcGqUyS\\u002ffNmJwKKnusGYjw\\u002fBVXMawTFJp8DPPm3B9mQOwRUBz8EP486\\u002fxOyuP3udMUEgmpa+KNeNQft0Nb8HOkpBMmrJQRGhyUGl+IdBB4trQerIDEA71YBB+1suwBZTVUHJuINBR6SzQZYPsMGCLdjAQ2VOwQCii8HqGAjBFwSRQUq4uUGrOa5B\\u002fd1KQQfXRMGE3qLBi+8PQfeEhMEK8QpBfKAiQfwUsMEcon\\u002fBYKayQQZPtEHNim1BZO96wctskkE5MKPA\\u002fuAKwQcu4kAUWqpBTRsbQF3vdcGPKrNBC6YCQeBZQsFdysTAJR3IQa0XbUFrhaXBrCaDQTv3akF4h2LAwqw7wczuzsHaaZG\\u002f\\u002fcuAQeaDW0FwF4PBLHu0vvQmkT8eIexB7v32QCIUMUHw53TAK3e0wBgpEEBx5kxBzr9LQVrTj0FojUbB+VRVwYQatMHIe4xBYeOlPnRcHMG4VIfBL8RpQWNLk0A+E\\u002fFAI690QSVTBcG0eUrBebfiPwAxhsFAmGtBiQStQSCVB8G\\u002fXgFBXqraQGLArcB5BJDBARBzwcaFM0GIfLLAy4cZwI3psUGar1VAv6CyQS6b7UHNrorArfRMPDdpHEGUF1\\u002fAiQujwc27BECFxaO+qQgDQTQxVkEejgDBx6FqwRitukGZQkbBCOWuQCQ18sB8MGRBDBnkQKYOeME=\"},\"xaxis\":\"x\",\"y\":{\"dtype\":\"f4\",\"bdata\":\"ERl7wJFJoMALohfBvgtKQLHgVsDnobzA6YpLwXfO5L8\\u002fbB3BA5ssQEYEm0FzSXXBKzVsweFOsMDafSlB5p5EwRQ7iUAzbNfAnyscQUUjMcF5sGtAmWspQCaSsD6HHkXBFi4wQfm9XkEjK8\\u002fANsRXQTqpScHDCzzB9HdhQObH7z4+mhtAJ0xjvqQcDsDIm4JAQZxJQQsJBMFL0kTAkN0dQD+PUUFfHAfAQAxrQcT148BpuqS9STP7Py9yVMC8rQTB13wCwQvm+cDyXGdBmkxSwDoSLcFh25TAQPE4QfnpM8EeNpNBw7w+QJYqsUERpstA5RtGv4ZFz78HvrHAAGpDQaZ4XEHc4orAeqfGwLoljUAryUtB3vehQCjRPUHTq77AbE5WQenO0j8LsYrBipeJwcc9ZEEHHhfAFdqRweRkisB\\u002fOODAX5iUwdMD3D\\u002ftRYnB3JuEwJVObkFWKo3APUNWPyhn+8C1tBxBqAzFQCx3icHQQjZBVM6iwLRRL8GmjUxBPrUGQdxOEMEFmWPBMk5kQbdrRcF9n7C\\u002fChX4vxELisBSRkBA+NtNQetqWkEOhRzAm8UQQRVJCsHd2pJB51YTwfBHEMEYURk+SdJBwfGph0CPSYlAUxx2wHNhokBIf2JBjreMwcMLQcE7xULBhcWIwb47DEAxYg9BteYeQBoKjcHoqLRBkoGfwDODscAvTjvABcYOwGj1DsDeON3AGeNRwBbrisDhzAxBN+fZvlcRMsF8befALR6BQDr2q0EgQVO\\u002fsQhgQRGbvEAtRidBWrxrwT7brUE2OVpBH5KbQDNdVkGTfF\\u002fBj9EsQcj+P0GNRFRBjHWLwZ9GdkBHHEHBXxUoPqoLMcH1XjvBEvFwwNeOiEB3rofBWkisQf\\u002f2RcEjrCVBm00jwE1A9sBoj3PAIMcewZHTDUEt+zxABXaZQPwd8MChYCA\\u002fNCjUQJPM9cDZftG\\u002f7LFAwGdP7r4NN5JBIzKnwM3BPUDUPkLBJ3BUQflCUUFXUaS\\u002f+2TYQA28ZUEOhVI\\u002fTZdRwGaUp8B96WnBF8YoQTDxOUGpaLVAVgTJP124mkA=\"},\"yaxis\":\"y\",\"type\":\"scatter\"}],                        {\"template\":{\"data\":{\"histogram2dcontour\":[{\"type\":\"histogram2dcontour\",\"colorbar\":{\"outlinewidth\":0,\"ticks\":\"\"},\"colorscale\":[[0.0,\"#0d0887\"],[0.1111111111111111,\"#46039f\"],[0.2222222222222222,\"#7201a8\"],[0.3333333333333333,\"#9c179e\"],[0.4444444444444444,\"#bd3786\"],[0.5555555555555556,\"#d8576b\"],[0.6666666666666666,\"#ed7953\"],[0.7777777777777778,\"#fb9f3a\"],[0.8888888888888888,\"#fdca26\"],[1.0,\"#f0f921\"]]}],\"choropleth\":[{\"type\":\"choropleth\",\"colorbar\":{\"outlinewidth\":0,\"ticks\":\"\"}}],\"histogram2d\":[{\"type\":\"histogram2d\",\"colorbar\":{\"outlinewidth\":0,\"ticks\":\"\"},\"colorscale\":[[0.0,\"#0d0887\"],[0.1111111111111111,\"#46039f\"],[0.2222222222222222,\"#7201a8\"],[0.3333333333333333,\"#9c179e\"],[0.4444444444444444,\"#bd3786\"],[0.5555555555555556,\"#d8576b\"],[0.6666666666666666,\"#ed7953\"],[0.7777777777777778,\"#fb9f3a\"],[0.8888888888888888,\"#fdca26\"],[1.0,\"#f0f921\"]]}],\"heatmap\":[{\"type\":\"heatmap\",\"colorbar\":{\"outlinewidth\":0,\"ticks\":\"\"},\"colorscale\":[[0.0,\"#0d0887\"],[0.1111111111111111,\"#46039f\"],[0.2222222222222222,\"#7201a8\"],[0.3333333333333333,\"#9c179e\"],[0.4444444444444444,\"#bd3786\"],[0.5555555555555556,\"#d8576b\"],[0.6666666666666666,\"#ed7953\"],[0.7777777777777778,\"#fb9f3a\"],[0.8888888888888888,\"#fdca26\"],[1.0,\"#f0f921\"]]}],\"contourcarpet\":[{\"type\":\"contourcarpet\",\"colorbar\":{\"outlinewidth\":0,\"ticks\":\"\"}}],\"contour\":[{\"type\":\"contour\",\"colorbar\":{\"outlinewidth\":0,\"ticks\":\"\"},\"colorscale\":[[0.0,\"#0d0887\"],[0.1111111111111111,\"#46039f\"],[0.2222222222222222,\"#7201a8\"],[0.3333333333333333,\"#9c179e\"],[0.4444444444444444,\"#bd3786\"],[0.5555555555555556,\"#d8576b\"],[0.6666666666666666,\"#ed7953\"],[0.7777777777777778,\"#fb9f3a\"],[0.8888888888888888,\"#fdca26\"],[1.0,\"#f0f921\"]]}],\"surface\":[{\"type\":\"surface\",\"colorbar\":{\"outlinewidth\":0,\"ticks\":\"\"},\"colorscale\":[[0.0,\"#0d0887\"],[0.1111111111111111,\"#46039f\"],[0.2222222222222222,\"#7201a8\"],[0.3333333333333333,\"#9c179e\"],[0.4444444444444444,\"#bd3786\"],[0.5555555555555556,\"#d8576b\"],[0.6666666666666666,\"#ed7953\"],[0.7777777777777778,\"#fb9f3a\"],[0.8888888888888888,\"#fdca26\"],[1.0,\"#f0f921\"]]}],\"mesh3d\":[{\"type\":\"mesh3d\",\"colorbar\":{\"outlinewidth\":0,\"ticks\":\"\"}}],\"scatter\":[{\"fillpattern\":{\"fillmode\":\"overlay\",\"size\":10,\"solidity\":0.2},\"type\":\"scatter\"}],\"parcoords\":[{\"type\":\"parcoords\",\"line\":{\"colorbar\":{\"outlinewidth\":0,\"ticks\":\"\"}}}],\"scatterpolargl\":[{\"type\":\"scatterpolargl\",\"marker\":{\"colorbar\":{\"outlinewidth\":0,\"ticks\":\"\"}}}],\"bar\":[{\"error_x\":{\"color\":\"#2a3f5f\"},\"error_y\":{\"color\":\"#2a3f5f\"},\"marker\":{\"line\":{\"color\":\"#E5ECF6\",\"width\":0.5},\"pattern\":{\"fillmode\":\"overlay\",\"size\":10,\"solidity\":0.2}},\"type\":\"bar\"}],\"scattergeo\":[{\"type\":\"scattergeo\",\"marker\":{\"colorbar\":{\"outlinewidth\":0,\"ticks\":\"\"}}}],\"scatterpolar\":[{\"type\":\"scatterpolar\",\"marker\":{\"colorbar\":{\"outlinewidth\":0,\"ticks\":\"\"}}}],\"histogram\":[{\"marker\":{\"pattern\":{\"fillmode\":\"overlay\",\"size\":10,\"solidity\":0.2}},\"type\":\"histogram\"}],\"scattergl\":[{\"type\":\"scattergl\",\"marker\":{\"colorbar\":{\"outlinewidth\":0,\"ticks\":\"\"}}}],\"scatter3d\":[{\"type\":\"scatter3d\",\"line\":{\"colorbar\":{\"outlinewidth\":0,\"ticks\":\"\"}},\"marker\":{\"colorbar\":{\"outlinewidth\":0,\"ticks\":\"\"}}}],\"scattermap\":[{\"type\":\"scattermap\",\"marker\":{\"colorbar\":{\"outlinewidth\":0,\"ticks\":\"\"}}}],\"scattermapbox\":[{\"type\":\"scattermapbox\",\"marker\":{\"colorbar\":{\"outlinewidth\":0,\"ticks\":\"\"}}}],\"scatterternary\":[{\"type\":\"scatterternary\",\"marker\":{\"colorbar\":{\"outlinewidth\":0,\"ticks\":\"\"}}}],\"scattercarpet\":[{\"type\":\"scattercarpet\",\"marker\":{\"colorbar\":{\"outlinewidth\":0,\"ticks\":\"\"}}}],\"carpet\":[{\"aaxis\":{\"endlinecolor\":\"#2a3f5f\",\"gridcolor\":\"white\",\"linecolor\":\"white\",\"minorgridcolor\":\"white\",\"startlinecolor\":\"#2a3f5f\"},\"baxis\":{\"endlinecolor\":\"#2a3f5f\",\"gridcolor\":\"white\",\"linecolor\":\"white\",\"minorgridcolor\":\"white\",\"startlinecolor\":\"#2a3f5f\"},\"type\":\"carpet\"}],\"table\":[{\"cells\":{\"fill\":{\"color\":\"#EBF0F8\"},\"line\":{\"color\":\"white\"}},\"header\":{\"fill\":{\"color\":\"#C8D4E3\"},\"line\":{\"color\":\"white\"}},\"type\":\"table\"}],\"barpolar\":[{\"marker\":{\"line\":{\"color\":\"#E5ECF6\",\"width\":0.5},\"pattern\":{\"fillmode\":\"overlay\",\"size\":10,\"solidity\":0.2}},\"type\":\"barpolar\"}],\"pie\":[{\"automargin\":true,\"type\":\"pie\"}]},\"layout\":{\"autotypenumbers\":\"strict\",\"colorway\":[\"#636efa\",\"#EF553B\",\"#00cc96\",\"#ab63fa\",\"#FFA15A\",\"#19d3f3\",\"#FF6692\",\"#B6E880\",\"#FF97FF\",\"#FECB52\"],\"font\":{\"color\":\"#2a3f5f\"},\"hovermode\":\"closest\",\"hoverlabel\":{\"align\":\"left\"},\"paper_bgcolor\":\"white\",\"plot_bgcolor\":\"#E5ECF6\",\"polar\":{\"bgcolor\":\"#E5ECF6\",\"angularaxis\":{\"gridcolor\":\"white\",\"linecolor\":\"white\",\"ticks\":\"\"},\"radialaxis\":{\"gridcolor\":\"white\",\"linecolor\":\"white\",\"ticks\":\"\"}},\"ternary\":{\"bgcolor\":\"#E5ECF6\",\"aaxis\":{\"gridcolor\":\"white\",\"linecolor\":\"white\",\"ticks\":\"\"},\"baxis\":{\"gridcolor\":\"white\",\"linecolor\":\"white\",\"ticks\":\"\"},\"caxis\":{\"gridcolor\":\"white\",\"linecolor\":\"white\",\"ticks\":\"\"}},\"coloraxis\":{\"colorbar\":{\"outlinewidth\":0,\"ticks\":\"\"}},\"colorscale\":{\"sequential\":[[0.0,\"#0d0887\"],[0.1111111111111111,\"#46039f\"],[0.2222222222222222,\"#7201a8\"],[0.3333333333333333,\"#9c179e\"],[0.4444444444444444,\"#bd3786\"],[0.5555555555555556,\"#d8576b\"],[0.6666666666666666,\"#ed7953\"],[0.7777777777777778,\"#fb9f3a\"],[0.8888888888888888,\"#fdca26\"],[1.0,\"#f0f921\"]],\"sequentialminus\":[[0.0,\"#0d0887\"],[0.1111111111111111,\"#46039f\"],[0.2222222222222222,\"#7201a8\"],[0.3333333333333333,\"#9c179e\"],[0.4444444444444444,\"#bd3786\"],[0.5555555555555556,\"#d8576b\"],[0.6666666666666666,\"#ed7953\"],[0.7777777777777778,\"#fb9f3a\"],[0.8888888888888888,\"#fdca26\"],[1.0,\"#f0f921\"]],\"diverging\":[[0,\"#8e0152\"],[0.1,\"#c51b7d\"],[0.2,\"#de77ae\"],[0.3,\"#f1b6da\"],[0.4,\"#fde0ef\"],[0.5,\"#f7f7f7\"],[0.6,\"#e6f5d0\"],[0.7,\"#b8e186\"],[0.8,\"#7fbc41\"],[0.9,\"#4d9221\"],[1,\"#276419\"]]},\"xaxis\":{\"gridcolor\":\"white\",\"linecolor\":\"white\",\"ticks\":\"\",\"title\":{\"standoff\":15},\"zerolinecolor\":\"white\",\"automargin\":true,\"zerolinewidth\":2},\"yaxis\":{\"gridcolor\":\"white\",\"linecolor\":\"white\",\"ticks\":\"\",\"title\":{\"standoff\":15},\"zerolinecolor\":\"white\",\"automargin\":true,\"zerolinewidth\":2},\"scene\":{\"xaxis\":{\"backgroundcolor\":\"#E5ECF6\",\"gridcolor\":\"white\",\"linecolor\":\"white\",\"showbackground\":true,\"ticks\":\"\",\"zerolinecolor\":\"white\",\"gridwidth\":2},\"yaxis\":{\"backgroundcolor\":\"#E5ECF6\",\"gridcolor\":\"white\",\"linecolor\":\"white\",\"showbackground\":true,\"ticks\":\"\",\"zerolinecolor\":\"white\",\"gridwidth\":2},\"zaxis\":{\"backgroundcolor\":\"#E5ECF6\",\"gridcolor\":\"white\",\"linecolor\":\"white\",\"showbackground\":true,\"ticks\":\"\",\"zerolinecolor\":\"white\",\"gridwidth\":2}},\"shapedefaults\":{\"line\":{\"color\":\"#2a3f5f\"}},\"annotationdefaults\":{\"arrowcolor\":\"#2a3f5f\",\"arrowhead\":0,\"arrowwidth\":1},\"geo\":{\"bgcolor\":\"white\",\"landcolor\":\"#E5ECF6\",\"subunitcolor\":\"white\",\"showland\":true,\"showlakes\":true,\"lakecolor\":\"white\"},\"title\":{\"x\":0.05},\"mapbox\":{\"style\":\"light\"}}},\"xaxis\":{\"anchor\":\"y\",\"domain\":[0.0,1.0],\"title\":{\"text\":\"x\"}},\"yaxis\":{\"anchor\":\"x\",\"domain\":[0.0,1.0],\"title\":{\"text\":\"y\"}},\"legend\":{\"tracegroupgap\":0},\"margin\":{\"t\":60}},                        {\"responsive\": true}                    ).then(function(){\n",
       "                            \n",
       "var gd = document.getElementById('0af815c1-87fc-4247-9f8c-a53d48bed0a4');\n",
       "var x = new MutationObserver(function (mutations, observer) {{\n",
       "        var display = window.getComputedStyle(gd).display;\n",
       "        if (!display || display === 'none') {{\n",
       "            console.log([gd, 'removed!']);\n",
       "            Plotly.purge(gd);\n",
       "            observer.disconnect();\n",
       "        }}\n",
       "}});\n",
       "\n",
       "// Listen for the removal of the full notebook cells\n",
       "var notebookContainer = gd.closest('#notebook-container');\n",
       "if (notebookContainer) {{\n",
       "    x.observe(notebookContainer, {childList: true});\n",
       "}}\n",
       "\n",
       "// Listen for the clearing of the current output cell\n",
       "var outputEl = gd.closest('.output');\n",
       "if (outputEl) {{\n",
       "    x.observe(outputEl, {childList: true});\n",
       "}}\n",
       "\n",
       "                        })                };            </script>        </div>\n",
       "</body>\n",
       "</html>"
      ]
     },
     "metadata": {},
     "output_type": "display_data"
    }
   ],
   "source": [
    "# Graficar los embedddings en 2D\n",
    "import plotly.graph_objects as go\n",
    "import plotly.express as px\n",
    "\n",
    "vecs, labels = reduce_dimensions(w2v_model)\n",
    "\n",
    "MAX_WORDS=200\n",
    "fig = px.scatter(x=vecs[:MAX_WORDS,0], y=vecs[:MAX_WORDS,1], text=labels[:MAX_WORDS])\n",
    "fig.show(renderer=\"colab\") # esto para plotly en colab"
   ]
  },
  {
   "cell_type": "code",
   "execution_count": 73,
   "metadata": {},
   "outputs": [
    {
     "data": {
      "text/html": [
       "<html>\n",
       "<head><meta charset=\"utf-8\" /></head>\n",
       "<body>\n",
       "    <div>            <script src=\"https://cdnjs.cloudflare.com/ajax/libs/mathjax/2.7.5/MathJax.js?config=TeX-AMS-MML_SVG\"></script><script type=\"text/javascript\">if (window.MathJax && window.MathJax.Hub && window.MathJax.Hub.Config) {window.MathJax.Hub.Config({SVG: {font: \"STIX-Web\"}});}</script>                <script type=\"text/javascript\">window.PlotlyConfig = {MathJaxConfig: 'local'};</script>\n",
       "        <script charset=\"utf-8\" src=\"https://cdn.plot.ly/plotly-3.1.0.min.js\" integrity=\"sha256-Ei4740bWZhaUTQuD6q9yQlgVCMPBz6CZWhevDYPv93A=\" crossorigin=\"anonymous\"></script>                <div id=\"eec39923-f1bc-4031-81b0-9211423014e9\" class=\"plotly-graph-div\" style=\"height:525px; width:100%;\"></div>            <script type=\"text/javascript\">                window.PLOTLYENV=window.PLOTLYENV || {};                                if (document.getElementById(\"eec39923-f1bc-4031-81b0-9211423014e9\")) {                    Plotly.newPlot(                        \"eec39923-f1bc-4031-81b0-9211423014e9\",                        [{\"hovertemplate\":\"x=%{x}\\u003cbr\\u003ey=%{y}\\u003cbr\\u003ez=%{z}\\u003cbr\\u003etext=%{text}\\u003cextra\\u003e\\u003c\\u002fextra\\u003e\",\"legendgroup\":\"\",\"marker\":{\"color\":\"#636efa\",\"symbol\":\"circle\",\"size\":2},\"mode\":\"markers+text\",\"name\":\"\",\"scene\":\"scene\",\"showlegend\":false,\"text\":[\"you\",\"i\",\"the\",\"to\",\"and\",\"love\",\"a\",\"me\",\"in\",\"all\",\"nah\",\"my\",\"it\",\"know\",\"that\",\"be\",\"on\",\"of\",\"she\",\"is\",\"say\",\"now\",\"oh\",\"your\",\"yeah\",\"get\",\"don't\",\"back\",\"with\",\"let\",\"her\",\"can\",\"it's\",\"do\",\"when\",\"come\",\"i'm\",\"will\",\"he\",\"but\",\"for\",\"so\",\"there\",\"need\",\"like\",\"together\",\"no\",\"i'll\",\"see\",\"we\",\"was\",\"never\",\"down\",\"if\",\"way\",\"want\",\"hey\",\"out\",\"one\",\"got\",\"can't\",\"girl\",\"well\",\"good\",\"go\",\"sun\",\"his\",\"hello\",\"home\",\"they\",\"day\",\"are\",\"ah\",\"right\",\"from\",\"little\",\"at\",\"man\",\"help\",\"here\",\"have\",\"gonna\",\"not\",\"world\",\"what\",\"going\",\"how\",\"please\",\"still\",\"too\",\"just\",\"you're\",\"time\",\"as\",\"make\",\"long\",\"yes\",\"yellow\",\"life\",\"once\",\"sky\",\"been\",\"think\",\"tell\",\"why\",\"only\",\"where\",\"people\",\"she's\",\"eyes\",\"jude\",\"take\",\"submarine\",\"up\",\"hold\",\"goodbye\",\"give\",\"nowhere\",\"sing\",\"look\",\"friends\",\"always\",\"hand\",\"boy\",\"we're\",\"am\",\"away\",\"darling\",\"goo\",\"nothing\",\"should\",\"lonely\",\"could\",\"feel\",\"some\",\"night\",\"comes\",\"had\",\"would\",\"better\",\"head\",\"them\",\"four\",\"buy\",\"more\",\"i've\",\"la\",\"mind\",\"two\",\"this\",\"everything\",\"carry\",\"by\",\"our\",\"sunshine\",\"weight\",\"change\",\"us\",\"lucy\",\"birthday\",\"an\",\"true\",\"you'll\",\"every\",\"pretty\",\"three\",\"diamonds\",\"before\",\"believe\",\"these\",\"i'd\",\"words\",\"mm\",\"work\",\"dear\",\"leave\",\"were\",\"mine\",\"there's\",\"nobody\",\"told\",\"money\",\"bom\",\"said\",\"forever\",\"round\",\"children\",\"'cause\",\"something\",\"about\",\"waiting\",\"standing\",\"who\",\"didn't\",\"try\",\"loves\",\"then\",\"hide\",\"saw\",\"prudence\"],\"x\":{\"dtype\":\"f4\",\"bdata\":\"9nfmwaG6EMF7WWpBWJORwbN2AEBittPBuGHsQYco5MFb079BTWWXwCqq2cBuSDFBwh6WQT8SCsESchLBIa1BQXHn0sCX8ORBSIkZwdf5G0G+d47AAXC1wAnoo8Ejy97B3D2QwbroysFhywvB1H7awdv33UH5uy1BM62ZwXL8VsFicFbADcbLwZyn2cHZOg\\u002fBoKt8waUjgcGenE5A8H4owQjXTsEpvK7BtUiiwb\\u002f9w8GvIc7B4ar\\u002fwMKcj8F3JQNAgcm3wbmL6kEQfa7B\\u002fEuPwRCJI0F7hW3BhMqlwVu62sE1k3XA7UKev7NM8sGYa5fBARwGwrLlrUCrB4PAn3gOwHMmJ8GlNkFBgQywQWtv\\u002fT\\u002fI5r\\u002fBEAIAwV+bCsA5j0lBg1zxQLYx58CC7LtBP1rMQeUPukD2wppBFqCwQWwyBkG7aidBYpS7P0cZNEBd\\u002fa1AH81nwYaPdMG0VgPAtf7pwYO0osEVCH3BFuu1wadiPcD4g1bBM54WQWkgCcC4\\u002fiLBUQhqQGcrCkJdG3JBP9fNwVNF9EHARLNB5odPwYI5p8HfNpvAkP4twWQkucHi0HhBWdeHwRZXqUEVn93A+FutQN\\u002faBUJbKcVAvHL8wZ5NB78RXWrBJtWwQUch4cAnabtA0aqfQcEEAEGcxe3BTcyRwIW0UMBqL6NAZbxzwS6ow0EYoJBBTM7iwWjItMBWrZJB89bnwAi5ccE50kdBLOCZQdZjOEHZ2\\u002f2\\u002f\\u002faGCwRkWcsD\\u002frJZBUpo4QL7yAMJnZgPCq61HwS2pgcEingJBWNlxQXmz6cFBG5lBXd9jwVajFMCHJ+JB0ZacwYOVbsCLKa3AKEyZQNByzUFGvtBBdk38wEvgPkFq9ttAN8tGwUVJtkEEDddBgL7ywU4B50GGL0LBx6OjwQZuZEGuqjjBYi06QYPZd0DMFyy\\u002fzZ7bwICAlcErqjhBJooHP77zisHtMolACh\\u002fBwZR1+8Efh\\u002fZBAoj9QI8xB0EwykNAoIW2wOHZfcG6gci+qzuRwVt3uUFY+qlBCU2kQaVbtsGsZPFBFflfwc2FVMGpI6PB6KQowQvM78A=\"},\"y\":{\"dtype\":\"f4\",\"bdata\":\"XxeCQSJaaUHUZfFAydOIwFqq+0B7JaFBR3C\\u002fQIM71EDfjRlBMnCpQdqR78FxC8hBZUc7wQ7XPkBl\\u002fOBBXnQwweMztkB8p8Q\\u002fi5bQwYMTmUGchCVBwkWRQQ1\\u002fpL58lBBBVCbPwRquYsC+55m+U6SKwCiyXEHVAYfBPaQ6QUbKukFUzIFBUZabQKyXTkESExBBcN+9weXnt0ETS4E\\u002f7HORQUJ35kHNX6NA2oVEQLumuUEj7G0\\u002f4S+WQfB\\u002fWEH9v\\u002fjAQqygQNEjTcHJ0kE\\u002f2d0AQRUTlsF0vE1BD47MwOHSUEEq4NjBMIwaQTRqc8F55XzBvOGAwOLWscCGOlLB4bbswRWBvsGjp5NAzjw0wM9sDkH4GfnA4qpNwV5YBsJ9B5tA6Ny6wd0au0FkusNBoAKoQbApjsH41EvBCyG\\u002fQTv0zkCLCiRBMjgSQq4B8UB4bfZB3d52QL\\u002frWsHR3C2\\u002f98ooP26Vw0FXk+VBJkkqwXhCD0IzIvRB7IyfQcAracEPMgRCZQGHQexm4sAHgsNBgm8CQAcAXUFrDtu\\u002fNnwvQaSqgUErjMBAE6C1QWxlzD+ISS\\u002fB+BNhQf6xqECqw8jBvR6GwZ6ZG8GcftpAecETQV3SFkGlFzbBboPvwClByEGjKqHBA2q+QXg0Q8CQQzFByc0EQiiHc78zo5NBbneqQGgrh0FOF7rBaoFtQZ4Lkr\\u002fl6mPBg5W5QKgoUMBb1ldBRFt0wMBZCEEx2sPB+iiPQIH\\u002fksELLaI\\u002faVhsQWxSvMEehCq\\u002fKB2NwUBJdMGYytDBpX2uQfi2m8Ee2ijBk8w8wUw1AkKrgTVBvq4bwSaNBMKWjAlCAwsDQqmL+8A\\u002fqHFBHHQsQaQIxMCtndbAUfqNvqXIhcH3jWJBBwahwYsyiEGkFMhBMsoQQVPmHUG+F6e\\u002fgrRXwYup\\u002f8GIJyhBuwwVQTeoPr9kJwFBw3aNwVt1kEHiXRTB\\u002f\\u002f01Qe6licBDtIHBhO2CQIkZ0UA9cKpBJ77LwW\\u002fulcETtxy\\u002fH\\u002ff8wAcaA8GSdr0\\u002fGJMBwaZSZUHiVllBj7rQwXiQXcChDCvBslc4QSKHFEE=\"},\"z\":{\"dtype\":\"f4\",\"bdata\":\"9Z6ZQf9M90FSF8TBfdnsvxpdnED55i9B2R3\\u002fwEBejEFRbsrBLi+wwdlCkUFKkMnAFWu\\u002fQcFnDEJQrX9A4uvgQTSp5cFQQn3BcPP8QFBlvsFMEw1CHJC9wXPu+UE7D1i\\u002fzhUYQRuoGcELhxpCz2NewTwcj8Fh2eZBX3eYP0Nt1EFfoZpBsxflQS4F1EGuQO7B\\u002fWZWwHJwhkFCCYJBsUC2QTX+iMDP2KtBXFO\\u002fwURJb0GpxIRBxhDcweNO9EELCvFBB1oPQbnulsGtbanBeRcDQjXew0GRGpdBPVaSwXuGlkCSc6tBgWPOwYAxYcDGh6hBlX8mQZCn+sET9IBBaPenwaprmsEfzwnCD03KwXCoDkLX3E3BXJyuweLxkcEPR0dBqi2nwZ840MGpsKfAQFlfwMX\\u002f0sHyDV\\u002fBrbKQPpVZC8IKKRxBGx1AwEpDyUFu0yDBZWgGQggLpsApiclBrMG1QXZ9iEG\\u002ff8hA9ayOQRiB\\u002fsCTx9U\\u002fRlgmQWefxEHlbeC\\u002fM6bjQbJoaMGT\\u002fG7BI+uMwaQMusHhKuI\\u002fe2XRQfvNsEGLWxdCjnH3wFZJTsHuIPTBzAIXwVGozMEqeaJB9sqvQZwJRsHoF7vBXJqoQDdUGUKGwclBZ0ydwVx+bEECxr\\u002fBNWlnwC1q2kE+NZw\\u002f57MiwX+RxsEK9MBBcIO4QOGKi0DlAiRB0CVXQTN\\u002fAEJ0vOXBMdbVQcHhwEE8MqFAzlSEwNvHBsIS\\u002frHAXG2KQetwv0GkEsDBfg4bQEvHt8B4FgxBrMXJQRbZZUH+hGPBT60SwfNUjMBWbwJBNLKVQel6X8A1UN3AqcGmwSUMrsHL5MK\\u002fiLbGwD2B3cCserTBYDmXQfXMm0GsdNNBjrjnQSAJn8Bl5uc\\u002fRsEHwVIqosG\\u002fHbc\\u002fxk+2QUMT2sD6EalAu7iGQQZK88DxpenBpIuCwYtOCUHwyBa\\u002fAco2wVGjFEEXldZAPpm0QUFu1kA+EeBAgGkjQZ4mnkEeF3bB8AuZwYvRy7+W2Fm\\u002fesavQKKo5UAIljxBz5xuwfSbjUGzV3rA7NoIQadCw8ED0a5BhutZQHpqocE=\"},\"type\":\"scatter3d\"}],                        {\"template\":{\"data\":{\"histogram2dcontour\":[{\"type\":\"histogram2dcontour\",\"colorbar\":{\"outlinewidth\":0,\"ticks\":\"\"},\"colorscale\":[[0.0,\"#0d0887\"],[0.1111111111111111,\"#46039f\"],[0.2222222222222222,\"#7201a8\"],[0.3333333333333333,\"#9c179e\"],[0.4444444444444444,\"#bd3786\"],[0.5555555555555556,\"#d8576b\"],[0.6666666666666666,\"#ed7953\"],[0.7777777777777778,\"#fb9f3a\"],[0.8888888888888888,\"#fdca26\"],[1.0,\"#f0f921\"]]}],\"choropleth\":[{\"type\":\"choropleth\",\"colorbar\":{\"outlinewidth\":0,\"ticks\":\"\"}}],\"histogram2d\":[{\"type\":\"histogram2d\",\"colorbar\":{\"outlinewidth\":0,\"ticks\":\"\"},\"colorscale\":[[0.0,\"#0d0887\"],[0.1111111111111111,\"#46039f\"],[0.2222222222222222,\"#7201a8\"],[0.3333333333333333,\"#9c179e\"],[0.4444444444444444,\"#bd3786\"],[0.5555555555555556,\"#d8576b\"],[0.6666666666666666,\"#ed7953\"],[0.7777777777777778,\"#fb9f3a\"],[0.8888888888888888,\"#fdca26\"],[1.0,\"#f0f921\"]]}],\"heatmap\":[{\"type\":\"heatmap\",\"colorbar\":{\"outlinewidth\":0,\"ticks\":\"\"},\"colorscale\":[[0.0,\"#0d0887\"],[0.1111111111111111,\"#46039f\"],[0.2222222222222222,\"#7201a8\"],[0.3333333333333333,\"#9c179e\"],[0.4444444444444444,\"#bd3786\"],[0.5555555555555556,\"#d8576b\"],[0.6666666666666666,\"#ed7953\"],[0.7777777777777778,\"#fb9f3a\"],[0.8888888888888888,\"#fdca26\"],[1.0,\"#f0f921\"]]}],\"contourcarpet\":[{\"type\":\"contourcarpet\",\"colorbar\":{\"outlinewidth\":0,\"ticks\":\"\"}}],\"contour\":[{\"type\":\"contour\",\"colorbar\":{\"outlinewidth\":0,\"ticks\":\"\"},\"colorscale\":[[0.0,\"#0d0887\"],[0.1111111111111111,\"#46039f\"],[0.2222222222222222,\"#7201a8\"],[0.3333333333333333,\"#9c179e\"],[0.4444444444444444,\"#bd3786\"],[0.5555555555555556,\"#d8576b\"],[0.6666666666666666,\"#ed7953\"],[0.7777777777777778,\"#fb9f3a\"],[0.8888888888888888,\"#fdca26\"],[1.0,\"#f0f921\"]]}],\"surface\":[{\"type\":\"surface\",\"colorbar\":{\"outlinewidth\":0,\"ticks\":\"\"},\"colorscale\":[[0.0,\"#0d0887\"],[0.1111111111111111,\"#46039f\"],[0.2222222222222222,\"#7201a8\"],[0.3333333333333333,\"#9c179e\"],[0.4444444444444444,\"#bd3786\"],[0.5555555555555556,\"#d8576b\"],[0.6666666666666666,\"#ed7953\"],[0.7777777777777778,\"#fb9f3a\"],[0.8888888888888888,\"#fdca26\"],[1.0,\"#f0f921\"]]}],\"mesh3d\":[{\"type\":\"mesh3d\",\"colorbar\":{\"outlinewidth\":0,\"ticks\":\"\"}}],\"scatter\":[{\"fillpattern\":{\"fillmode\":\"overlay\",\"size\":10,\"solidity\":0.2},\"type\":\"scatter\"}],\"parcoords\":[{\"type\":\"parcoords\",\"line\":{\"colorbar\":{\"outlinewidth\":0,\"ticks\":\"\"}}}],\"scatterpolargl\":[{\"type\":\"scatterpolargl\",\"marker\":{\"colorbar\":{\"outlinewidth\":0,\"ticks\":\"\"}}}],\"bar\":[{\"error_x\":{\"color\":\"#2a3f5f\"},\"error_y\":{\"color\":\"#2a3f5f\"},\"marker\":{\"line\":{\"color\":\"#E5ECF6\",\"width\":0.5},\"pattern\":{\"fillmode\":\"overlay\",\"size\":10,\"solidity\":0.2}},\"type\":\"bar\"}],\"scattergeo\":[{\"type\":\"scattergeo\",\"marker\":{\"colorbar\":{\"outlinewidth\":0,\"ticks\":\"\"}}}],\"scatterpolar\":[{\"type\":\"scatterpolar\",\"marker\":{\"colorbar\":{\"outlinewidth\":0,\"ticks\":\"\"}}}],\"histogram\":[{\"marker\":{\"pattern\":{\"fillmode\":\"overlay\",\"size\":10,\"solidity\":0.2}},\"type\":\"histogram\"}],\"scattergl\":[{\"type\":\"scattergl\",\"marker\":{\"colorbar\":{\"outlinewidth\":0,\"ticks\":\"\"}}}],\"scatter3d\":[{\"type\":\"scatter3d\",\"line\":{\"colorbar\":{\"outlinewidth\":0,\"ticks\":\"\"}},\"marker\":{\"colorbar\":{\"outlinewidth\":0,\"ticks\":\"\"}}}],\"scattermap\":[{\"type\":\"scattermap\",\"marker\":{\"colorbar\":{\"outlinewidth\":0,\"ticks\":\"\"}}}],\"scattermapbox\":[{\"type\":\"scattermapbox\",\"marker\":{\"colorbar\":{\"outlinewidth\":0,\"ticks\":\"\"}}}],\"scatterternary\":[{\"type\":\"scatterternary\",\"marker\":{\"colorbar\":{\"outlinewidth\":0,\"ticks\":\"\"}}}],\"scattercarpet\":[{\"type\":\"scattercarpet\",\"marker\":{\"colorbar\":{\"outlinewidth\":0,\"ticks\":\"\"}}}],\"carpet\":[{\"aaxis\":{\"endlinecolor\":\"#2a3f5f\",\"gridcolor\":\"white\",\"linecolor\":\"white\",\"minorgridcolor\":\"white\",\"startlinecolor\":\"#2a3f5f\"},\"baxis\":{\"endlinecolor\":\"#2a3f5f\",\"gridcolor\":\"white\",\"linecolor\":\"white\",\"minorgridcolor\":\"white\",\"startlinecolor\":\"#2a3f5f\"},\"type\":\"carpet\"}],\"table\":[{\"cells\":{\"fill\":{\"color\":\"#EBF0F8\"},\"line\":{\"color\":\"white\"}},\"header\":{\"fill\":{\"color\":\"#C8D4E3\"},\"line\":{\"color\":\"white\"}},\"type\":\"table\"}],\"barpolar\":[{\"marker\":{\"line\":{\"color\":\"#E5ECF6\",\"width\":0.5},\"pattern\":{\"fillmode\":\"overlay\",\"size\":10,\"solidity\":0.2}},\"type\":\"barpolar\"}],\"pie\":[{\"automargin\":true,\"type\":\"pie\"}]},\"layout\":{\"autotypenumbers\":\"strict\",\"colorway\":[\"#636efa\",\"#EF553B\",\"#00cc96\",\"#ab63fa\",\"#FFA15A\",\"#19d3f3\",\"#FF6692\",\"#B6E880\",\"#FF97FF\",\"#FECB52\"],\"font\":{\"color\":\"#2a3f5f\"},\"hovermode\":\"closest\",\"hoverlabel\":{\"align\":\"left\"},\"paper_bgcolor\":\"white\",\"plot_bgcolor\":\"#E5ECF6\",\"polar\":{\"bgcolor\":\"#E5ECF6\",\"angularaxis\":{\"gridcolor\":\"white\",\"linecolor\":\"white\",\"ticks\":\"\"},\"radialaxis\":{\"gridcolor\":\"white\",\"linecolor\":\"white\",\"ticks\":\"\"}},\"ternary\":{\"bgcolor\":\"#E5ECF6\",\"aaxis\":{\"gridcolor\":\"white\",\"linecolor\":\"white\",\"ticks\":\"\"},\"baxis\":{\"gridcolor\":\"white\",\"linecolor\":\"white\",\"ticks\":\"\"},\"caxis\":{\"gridcolor\":\"white\",\"linecolor\":\"white\",\"ticks\":\"\"}},\"coloraxis\":{\"colorbar\":{\"outlinewidth\":0,\"ticks\":\"\"}},\"colorscale\":{\"sequential\":[[0.0,\"#0d0887\"],[0.1111111111111111,\"#46039f\"],[0.2222222222222222,\"#7201a8\"],[0.3333333333333333,\"#9c179e\"],[0.4444444444444444,\"#bd3786\"],[0.5555555555555556,\"#d8576b\"],[0.6666666666666666,\"#ed7953\"],[0.7777777777777778,\"#fb9f3a\"],[0.8888888888888888,\"#fdca26\"],[1.0,\"#f0f921\"]],\"sequentialminus\":[[0.0,\"#0d0887\"],[0.1111111111111111,\"#46039f\"],[0.2222222222222222,\"#7201a8\"],[0.3333333333333333,\"#9c179e\"],[0.4444444444444444,\"#bd3786\"],[0.5555555555555556,\"#d8576b\"],[0.6666666666666666,\"#ed7953\"],[0.7777777777777778,\"#fb9f3a\"],[0.8888888888888888,\"#fdca26\"],[1.0,\"#f0f921\"]],\"diverging\":[[0,\"#8e0152\"],[0.1,\"#c51b7d\"],[0.2,\"#de77ae\"],[0.3,\"#f1b6da\"],[0.4,\"#fde0ef\"],[0.5,\"#f7f7f7\"],[0.6,\"#e6f5d0\"],[0.7,\"#b8e186\"],[0.8,\"#7fbc41\"],[0.9,\"#4d9221\"],[1,\"#276419\"]]},\"xaxis\":{\"gridcolor\":\"white\",\"linecolor\":\"white\",\"ticks\":\"\",\"title\":{\"standoff\":15},\"zerolinecolor\":\"white\",\"automargin\":true,\"zerolinewidth\":2},\"yaxis\":{\"gridcolor\":\"white\",\"linecolor\":\"white\",\"ticks\":\"\",\"title\":{\"standoff\":15},\"zerolinecolor\":\"white\",\"automargin\":true,\"zerolinewidth\":2},\"scene\":{\"xaxis\":{\"backgroundcolor\":\"#E5ECF6\",\"gridcolor\":\"white\",\"linecolor\":\"white\",\"showbackground\":true,\"ticks\":\"\",\"zerolinecolor\":\"white\",\"gridwidth\":2},\"yaxis\":{\"backgroundcolor\":\"#E5ECF6\",\"gridcolor\":\"white\",\"linecolor\":\"white\",\"showbackground\":true,\"ticks\":\"\",\"zerolinecolor\":\"white\",\"gridwidth\":2},\"zaxis\":{\"backgroundcolor\":\"#E5ECF6\",\"gridcolor\":\"white\",\"linecolor\":\"white\",\"showbackground\":true,\"ticks\":\"\",\"zerolinecolor\":\"white\",\"gridwidth\":2}},\"shapedefaults\":{\"line\":{\"color\":\"#2a3f5f\"}},\"annotationdefaults\":{\"arrowcolor\":\"#2a3f5f\",\"arrowhead\":0,\"arrowwidth\":1},\"geo\":{\"bgcolor\":\"white\",\"landcolor\":\"#E5ECF6\",\"subunitcolor\":\"white\",\"showland\":true,\"showlakes\":true,\"lakecolor\":\"white\"},\"title\":{\"x\":0.05},\"mapbox\":{\"style\":\"light\"}}},\"scene\":{\"domain\":{\"x\":[0.0,1.0],\"y\":[0.0,1.0]},\"xaxis\":{\"title\":{\"text\":\"x\"}},\"yaxis\":{\"title\":{\"text\":\"y\"}},\"zaxis\":{\"title\":{\"text\":\"z\"}}},\"legend\":{\"tracegroupgap\":0},\"margin\":{\"t\":60}},                        {\"responsive\": true}                    ).then(function(){\n",
       "                            \n",
       "var gd = document.getElementById('eec39923-f1bc-4031-81b0-9211423014e9');\n",
       "var x = new MutationObserver(function (mutations, observer) {{\n",
       "        var display = window.getComputedStyle(gd).display;\n",
       "        if (!display || display === 'none') {{\n",
       "            console.log([gd, 'removed!']);\n",
       "            Plotly.purge(gd);\n",
       "            observer.disconnect();\n",
       "        }}\n",
       "}});\n",
       "\n",
       "// Listen for the removal of the full notebook cells\n",
       "var notebookContainer = gd.closest('#notebook-container');\n",
       "if (notebookContainer) {{\n",
       "    x.observe(notebookContainer, {childList: true});\n",
       "}}\n",
       "\n",
       "// Listen for the clearing of the current output cell\n",
       "var outputEl = gd.closest('.output');\n",
       "if (outputEl) {{\n",
       "    x.observe(outputEl, {childList: true});\n",
       "}}\n",
       "\n",
       "                        })                };            </script>        </div>\n",
       "</body>\n",
       "</html>"
      ]
     },
     "metadata": {},
     "output_type": "display_data"
    }
   ],
   "source": [
    "# Graficar los embedddings en 3D\n",
    "\n",
    "vecs, labels = reduce_dimensions(w2v_model,3)\n",
    "\n",
    "fig = px.scatter_3d(x=vecs[:MAX_WORDS,0], y=vecs[:MAX_WORDS,1], z=vecs[:MAX_WORDS,2],text=labels[:MAX_WORDS])\n",
    "fig.update_traces(marker_size = 2)\n",
    "fig.show(renderer=\"colab\") # esto para plotly en colab"
   ]
  },
  {
   "cell_type": "code",
   "execution_count": 74,
   "metadata": {},
   "outputs": [],
   "source": [
    "# También se pueden guardar los vectores y labels como tsv para graficar en\n",
    "# http://projector.tensorflow.org/\n",
    "\n",
    "\n",
    "vectors = np.asarray(w2v_model.wv.vectors)\n",
    "labels = list(w2v_model.wv.index_to_key)\n",
    "\n",
    "np.savetxt(\"vectors.tsv\", vectors, delimiter=\"\\t\")\n",
    "\n",
    "with open(\"labels.tsv\", \"w\") as fp:\n",
    "    for item in labels:\n",
    "        fp.write(\"%s\\n\" % item)"
   ]
  },
  {
   "cell_type": "markdown",
   "metadata": {
    "id": "yMM_SHSaZ9N-"
   },
   "source": [
    "### Alumno"
   ]
  },
  {
   "cell_type": "markdown",
   "metadata": {
    "id": "WivQZ3ZCZ9N_"
   },
   "source": [
    "- Crear sus propios vectores con Gensim basado en lo visto en clase con otro dataset.\n",
    "- Probar términos de interés y explicar similitudes en el espacio de embeddings (sacar conclusiones entre palabras similitudes y diferencias).\n",
    "- Graficarlos.\n",
    "- Obtener conclusiones."
   ]
  },
  {
   "cell_type": "markdown",
   "metadata": {},
   "source": [
    "## Resolución del desafío"
   ]
  },
  {
   "cell_type": "markdown",
   "metadata": {},
   "source": [
    "### Ejercicio \n",
    "- Crear sus propios vectores con Gensim basado en lo visto en clase con otro dataset.\n"
   ]
  },
  {
   "cell_type": "markdown",
   "metadata": {},
   "source": [
    "#### Carga del dataset"
   ]
  },
  {
   "cell_type": "code",
   "execution_count": 31,
   "metadata": {},
   "outputs": [],
   "source": [
    "import pandas as pd\n",
    "from datasets import load_dataset\n",
    "import matplotlib.pyplot as plt\n",
    "import seaborn as sns\n",
    "import multiprocessing\n",
    "from gensim.models import Word2Vec"
   ]
  },
  {
   "cell_type": "code",
   "execution_count": 32,
   "metadata": {},
   "outputs": [
    {
     "name": "stdout",
     "output_type": "stream",
     "text": [
      "                                          filename  \\\n",
      "0      1-Harry-Potter-and-the-Sorcerer’s-Stone.txt   \n",
      "1    2-Harry-Potter-and-the-Chamber-of-Secrets.txt   \n",
      "2   3-Harry-Potter-and-the-Prisoner-of-Azkaban.txt   \n",
      "3        4-Harry-Potter-and-the-Goblet-of-Fire.txt   \n",
      "4  5-Harry-Potter-and-the-Order-of-the-Phoenix.txt   \n",
      "\n",
      "                                             content  \n",
      "0  FOR JESSICA, WHO LOVES STORIES,\\n\\nFOR ANNE, W...  \n",
      "1  FOR SEÁN P. F. HARRIS,\\n\\nGETAWAY DRIVER AND F...  \n",
      "2  TO JILL PREWETT AND\\n\\nAINE KIELY,\\n\\nTHE GODM...  \n",
      "3  TO PETER ROWLING,\\n\\nIN MEMORY OF MR. RIDLEY\\n...  \n",
      "4  TO NEIL, JESSICA, AND DAVID,\\n\\nWHO MAKE MY WO...  \n"
     ]
    }
   ],
   "source": [
    "# Elijo como dataset las novelas de Harry Potter disponibles Hugging Face\n",
    "\n",
    "\n",
    "# Load dataset from HF\n",
    "dataset = load_dataset(\"elricwan/HarryPotter\", split=\"train\")\n",
    "\n",
    "# Convert to pandas DataFrame if needed\n",
    "df_HarryPotter = dataset.to_pandas()\n",
    "\n",
    "print(df_HarryPotter.head())"
   ]
  },
  {
   "cell_type": "code",
   "execution_count": 33,
   "metadata": {},
   "outputs": [
    {
     "name": "stdout",
     "output_type": "stream",
     "text": [
      "Cantidad de documentos: 8\n",
      "Nombre de las columnas del DF:  Index(['filename', 'content'], dtype='object')\n"
     ]
    }
   ],
   "source": [
    "print(\"Cantidad de documentos:\", df_HarryPotter.shape[0])\n",
    "print(\"Nombre de las columnas del DF: \", df_HarryPotter.columns)\n"
   ]
  },
  {
   "cell_type": "markdown",
   "metadata": {},
   "source": [
    "## Observaciones:\n",
    "El dataset presenta 8 archivos de texto correspondientes a los 8 libros de Harry Potter.\n",
    "Debido a las diferencias con el dataset visto en clase, se utilizarán las siguientes definiciones:\n",
    " 1) Se concatenarán todos los libros para formar el corpus.\n",
    " 2) Se considerarán a los párrafos como los documentos para realizar los embeddings."
   ]
  },
  {
   "cell_type": "code",
   "execution_count": null,
   "metadata": {},
   "outputs": [
    {
     "name": "stdout",
     "output_type": "stream",
     "text": [
      "Total 'documents': 80066\n",
      "First doc: ['jessica', 'loves', 'stories']\n"
     ]
    }
   ],
   "source": [
    "# Verificar los documentos, y si se puede dividirlos en párrafos\n",
    "sentence_tokens_hp = []\n",
    "\n",
    "for book in df_HarryPotter['content']:\n",
    "    paragraphs = book.split(\"\\n\")  # Dividir el texto en párrafos usando el salto de línea como separador\n",
    "    for paragraph in paragraphs:\n",
    "        tokens = preprocess_text(paragraph)\n",
    "        if tokens:  # Solo agregar si no está vacío\n",
    "            sentence_tokens_hp.append(tokens)\n",
    "\n",
    "print(f\"Total 'documents': {len(sentence_tokens_hp)}\")\n",
    "print(\"First doc:\", sentence_tokens_hp[0][:50])\n"
   ]
  },
  {
   "cell_type": "code",
   "execution_count": 43,
   "metadata": {},
   "outputs": [],
   "source": [
    "import re\n",
    "from nltk.corpus import stopwords\n",
    "\n",
    "stop_words = set(stopwords.words('english'))\n",
    "\n",
    "def preprocess_text(text):\n",
    "    \"\"\"\n",
    "    Remueve puntuación, convierte a minúsculas, elimina stopwords y tokeniza el texto.\n",
    "    \"\"\"\n",
    "    # Lowercase\n",
    "    text = text.lower()\n",
    "    \n",
    "    # Keep only alphabetic characters and spaces\n",
    "    text = re.sub(r'[^a-z\\s]', '', text)\n",
    "    \n",
    "    # Split into words\n",
    "    tokens = text.split()\n",
    "    \n",
    "    # Remove stopwords\n",
    "    tokens = [word for word in tokens if word not in stop_words]\n",
    "    \n",
    "    return tokens\n"
   ]
  },
  {
   "cell_type": "code",
   "execution_count": 44,
   "metadata": {},
   "outputs": [
    {
     "name": "stdout",
     "output_type": "stream",
     "text": [
      "Ejemplo de párrafo tokenizado: ['jessica', 'loves', 'stories']\n",
      "Total de párrafos procesados: 80570\n"
     ]
    }
   ],
   "source": [
    "# Aplicar el preprocesamiento a cada parragrafo\n",
    "# 1) Concatenar todo el texto\n",
    "all_text = \" \".join(df_HarryPotter['content'].tolist())\n",
    "\n",
    "# Separar por párrafos\n",
    "paragraphs = all_text.split(\"\\n\\n\")\n",
    "\n",
    "# Preprocesar cada párrafo\n",
    "sentence_tokens_hp = [preprocess_text(p) for p in paragraphs if p.strip()]\n",
    "\n",
    "print(\"Ejemplo de párrafo tokenizado:\", sentence_tokens_hp[0][:30])\n",
    "print(\"Total de párrafos procesados:\", len(sentence_tokens_hp))\n"
   ]
  },
  {
   "cell_type": "code",
   "execution_count": 45,
   "metadata": {},
   "outputs": [],
   "source": [
    "from gensim.models import Word2Vec\n",
    "\n",
    "model_hp_potter = Word2Vec(\n",
    "    sentences=sentence_tokens_hp,\n",
    "    vector_size=100,\n",
    "    window=5,\n",
    "    min_count=5,\n",
    "    workers=4,\n",
    "    sg=1\n",
    ")\n"
   ]
  },
  {
   "cell_type": "code",
   "execution_count": 48,
   "metadata": {},
   "outputs": [],
   "source": [
    "# Obtener el vocabulario con los tokens\n",
    "model_hp_potter.build_vocab(sentence_tokens_hp)"
   ]
  },
  {
   "cell_type": "code",
   "execution_count": 49,
   "metadata": {},
   "outputs": [
    {
     "name": "stdout",
     "output_type": "stream",
     "text": [
      "Cantidad de docs en el corpus: 80570\n"
     ]
    }
   ],
   "source": [
    "# Cantidad de filas/docs encontradas en el corpus\n",
    "print(\"Cantidad de docs en el corpus:\", model_hp_potter.corpus_count)"
   ]
  },
  {
   "cell_type": "code",
   "execution_count": 50,
   "metadata": {},
   "outputs": [
    {
     "name": "stdout",
     "output_type": "stream",
     "text": [
      "Cantidad de words distintas en el corpus: 12352\n"
     ]
    }
   ],
   "source": [
    "# Cantidad de words encontradas en el corpus\n",
    "print(\"Cantidad de words distintas en el corpus:\", len(model_hp_potter.wv.index_to_key))"
   ]
  },
  {
   "cell_type": "code",
   "execution_count": 52,
   "metadata": {},
   "outputs": [
    {
     "name": "stdout",
     "output_type": "stream",
     "text": [
      "Loss after epoch 0: 3503233.0\n",
      "Loss after epoch 1: 2937823.5\n",
      "Loss after epoch 2: 2681756.5\n",
      "Loss after epoch 3: 2371201.0\n",
      "Loss after epoch 4: 2366963.0\n",
      "Loss after epoch 5: 2357709.0\n",
      "Loss after epoch 6: 2147794.0\n",
      "Loss after epoch 7: 2027990.0\n",
      "Loss after epoch 8: 2020886.0\n",
      "Loss after epoch 9: 2001460.0\n",
      "Loss after epoch 10: 2002642.0\n",
      "Loss after epoch 11: 1986294.0\n",
      "Loss after epoch 12: 1981168.0\n",
      "Loss after epoch 13: 1982456.0\n",
      "Loss after epoch 14: 1628368.0\n",
      "Loss after epoch 15: 1085440.0\n",
      "Loss after epoch 16: 1100964.0\n",
      "Loss after epoch 17: 1090916.0\n",
      "Loss after epoch 18: 1089840.0\n",
      "Loss after epoch 19: 1064960.0\n",
      "Loss after epoch 20: 893336.0\n",
      "Loss after epoch 21: 1068716.0\n",
      "Loss after epoch 22: 1072112.0\n",
      "Loss after epoch 23: 1056140.0\n",
      "Loss after epoch 24: 1059964.0\n",
      "Loss after epoch 25: 1050528.0\n",
      "Loss after epoch 26: 1051356.0\n",
      "Loss after epoch 27: 1052940.0\n",
      "Loss after epoch 28: 1066980.0\n",
      "Loss after epoch 29: 1068544.0\n",
      "Loss after epoch 30: 1085396.0\n",
      "Loss after epoch 31: 1089020.0\n",
      "Loss after epoch 32: 1110748.0\n",
      "Loss after epoch 33: 1112188.0\n",
      "Loss after epoch 34: 1162540.0\n",
      "Loss after epoch 35: 1170108.0\n",
      "Loss after epoch 36: 1201396.0\n",
      "Loss after epoch 37: 1208924.0\n",
      "Loss after epoch 38: 1228976.0\n",
      "Loss after epoch 39: 1251848.0\n",
      "Loss after epoch 40: 1264644.0\n",
      "Loss after epoch 41: 1277652.0\n",
      "Loss after epoch 42: 1289024.0\n",
      "Loss after epoch 43: 1311280.0\n",
      "Loss after epoch 44: 617552.0\n",
      "Loss after epoch 45: 197080.0\n",
      "Loss after epoch 46: 189664.0\n",
      "Loss after epoch 47: 179856.0\n",
      "Loss after epoch 48: 171344.0\n",
      "Loss after epoch 49: 156328.0\n"
     ]
    },
    {
     "data": {
      "text/plain": [
       "(55162911, 60602400)"
      ]
     },
     "execution_count": 52,
     "metadata": {},
     "output_type": "execute_result"
    }
   ],
   "source": [
    "# Entrenamos el modelo generador de vectores\n",
    "# Utilizamos nuestro callback\n",
    "model_hp_potter.train(sentence_tokens_hp,\n",
    "                 total_examples=w2v_model.corpus_count,\n",
    "                 epochs=50,\n",
    "                 compute_loss = True,\n",
    "                 callbacks=[callback()]\n",
    "                 )"
   ]
  },
  {
   "cell_type": "markdown",
   "metadata": {},
   "source": [
    "### Procedemos a ensayar y a buscar relaciones de palabras en los documentos"
   ]
  },
  {
   "cell_type": "code",
   "execution_count": 53,
   "metadata": {},
   "outputs": [
    {
     "data": {
      "text/plain": [
       "[('ron', 0.8027319312095642),\n",
       " ('hermione', 0.7725063562393188),\n",
       " ('shhhh', 0.673701286315918),\n",
       " ('cruc', 0.6548905968666077),\n",
       " ('tuney', 0.6505980491638184),\n",
       " ('jubilantly', 0.6279476881027222),\n",
       " ('back', 0.6265587210655212),\n",
       " ('noncommittal', 0.6192820072174072),\n",
       " ('said', 0.6111220121383667),\n",
       " ('throttle', 0.6067759990692139)]"
      ]
     },
     "execution_count": 53,
     "metadata": {},
     "output_type": "execute_result"
    }
   ],
   "source": [
    "# Palabras que MÁS se relacionan con...:\n",
    "model_hp_potter.wv.most_similar(positive=[\"harry\"], topn=10)"
   ]
  },
  {
   "cell_type": "code",
   "execution_count": 55,
   "metadata": {},
   "outputs": [
    {
     "data": {
      "text/plain": [
       "[('katie', 0.16288213431835175),\n",
       " ('shrieked', 0.11411089450120926),\n",
       " ('cutting', 0.11048087477684021),\n",
       " ('gestured', 0.10700314491987228),\n",
       " ('filled', 0.10297875851392746),\n",
       " ('smiles', 0.09358055144548416),\n",
       " ('trailed', 0.09137681126594543),\n",
       " ('noisily', 0.0849495455622673),\n",
       " ('gulping', 0.0808401107788086),\n",
       " ('accidentally', 0.07704715430736542)]"
      ]
     },
     "execution_count": 55,
     "metadata": {},
     "output_type": "execute_result"
    }
   ],
   "source": [
    "# Palabras que MENOS se relacionan con...:\n",
    "model_hp_potter.wv.most_similar(negative=[\"magic\"], topn=10)"
   ]
  },
  {
   "cell_type": "code",
   "execution_count": 56,
   "metadata": {},
   "outputs": [
    {
     "data": {
      "text/plain": [
       "[('lord', 0.7959990501403809),\n",
       " ('voldemorts', 0.7609379291534424),\n",
       " ('rookwoods', 0.5961538553237915),\n",
       " ('sanctuary', 0.5835540294647217),\n",
       " ('feared', 0.5763315558433533),\n",
       " ('understands', 0.5762743949890137),\n",
       " ('vanquish', 0.5758090615272522),\n",
       " ('hoodwinked', 0.5681061148643494),\n",
       " ('downfall', 0.5618146657943726),\n",
       " ('conquered', 0.5535776615142822)]"
      ]
     },
     "execution_count": 56,
     "metadata": {},
     "output_type": "execute_result"
    }
   ],
   "source": [
    "# Palabras que MÁS se relacionan con...:\n",
    "model_hp_potter.wv.most_similar(positive=[\"voldemort\"], topn=10)"
   ]
  },
  {
   "cell_type": "code",
   "execution_count": 57,
   "metadata": {},
   "outputs": [
    {
     "ename": "KeyError",
     "evalue": "\"Key 'flor' not present in vocabulary\"",
     "output_type": "error",
     "traceback": [
      "\u001b[31m---------------------------------------------------------------------------\u001b[39m",
      "\u001b[31mKeyError\u001b[39m                                  Traceback (most recent call last)",
      "\u001b[36mCell\u001b[39m\u001b[36m \u001b[39m\u001b[32mIn[57]\u001b[39m\u001b[32m, line 2\u001b[39m\n\u001b[32m      1\u001b[39m \u001b[38;5;66;03m# Ensayar con una palabra que no está en el vocabulario:\u001b[39;00m\n\u001b[32m----> \u001b[39m\u001b[32m2\u001b[39m \u001b[43mw2v_model\u001b[49m\u001b[43m.\u001b[49m\u001b[43mwv\u001b[49m\u001b[43m.\u001b[49m\u001b[43mmost_similar\u001b[49m\u001b[43m(\u001b[49m\u001b[43mnegative\u001b[49m\u001b[43m=\u001b[49m\u001b[43m[\u001b[49m\u001b[33;43m\"\u001b[39;49m\u001b[33;43mflor\u001b[39;49m\u001b[33;43m\"\u001b[39;49m\u001b[43m]\u001b[49m\u001b[43m)\u001b[49m\n",
      "\u001b[36mFile \u001b[39m\u001b[32m~/CEIA/CEIA-NLP/.venv/lib/python3.11/site-packages/gensim/models/keyedvectors.py:841\u001b[39m, in \u001b[36mKeyedVectors.most_similar\u001b[39m\u001b[34m(self, positive, negative, topn, clip_start, clip_end, restrict_vocab, indexer)\u001b[39m\n\u001b[32m    838\u001b[39m         weight[idx] = item[\u001b[32m1\u001b[39m]\n\u001b[32m    840\u001b[39m \u001b[38;5;66;03m# compute the weighted average of all keys\u001b[39;00m\n\u001b[32m--> \u001b[39m\u001b[32m841\u001b[39m mean = \u001b[38;5;28;43mself\u001b[39;49m\u001b[43m.\u001b[49m\u001b[43mget_mean_vector\u001b[49m\u001b[43m(\u001b[49m\u001b[43mkeys\u001b[49m\u001b[43m,\u001b[49m\u001b[43m \u001b[49m\u001b[43mweight\u001b[49m\u001b[43m,\u001b[49m\u001b[43m \u001b[49m\u001b[43mpre_normalize\u001b[49m\u001b[43m=\u001b[49m\u001b[38;5;28;43;01mTrue\u001b[39;49;00m\u001b[43m,\u001b[49m\u001b[43m \u001b[49m\u001b[43mpost_normalize\u001b[49m\u001b[43m=\u001b[49m\u001b[38;5;28;43;01mTrue\u001b[39;49;00m\u001b[43m,\u001b[49m\u001b[43m \u001b[49m\u001b[43mignore_missing\u001b[49m\u001b[43m=\u001b[49m\u001b[38;5;28;43;01mFalse\u001b[39;49;00m\u001b[43m)\u001b[49m\n\u001b[32m    842\u001b[39m all_keys = [\n\u001b[32m    843\u001b[39m     \u001b[38;5;28mself\u001b[39m.get_index(key) \u001b[38;5;28;01mfor\u001b[39;00m key \u001b[38;5;129;01min\u001b[39;00m keys \u001b[38;5;28;01mif\u001b[39;00m \u001b[38;5;28misinstance\u001b[39m(key, _KEY_TYPES) \u001b[38;5;129;01mand\u001b[39;00m \u001b[38;5;28mself\u001b[39m.has_index_for(key)\n\u001b[32m    844\u001b[39m ]\n\u001b[32m    846\u001b[39m \u001b[38;5;28;01mif\u001b[39;00m indexer \u001b[38;5;129;01mis\u001b[39;00m \u001b[38;5;129;01mnot\u001b[39;00m \u001b[38;5;28;01mNone\u001b[39;00m \u001b[38;5;129;01mand\u001b[39;00m \u001b[38;5;28misinstance\u001b[39m(topn, \u001b[38;5;28mint\u001b[39m):\n",
      "\u001b[36mFile \u001b[39m\u001b[32m~/CEIA/CEIA-NLP/.venv/lib/python3.11/site-packages/gensim/models/keyedvectors.py:518\u001b[39m, in \u001b[36mKeyedVectors.get_mean_vector\u001b[39m\u001b[34m(self, keys, weights, pre_normalize, post_normalize, ignore_missing)\u001b[39m\n\u001b[32m    516\u001b[39m         total_weight += \u001b[38;5;28mabs\u001b[39m(weights[idx])\n\u001b[32m    517\u001b[39m     \u001b[38;5;28;01melif\u001b[39;00m \u001b[38;5;129;01mnot\u001b[39;00m ignore_missing:\n\u001b[32m--> \u001b[39m\u001b[32m518\u001b[39m         \u001b[38;5;28;01mraise\u001b[39;00m \u001b[38;5;167;01mKeyError\u001b[39;00m(\u001b[33mf\u001b[39m\u001b[33m\"\u001b[39m\u001b[33mKey \u001b[39m\u001b[33m'\u001b[39m\u001b[38;5;132;01m{\u001b[39;00mkey\u001b[38;5;132;01m}\u001b[39;00m\u001b[33m'\u001b[39m\u001b[33m not present in vocabulary\u001b[39m\u001b[33m\"\u001b[39m)\n\u001b[32m    520\u001b[39m \u001b[38;5;28;01mif\u001b[39;00m total_weight > \u001b[32m0\u001b[39m:\n\u001b[32m    521\u001b[39m     mean = mean / total_weight\n",
      "\u001b[31mKeyError\u001b[39m: \"Key 'flor' not present in vocabulary\""
     ]
    }
   ],
   "source": [
    "# Ensayar con una palabra que no está en el vocabulario:\n",
    "w2v_model.wv.most_similar(negative=[\"flor\"])"
   ]
  },
  {
   "cell_type": "code",
   "execution_count": 61,
   "metadata": {},
   "outputs": [
    {
     "data": {
      "text/plain": [
       "[('cross', 0.6059896349906921),\n",
       " ('barrier', 0.5752648115158081),\n",
       " ('kings', 0.5721648931503296),\n",
       " ('platform', 0.5527564883232117),\n",
       " ('threequarters', 0.5314339995384216),\n",
       " ('jostled', 0.5269558429718018),\n",
       " ('road', 0.5267975926399231),\n",
       " ('charing', 0.5253555774688721),\n",
       " ('trolleys', 0.5102257132530212),\n",
       " ('garage', 0.5060897469520569)]"
      ]
     },
     "execution_count": 61,
     "metadata": {},
     "output_type": "execute_result"
    }
   ],
   "source": [
    "# Palabras que MÁS se relacionan con...:\n",
    "model_hp_potter.wv.most_similar(positive=[\"station\"], topn=10)"
   ]
  },
  {
   "cell_type": "code",
   "execution_count": 62,
   "metadata": {},
   "outputs": [
    {
     "name": "stdout",
     "output_type": "stream",
     "text": [
      "[ 5.50663412e-01 -1.52389482e-01 -2.83300012e-01 -1.30949676e-01\n",
      "  2.27266535e-01 -3.01922768e-01  2.74379283e-01  7.44201303e-01\n",
      " -1.17931515e-01 -2.36827713e-02 -5.01735091e-01  6.31573349e-02\n",
      "  2.43052617e-01  4.56351519e-01  4.09058452e-01 -3.01888939e-02\n",
      "  1.53085575e-01  1.48005545e-01 -5.28157830e-01 -1.33686781e-01\n",
      " -1.32122695e-01  7.00680494e-01 -2.92728422e-04 -4.66681510e-01\n",
      " -6.85469881e-02 -3.95182103e-01  2.48562083e-01 -8.27288449e-01\n",
      " -4.32975233e-01  1.09445110e-01  5.91463149e-01 -7.13975728e-03\n",
      "  1.46514401e-01 -4.52105403e-01  1.83359265e-01  3.31424057e-01\n",
      " -2.69755155e-01 -2.91276127e-01 -4.82715160e-01 -7.07179368e-01\n",
      "  3.65084410e-02 -3.25013041e-01  4.01991397e-01  2.10347306e-02\n",
      "  8.13915357e-02 -1.65663213e-01  9.40462425e-02 -2.03326911e-01\n",
      "  4.37827379e-01  5.93954504e-01 -5.07086098e-01 -1.13183837e-02\n",
      " -3.08690041e-01  1.19622327e-01  1.82093233e-01  2.16655135e-02\n",
      " -2.44084865e-01 -4.95229393e-01 -5.94993532e-02 -1.68379575e-01\n",
      "  3.15947533e-02  6.68947339e-01 -1.24536917e-01  1.07681617e-01\n",
      "  4.73572731e-01 -3.84424403e-02  6.55712962e-01  4.74476278e-01\n",
      " -4.63481635e-01  1.01345830e-01  9.00353715e-02 -3.60769629e-01\n",
      "  4.42433059e-01  8.25322390e-01  1.68506250e-01  6.77687466e-01\n",
      "  3.77070516e-01 -6.92417026e-02 -1.45978272e-01 -2.29405656e-01\n",
      " -1.98901892e-01  7.54299581e-01 -5.03341079e-01  9.80155692e-02\n",
      "  1.14033438e-01  1.42433196e-01  2.84079969e-01  3.54720443e-01\n",
      "  1.21390320e-01 -6.43116841e-03 -1.94131769e-02 -3.49143773e-01\n",
      " -1.01895496e-01  5.75128235e-02  9.34152231e-02  4.52941865e-01\n",
      " -2.05267504e-01  5.26360512e-01  1.52958423e-01 -2.77311891e-01]\n"
     ]
    }
   ],
   "source": [
    "# el método `get_vector` permite obtener los vectores:\n",
    "vector_potter = model_hp_potter.wv.get_vector(\"potter\")\n",
    "print(vector_potter)"
   ]
  },
  {
   "cell_type": "markdown",
   "metadata": {},
   "source": [
    "### Visualización de los vectores:"
   ]
  },
  {
   "cell_type": "code",
   "execution_count": 63,
   "metadata": {},
   "outputs": [],
   "source": [
    "from sklearn.decomposition import IncrementalPCA    \n",
    "from sklearn.manifold import TSNE                   \n",
    "import numpy as np                                  \n",
    "\n",
    "def reduce_dimensions(model, num_dimensions = 2 ):\n",
    "     \n",
    "    vectors = np.asarray(model.wv.vectors)\n",
    "    labels = np.asarray(model.wv.index_to_key)  \n",
    "\n",
    "    tsne = TSNE(n_components=num_dimensions, random_state=0)\n",
    "    vectors = tsne.fit_transform(vectors)\n",
    "\n",
    "    return vectors, labels"
   ]
  },
  {
   "cell_type": "code",
   "execution_count": 76,
   "metadata": {},
   "outputs": [
    {
     "data": {
      "application/vnd.plotly.v1+json": {
       "config": {
        "plotlyServerURL": "https://plot.ly"
       },
       "data": [
        {
         "hovertemplate": "x=%{x}<br>y=%{y}<br>text=%{text}<extra></extra>",
         "legendgroup": "",
         "marker": {
          "color": "#636efa",
          "symbol": "circle"
         },
         "mode": "markers+text",
         "name": "",
         "orientation": "v",
         "showlegend": false,
         "text": [
          "harry",
          "said",
          "ron",
          "hermione",
          "back",
          "dumbledore",
          "could",
          "one",
          "like",
          "looked",
          "would",
          "know",
          "around",
          "well",
          "got",
          "professor",
          "see",
          "dont",
          "though",
          "think",
          "still",
          "time",
          "hagrid",
          "get",
          "right",
          "eyes",
          "wand",
          "looking",
          "snape",
          "face",
          "voice",
          "weasley",
          "going",
          "harrys",
          "look",
          "go",
          "didnt",
          "room",
          "im",
          "come",
          "head",
          "door",
          "thought",
          "mr",
          "something",
          "potter",
          "saw",
          "malfoy",
          "never",
          "behind",
          "seemed",
          "hand",
          "way",
          "away",
          "hes",
          "told",
          "asked",
          "turned",
          "two",
          "last",
          "toward",
          "much",
          "dark",
          "little",
          "us",
          "long",
          "even",
          "voldemort",
          "sirius",
          "knew",
          "first",
          "good",
          "want",
          "oh",
          "tell",
          "heard",
          "made",
          "people",
          "hogwarts",
          "left",
          "yes",
          "really",
          "say",
          "moment",
          "felt",
          "mrs",
          "youre",
          "fred",
          "great",
          "black",
          "might",
          "thats",
          "ive",
          "front",
          "ever",
          "came",
          "death",
          "feet",
          "take",
          "anything",
          "sure",
          "lupin",
          "next",
          "nothing",
          "took",
          "trying",
          "three",
          "make",
          "another",
          "cant",
          "let",
          "george",
          "yeah",
          "table",
          "open",
          "old",
          "ginny",
          "inside",
          "went",
          "find",
          "mcgonagall",
          "must",
          "course",
          "neville",
          "magic",
          "large",
          "put",
          "ill",
          "school",
          "floor",
          "upon",
          "every",
          "thing",
          "hall",
          "gave",
          "seen",
          "place",
          "found",
          "hands",
          "stood",
          "hear",
          "need",
          "night",
          "without",
          "ministry",
          "onto",
          "house",
          "uncle",
          "mean",
          "pulled",
          "end",
          "gryffindor",
          "years",
          "across",
          "quite",
          "hair",
          "wanted",
          "bit",
          "boy",
          "air",
          "hed",
          "wasnt",
          "better",
          "cloak",
          "done",
          "happened",
          "umbridge",
          "couldnt",
          "help",
          "side",
          "keep",
          "enough",
          "man",
          "rons",
          "second",
          "along",
          "bed",
          "give",
          "fudge",
          "mind",
          "wizard",
          "light",
          "yet",
          "already",
          "youve",
          "whats",
          "small",
          "vernon",
          "however",
          "year",
          "robes",
          "staring",
          "gone",
          "else",
          "many",
          "rather",
          "set",
          "walked",
          "fell",
          "forward"
         ],
         "type": "scatter",
         "x": {
          "bdata": "xoHTv04mDUEgn4C//iqAvzU468BOcsNB4V2UPxBnLb3hFSQ/WgJGwfvBhUGi7mdB+xLlwMX4ZEHMWW1B/bz0wECbyT8o8WdBJNFzv4OLZkH86obAtV6OQGRAnEHRzVJBWiNLwKbwc8FranLB+0NiwHzDukDLjYPB7S7FwLOH/kA73QxB8xLgvwlQz79jHVNBj5ynQcOvosG6koJBsTlLQa0hrsFBUsrBchaXPs5NBkEWtw+/M9i6QRqVcsFmurHALCZ+QdP3bcGwdwK646mhwRqoyr/99e/AaCx8QQcRIUGSzQ1BCPSHwf3dGUFG4StAUSXswXphSkEHXgNCHlQWwSzIV0Ewd/rBypc8v98mCELB9TZBcMmDQZGLj0DCS1BBkuJlQcWLGEHjnGFBqLmawRxsFsGeWjm9GInEQYxCVMBiIx1B5bhvQSOfXEGggQTBJ6upwKCTAUFO6YFBx2bFQLgQqcGTicvBIsiFQXtvckEgFm9BW2nlwUriWUGHgHvBBOiAQbzn0sGAjUtBNTRvQV1Pt0ErCMpALZwHQRp7pb9xMnTBNMkAP0ICF0G/UFhBlB4BvXAVbUGwGh3AhJjFQPniEEE68WbB9w7FwQ70uEDIzKG/4NoNwuEP4sAkSHBBCc31wJVvsUFNJWpBSsAuv0AsB0LNacPBOxdJQCnJaEHv9sRBX8LRwSz0T8E9ELs+ETxSQZEZqsFp9TPBSYV+QQkvCUKCMPy+Z9ygwYDP6cFIVss/Iy9tQYJnDUDIEpdAGZIHQo+n6cGuQ3VA2VliwCbedkEYhrDBw3lYwZrL5j/nMhJCzS/8wcDsSb8egsDB1y6FQaZCB0EgRItB/LvlwdaihUFaANBAo8xhQSP15sEOFGNBrVAmQdiV7sAft5E/7DJOQcawnMFeLyZAjdH4QNBDH8HHVpPAnsVeweee4MGZv7/BS25TQWbTE0K2U11Br9z3QfUyCMLbcKBAFL+nwASlbUGKuuNAdw0cwp/ZYcDG4gtAEq47QfsJ4cFFF+TAUHVTv4qDfEDEHslBBzD3wBHLeMC4DALCKgmSwRyHMsE=",
          "dtype": "f4"
         },
         "xaxis": "x",
         "y": {
          "bdata": "E5LPQJEXUEGQdR1BRSceQbV3T0GFY2tBnUe7QClUmECJMJG/4t0KwbgHf0B/G1JBtlYmQUGKd0FS+JVBNYIGQhLU0UBIpF9BRymtQC12UEEYaK9AstpFQO4SykGUtIJBtrBVQQMoW8FVq5tAJiMnQebO1UHAPEHBaVpqQHDI8UGsH4hBGsvKQHxb8EA6ooNBTb6DQflK4kGhoIpBuzyAQf71AMLuDLxBvtl/QJ4M9UHKDtBAoqeLQOGzKMBm9M5BwD27QIkhNEGv14bAjA9gwKoX0kCUHE9BeaeKQQcvREGIXU1BPM2mQffBz8G02HVAaLR7QdtbKEBRGYFAbrhswQjTDUGeBMbB7tC5QA3ln0AGzetBsGyyQAk7SEBtk7g/VJhgQRTtVUH8IetAhR9nQWHpxkEwwLlByQTtQY9QV0FIr1NBJZISQb9iF0EamppBUdNywCdS8EHQBYpB8/YawuCd9kEfMlfBJVGBQFhFiUEu/5ZBQgw8QTjLU0AknqVBt+4jQinAKUCwaxFBQLfeQFn+ZECPTdZBJEzowRtWg0BR59ZBScnUQHYj0cHrfFBAMTuaQM57cEH3/YZBHPQawnbRUkEiD6VBQEK6QaqfQ8FPvR5B7XPKQbthRkHS8pZAx5gGQmXzaUEVn1JB1mIdQf8YRsEKSDnBqchtQGyddUG7Mu1BnLGaQJ7zGcF9NUXB1raMQNVW9UFXmGhA3fyzQB0idkG7vIdAYzf2vkosH0FbJc9AiO5iQXBA9z+ezp1B3MZFwZriPEFKoQtCrYoowgvJS0Ge+Uq/a+91QdJMEEJRQP4/4eFDQZxwZ0Cs/oTBUgSFQPgG6EAv41pB/4sdQE7efECSsMlAjS5+QSSTAULqxJRAvnTDQD2ZBEKcNLtABAETQUMT0kGA7RtBxUemQGYncsHOaVnBdEyiPyf/i0G86fjBLEYNQSTkmUHNY1RBg/9WwES6sL/sj6ZB7eE+QYjxlUENuINB+kYkQaaFKMJawKfALIQ+wVTvsMEwCRJBZUFCQIc+w0CO01TBeHwywbWQFsHtmH9B1h6Cv4Q4cUE=",
          "dtype": "f4"
         },
         "yaxis": "y"
        }
       ],
       "layout": {
        "legend": {
         "tracegroupgap": 0
        },
        "margin": {
         "t": 60
        },
        "template": {
         "data": {
          "bar": [
           {
            "error_x": {
             "color": "#2a3f5f"
            },
            "error_y": {
             "color": "#2a3f5f"
            },
            "marker": {
             "line": {
              "color": "#E5ECF6",
              "width": 0.5
             },
             "pattern": {
              "fillmode": "overlay",
              "size": 10,
              "solidity": 0.2
             }
            },
            "type": "bar"
           }
          ],
          "barpolar": [
           {
            "marker": {
             "line": {
              "color": "#E5ECF6",
              "width": 0.5
             },
             "pattern": {
              "fillmode": "overlay",
              "size": 10,
              "solidity": 0.2
             }
            },
            "type": "barpolar"
           }
          ],
          "carpet": [
           {
            "aaxis": {
             "endlinecolor": "#2a3f5f",
             "gridcolor": "white",
             "linecolor": "white",
             "minorgridcolor": "white",
             "startlinecolor": "#2a3f5f"
            },
            "baxis": {
             "endlinecolor": "#2a3f5f",
             "gridcolor": "white",
             "linecolor": "white",
             "minorgridcolor": "white",
             "startlinecolor": "#2a3f5f"
            },
            "type": "carpet"
           }
          ],
          "choropleth": [
           {
            "colorbar": {
             "outlinewidth": 0,
             "ticks": ""
            },
            "type": "choropleth"
           }
          ],
          "contour": [
           {
            "colorbar": {
             "outlinewidth": 0,
             "ticks": ""
            },
            "colorscale": [
             [
              0,
              "#0d0887"
             ],
             [
              0.1111111111111111,
              "#46039f"
             ],
             [
              0.2222222222222222,
              "#7201a8"
             ],
             [
              0.3333333333333333,
              "#9c179e"
             ],
             [
              0.4444444444444444,
              "#bd3786"
             ],
             [
              0.5555555555555556,
              "#d8576b"
             ],
             [
              0.6666666666666666,
              "#ed7953"
             ],
             [
              0.7777777777777778,
              "#fb9f3a"
             ],
             [
              0.8888888888888888,
              "#fdca26"
             ],
             [
              1,
              "#f0f921"
             ]
            ],
            "type": "contour"
           }
          ],
          "contourcarpet": [
           {
            "colorbar": {
             "outlinewidth": 0,
             "ticks": ""
            },
            "type": "contourcarpet"
           }
          ],
          "heatmap": [
           {
            "colorbar": {
             "outlinewidth": 0,
             "ticks": ""
            },
            "colorscale": [
             [
              0,
              "#0d0887"
             ],
             [
              0.1111111111111111,
              "#46039f"
             ],
             [
              0.2222222222222222,
              "#7201a8"
             ],
             [
              0.3333333333333333,
              "#9c179e"
             ],
             [
              0.4444444444444444,
              "#bd3786"
             ],
             [
              0.5555555555555556,
              "#d8576b"
             ],
             [
              0.6666666666666666,
              "#ed7953"
             ],
             [
              0.7777777777777778,
              "#fb9f3a"
             ],
             [
              0.8888888888888888,
              "#fdca26"
             ],
             [
              1,
              "#f0f921"
             ]
            ],
            "type": "heatmap"
           }
          ],
          "histogram": [
           {
            "marker": {
             "pattern": {
              "fillmode": "overlay",
              "size": 10,
              "solidity": 0.2
             }
            },
            "type": "histogram"
           }
          ],
          "histogram2d": [
           {
            "colorbar": {
             "outlinewidth": 0,
             "ticks": ""
            },
            "colorscale": [
             [
              0,
              "#0d0887"
             ],
             [
              0.1111111111111111,
              "#46039f"
             ],
             [
              0.2222222222222222,
              "#7201a8"
             ],
             [
              0.3333333333333333,
              "#9c179e"
             ],
             [
              0.4444444444444444,
              "#bd3786"
             ],
             [
              0.5555555555555556,
              "#d8576b"
             ],
             [
              0.6666666666666666,
              "#ed7953"
             ],
             [
              0.7777777777777778,
              "#fb9f3a"
             ],
             [
              0.8888888888888888,
              "#fdca26"
             ],
             [
              1,
              "#f0f921"
             ]
            ],
            "type": "histogram2d"
           }
          ],
          "histogram2dcontour": [
           {
            "colorbar": {
             "outlinewidth": 0,
             "ticks": ""
            },
            "colorscale": [
             [
              0,
              "#0d0887"
             ],
             [
              0.1111111111111111,
              "#46039f"
             ],
             [
              0.2222222222222222,
              "#7201a8"
             ],
             [
              0.3333333333333333,
              "#9c179e"
             ],
             [
              0.4444444444444444,
              "#bd3786"
             ],
             [
              0.5555555555555556,
              "#d8576b"
             ],
             [
              0.6666666666666666,
              "#ed7953"
             ],
             [
              0.7777777777777778,
              "#fb9f3a"
             ],
             [
              0.8888888888888888,
              "#fdca26"
             ],
             [
              1,
              "#f0f921"
             ]
            ],
            "type": "histogram2dcontour"
           }
          ],
          "mesh3d": [
           {
            "colorbar": {
             "outlinewidth": 0,
             "ticks": ""
            },
            "type": "mesh3d"
           }
          ],
          "parcoords": [
           {
            "line": {
             "colorbar": {
              "outlinewidth": 0,
              "ticks": ""
             }
            },
            "type": "parcoords"
           }
          ],
          "pie": [
           {
            "automargin": true,
            "type": "pie"
           }
          ],
          "scatter": [
           {
            "fillpattern": {
             "fillmode": "overlay",
             "size": 10,
             "solidity": 0.2
            },
            "type": "scatter"
           }
          ],
          "scatter3d": [
           {
            "line": {
             "colorbar": {
              "outlinewidth": 0,
              "ticks": ""
             }
            },
            "marker": {
             "colorbar": {
              "outlinewidth": 0,
              "ticks": ""
             }
            },
            "type": "scatter3d"
           }
          ],
          "scattercarpet": [
           {
            "marker": {
             "colorbar": {
              "outlinewidth": 0,
              "ticks": ""
             }
            },
            "type": "scattercarpet"
           }
          ],
          "scattergeo": [
           {
            "marker": {
             "colorbar": {
              "outlinewidth": 0,
              "ticks": ""
             }
            },
            "type": "scattergeo"
           }
          ],
          "scattergl": [
           {
            "marker": {
             "colorbar": {
              "outlinewidth": 0,
              "ticks": ""
             }
            },
            "type": "scattergl"
           }
          ],
          "scattermap": [
           {
            "marker": {
             "colorbar": {
              "outlinewidth": 0,
              "ticks": ""
             }
            },
            "type": "scattermap"
           }
          ],
          "scattermapbox": [
           {
            "marker": {
             "colorbar": {
              "outlinewidth": 0,
              "ticks": ""
             }
            },
            "type": "scattermapbox"
           }
          ],
          "scatterpolar": [
           {
            "marker": {
             "colorbar": {
              "outlinewidth": 0,
              "ticks": ""
             }
            },
            "type": "scatterpolar"
           }
          ],
          "scatterpolargl": [
           {
            "marker": {
             "colorbar": {
              "outlinewidth": 0,
              "ticks": ""
             }
            },
            "type": "scatterpolargl"
           }
          ],
          "scatterternary": [
           {
            "marker": {
             "colorbar": {
              "outlinewidth": 0,
              "ticks": ""
             }
            },
            "type": "scatterternary"
           }
          ],
          "surface": [
           {
            "colorbar": {
             "outlinewidth": 0,
             "ticks": ""
            },
            "colorscale": [
             [
              0,
              "#0d0887"
             ],
             [
              0.1111111111111111,
              "#46039f"
             ],
             [
              0.2222222222222222,
              "#7201a8"
             ],
             [
              0.3333333333333333,
              "#9c179e"
             ],
             [
              0.4444444444444444,
              "#bd3786"
             ],
             [
              0.5555555555555556,
              "#d8576b"
             ],
             [
              0.6666666666666666,
              "#ed7953"
             ],
             [
              0.7777777777777778,
              "#fb9f3a"
             ],
             [
              0.8888888888888888,
              "#fdca26"
             ],
             [
              1,
              "#f0f921"
             ]
            ],
            "type": "surface"
           }
          ],
          "table": [
           {
            "cells": {
             "fill": {
              "color": "#EBF0F8"
             },
             "line": {
              "color": "white"
             }
            },
            "header": {
             "fill": {
              "color": "#C8D4E3"
             },
             "line": {
              "color": "white"
             }
            },
            "type": "table"
           }
          ]
         },
         "layout": {
          "annotationdefaults": {
           "arrowcolor": "#2a3f5f",
           "arrowhead": 0,
           "arrowwidth": 1
          },
          "autotypenumbers": "strict",
          "coloraxis": {
           "colorbar": {
            "outlinewidth": 0,
            "ticks": ""
           }
          },
          "colorscale": {
           "diverging": [
            [
             0,
             "#8e0152"
            ],
            [
             0.1,
             "#c51b7d"
            ],
            [
             0.2,
             "#de77ae"
            ],
            [
             0.3,
             "#f1b6da"
            ],
            [
             0.4,
             "#fde0ef"
            ],
            [
             0.5,
             "#f7f7f7"
            ],
            [
             0.6,
             "#e6f5d0"
            ],
            [
             0.7,
             "#b8e186"
            ],
            [
             0.8,
             "#7fbc41"
            ],
            [
             0.9,
             "#4d9221"
            ],
            [
             1,
             "#276419"
            ]
           ],
           "sequential": [
            [
             0,
             "#0d0887"
            ],
            [
             0.1111111111111111,
             "#46039f"
            ],
            [
             0.2222222222222222,
             "#7201a8"
            ],
            [
             0.3333333333333333,
             "#9c179e"
            ],
            [
             0.4444444444444444,
             "#bd3786"
            ],
            [
             0.5555555555555556,
             "#d8576b"
            ],
            [
             0.6666666666666666,
             "#ed7953"
            ],
            [
             0.7777777777777778,
             "#fb9f3a"
            ],
            [
             0.8888888888888888,
             "#fdca26"
            ],
            [
             1,
             "#f0f921"
            ]
           ],
           "sequentialminus": [
            [
             0,
             "#0d0887"
            ],
            [
             0.1111111111111111,
             "#46039f"
            ],
            [
             0.2222222222222222,
             "#7201a8"
            ],
            [
             0.3333333333333333,
             "#9c179e"
            ],
            [
             0.4444444444444444,
             "#bd3786"
            ],
            [
             0.5555555555555556,
             "#d8576b"
            ],
            [
             0.6666666666666666,
             "#ed7953"
            ],
            [
             0.7777777777777778,
             "#fb9f3a"
            ],
            [
             0.8888888888888888,
             "#fdca26"
            ],
            [
             1,
             "#f0f921"
            ]
           ]
          },
          "colorway": [
           "#636efa",
           "#EF553B",
           "#00cc96",
           "#ab63fa",
           "#FFA15A",
           "#19d3f3",
           "#FF6692",
           "#B6E880",
           "#FF97FF",
           "#FECB52"
          ],
          "font": {
           "color": "#2a3f5f"
          },
          "geo": {
           "bgcolor": "white",
           "lakecolor": "white",
           "landcolor": "#E5ECF6",
           "showlakes": true,
           "showland": true,
           "subunitcolor": "white"
          },
          "hoverlabel": {
           "align": "left"
          },
          "hovermode": "closest",
          "mapbox": {
           "style": "light"
          },
          "paper_bgcolor": "white",
          "plot_bgcolor": "#E5ECF6",
          "polar": {
           "angularaxis": {
            "gridcolor": "white",
            "linecolor": "white",
            "ticks": ""
           },
           "bgcolor": "#E5ECF6",
           "radialaxis": {
            "gridcolor": "white",
            "linecolor": "white",
            "ticks": ""
           }
          },
          "scene": {
           "xaxis": {
            "backgroundcolor": "#E5ECF6",
            "gridcolor": "white",
            "gridwidth": 2,
            "linecolor": "white",
            "showbackground": true,
            "ticks": "",
            "zerolinecolor": "white"
           },
           "yaxis": {
            "backgroundcolor": "#E5ECF6",
            "gridcolor": "white",
            "gridwidth": 2,
            "linecolor": "white",
            "showbackground": true,
            "ticks": "",
            "zerolinecolor": "white"
           },
           "zaxis": {
            "backgroundcolor": "#E5ECF6",
            "gridcolor": "white",
            "gridwidth": 2,
            "linecolor": "white",
            "showbackground": true,
            "ticks": "",
            "zerolinecolor": "white"
           }
          },
          "shapedefaults": {
           "line": {
            "color": "#2a3f5f"
           }
          },
          "ternary": {
           "aaxis": {
            "gridcolor": "white",
            "linecolor": "white",
            "ticks": ""
           },
           "baxis": {
            "gridcolor": "white",
            "linecolor": "white",
            "ticks": ""
           },
           "bgcolor": "#E5ECF6",
           "caxis": {
            "gridcolor": "white",
            "linecolor": "white",
            "ticks": ""
           }
          },
          "title": {
           "x": 0.05
          },
          "xaxis": {
           "automargin": true,
           "gridcolor": "white",
           "linecolor": "white",
           "ticks": "",
           "title": {
            "standoff": 15
           },
           "zerolinecolor": "white",
           "zerolinewidth": 2
          },
          "yaxis": {
           "automargin": true,
           "gridcolor": "white",
           "linecolor": "white",
           "ticks": "",
           "title": {
            "standoff": 15
           },
           "zerolinecolor": "white",
           "zerolinewidth": 2
          }
         }
        },
        "xaxis": {
         "anchor": "y",
         "domain": [
          0,
          1
         ],
         "title": {
          "text": "x"
         }
        },
        "yaxis": {
         "anchor": "x",
         "domain": [
          0,
          1
         ],
         "title": {
          "text": "y"
         }
        }
       }
      }
     },
     "metadata": {},
     "output_type": "display_data"
    }
   ],
   "source": [
    "# Graficar los embedddings en 2D\n",
    "import plotly.graph_objects as go\n",
    "import plotly.express as px\n",
    "\n",
    "vecs, labels = reduce_dimensions(model_hp_potter)\n",
    "\n",
    "MAX_WORDS=200\n",
    "fig = px.scatter(x=vecs[:MAX_WORDS,0], y=vecs[:MAX_WORDS,1], text=labels[:MAX_WORDS])\n",
    "fig.show() "
   ]
  },
  {
   "cell_type": "code",
   "execution_count": 77,
   "metadata": {},
   "outputs": [
    {
     "data": {
      "application/vnd.plotly.v1+json": {
       "config": {
        "plotlyServerURL": "https://plot.ly"
       },
       "data": [
        {
         "hovertemplate": "x=%{x}<br>y=%{y}<br>z=%{z}<br>text=%{text}<extra></extra>",
         "legendgroup": "",
         "marker": {
          "color": "#636efa",
          "size": 2,
          "symbol": "circle"
         },
         "mode": "markers+text",
         "name": "",
         "scene": "scene",
         "showlegend": false,
         "text": [
          "harry",
          "said",
          "ron",
          "hermione",
          "back",
          "dumbledore",
          "could",
          "one",
          "like",
          "looked",
          "would",
          "know",
          "around",
          "well",
          "got",
          "professor",
          "see",
          "dont",
          "though",
          "think",
          "still",
          "time",
          "hagrid",
          "get",
          "right",
          "eyes",
          "wand",
          "looking",
          "snape",
          "face",
          "voice",
          "weasley",
          "going",
          "harrys",
          "look",
          "go",
          "didnt",
          "room",
          "im",
          "come",
          "head",
          "door",
          "thought",
          "mr",
          "something",
          "potter",
          "saw",
          "malfoy",
          "never",
          "behind",
          "seemed",
          "hand",
          "way",
          "away",
          "hes",
          "told",
          "asked",
          "turned",
          "two",
          "last",
          "toward",
          "much",
          "dark",
          "little",
          "us",
          "long",
          "even",
          "voldemort",
          "sirius",
          "knew",
          "first",
          "good",
          "want",
          "oh",
          "tell",
          "heard",
          "made",
          "people",
          "hogwarts",
          "left",
          "yes",
          "really",
          "say",
          "moment",
          "felt",
          "mrs",
          "youre",
          "fred",
          "great",
          "black",
          "might",
          "thats",
          "ive",
          "front",
          "ever",
          "came",
          "death",
          "feet",
          "take",
          "anything",
          "sure",
          "lupin",
          "next",
          "nothing",
          "took",
          "trying",
          "three",
          "make",
          "another",
          "cant",
          "let",
          "george",
          "yeah",
          "table",
          "open",
          "old",
          "ginny",
          "inside",
          "went",
          "find",
          "mcgonagall",
          "must",
          "course",
          "neville",
          "magic",
          "large",
          "put",
          "ill",
          "school",
          "floor",
          "upon",
          "every",
          "thing",
          "hall",
          "gave",
          "seen",
          "place",
          "found",
          "hands",
          "stood",
          "hear",
          "need",
          "night",
          "without",
          "ministry",
          "onto",
          "house",
          "uncle",
          "mean",
          "pulled",
          "end",
          "gryffindor",
          "years",
          "across",
          "quite",
          "hair",
          "wanted",
          "bit",
          "boy",
          "air",
          "hed",
          "wasnt",
          "better",
          "cloak",
          "done",
          "happened",
          "umbridge",
          "couldnt",
          "help",
          "side",
          "keep",
          "enough",
          "man",
          "rons",
          "second",
          "along",
          "bed",
          "give",
          "fudge",
          "mind",
          "wizard",
          "light",
          "yet",
          "already",
          "youve",
          "whats",
          "small",
          "vernon",
          "however",
          "year",
          "robes",
          "staring",
          "gone",
          "else",
          "many",
          "rather",
          "set",
          "walked",
          "fell",
          "forward"
         ],
         "type": "scatter3d",
         "x": {
          "bdata": "ZJCoQR7UZUGPOnxBsqF9QewKvkFuKQrAodo4wPAWYD9JeULCSvVCPzX240Fel3VB2xOZQUcmnUEoutlBtvFHQk5rXsCQNG5BEQO5wY+QY0H94MHBXe3pQex4OEKZhr5BGOwIwT/BKcIAfqbAbxEKQO/PicGIWRrC4ixswTwtDUJPOBJB2vgWwtygJEHt9tFBi/emQTB490GVh69BmVHJQQbtkcHLhN1BlG0IQi6REUK7FyHC/+4SwbmUTUAZSPC+Q4GnQGSmVEHs69DBZyOcwUTRA0LaUr5BjMGwQWlU30GKRVlBAMbXwThQKkCGtdFBRhpdQZc52cGsLg5AQNQlQXb+8UF4XEjC2vEqwta75kFJ2MrBMxEHQaiW7EEdfrlBbryEQZHaTEEBP+1BOMWDQS3tb0LPZ81ASHwoQh2X4EGpPGpBV0IywP41i0HcMBlCW0DWwQePCUI+vaxBf6EVQnB638HDchLCB3PzQakhqUGUz91BzaPMQVtQR8L8shtCjaVZQobtNUEq1CJCPV/uvzIYLcF3RIzBH4QNQvS+NcIqRHtBqDb6QXa63T/CC6jBvXGoP1BtlEGYUrq/zAYVQj8Gj0FLN7RBA1NfwrAoR8KJN25BakJdQSMhwUFfaUfB4W9DQlHUyEHo1ItB4HmUQRLJAEEY0mjBsDC7QYdtoEF+KyNCHJLXv55pa8Azzsi/4xW9we4aAEKK2wDBwH2eQNSG9cFhxjTB12PdwDp8ikCu/aPAVNCOQd/ixkHqvbhBGof8QPUSqEFy5SZCmsNGQrEUI0G5hAfBNQXhP8gIIkK6URVCbO9CQTc4KcG5Xz/CSaniQUhelL836Oq/WAFewc3g80F0zCVCibu8QQqbIkLzp+tBXioDQZlSWELXxQnAAYeyQQOt2kHM03nAm/6kQRRaEsI8U3BBMKmSvwOqpUHiAQ1Cs1ciQoDzMEI9EadBGONhwayb08HlpR5CL42PQYOv6EFym1tABu8OwvyASkKSbfq/mikPQnwdOsJ+qYFAToYTwiyP5MFQ/OFBvmQ3wcR6I8KX5PlBPoINwVvPEEI=",
          "dtype": "f4"
         },
         "y": {
          "bdata": "5GiYQwaFHkLEeo5BQj6ZQSuuAsExIpZBSB/KQcljpsEo2jRBDRoKQb9Qs0GaGTtCkGw8wQdlLEJWxjBC7p+EQb7w50F46TtCEjpsQbaNNULv/wlCMC9iv/SGssC8qBhCSJ8KQlQMBUGdOdnAUSQMQZxELkIxt0k/tyvpQSiG3kHX7gBCREbqQcgzrkEHpBFCb4FSQgZQvMH5jlhC5C0MQokVm0FisdnB88DEQeqg5kGl3hdCyKwGQoKESUD4vQlCJiYMQoA9tMBv1klBC5YkwXfpxEDxxAbBfwZMQjUUD0LikBlCWgKPQZGerMHcPQ3BYQO8wfgHxUE887rB/vQCwrAiDUIihCDBtsnlQYpaxkHJgypC8CYUQmM3OsDVVDZBk0Y5Qop0LUJhR/RBsc50wGdlcr8slcBBYMrYwDMAVcF8GTZCT59WQoDaUUKIqbPB9XV9QFKa5UEiAlVCmMKfQR3qXELqpy/BdMu9QYOCPkJzKDVC0f0twU2X0UGBoJvBYpMFQlJF2MEyFhxCMYZvQtlGqUGNazBCSpqowXWvMUHUbiJCKLmWQSX6ucE0y0FCAdmswaDTRkK88fdBkJCcQX9mKkLEOSbCU3iqwSwceD8784FBnQZgwlndL0KLbvpBGayBQdfzMEKMAD9CjQaOQXZaI78rni3C5GMowT7/PkJae+jAyLB6wb4HqUBDC6jBqRRgQhNe1cFEdnRBp2ESQrAyDULCJKDAzJlnwfyr2cG04ONBLtVGQmV+XsG8KxFAZnkCP8MfFMIrzXzAE8I+wdiSQkJChQ/ClYEkwVGyPsBmkae/ERP1wWDBW0FCn5jBOp+rQdkegUL9jjdCSaNvwRWqo0EFYy9C9Z8kQjVYPsI3sDhCKcC9QblBgEEPpdNBFDUDQqtr9MCmcG1CP9rZQS429sCHu3FBse7uvwnGzcG0CPPBiC0cQhmw+0FCnzdCpOYvQUQtucFKlxdCbphoQMElLUI9hRFCvqJMwutZO8FYdIRA54XgwMYRH8IWSdlABeojQvnaFUJfdwDC9OtjQXGw3cGKgLPBzj4BweXemME=",
          "dtype": "f4"
         },
         "z": {
          "bdata": "RqoJwx7UV8FE3LHBDjq0wTwH5sCAimhA418mwPFUcEHha9I/AAy8wS69ekF6IqNA45TDwMxY0sCLH7m/j14awdjEiMBX/Vc/jkh6v44njkDN4YDBevGkQWO6+UAIlhzAHc5GwZp5psEKe1nCYDe6wbbD6MFrN5PBZ5PawbDt1MHXghjBUAUXwgbCDsKJDAvA9uDEQEIFAMDV7oLAa2+EPgjTWcJaRoXBZYl3QVu33MGlvdzB3aoxQkNhysEGTyTC+Hh1QbTaf8ER8xTBHFg9wkfeQcLwKxXB6UEFwRnUV0EqFDrBhrRPwoxZgUEstUpABMRlwReeGkLbBttAQPGAQdBrIkHHqyBAgoYfQPXPDkIjGFfBfgdzQYq2qEEJxUM/tj7JP2IykcH8bnFBI5zQwVnUnsExyxVA5zL3QbRzMsBgh5LB8LIbQBMefsEdvB9BvOwJwfeUzMGUAqTAhIHawTateMHxcMrAdSGBQVYJMcHESmnAMRXawMewpkF1mIDAiyRWQAycKsKI0uI/R0J+QCx+kUH9/NHBqylJQSfZYEExWzHCp0ftwauiiUG0kuA8mb5PQTse8r90dPrB9kfSwd+BT8H9an/Bnxi7QaU5vEFPbKbBrPXlwRbyH8LsKJtBmxYcwQ5Y7UHG9MNANMeqwX6nUUIk/CtBfNDJPwWeiMBTvfFB4ANvwg8SiMH8qnNBuQRZQAQnBcGQQSXCbu2JQVSqHkJAz6VAOEgUwmo3N8GnZynAtCYVQMWbXUEmYr1A/f5JQlLKi8GMHzrA6J6UwRBF5EAa+AbCGw8YwG62IsG66ARCMBcDvzsSnUCty2fBAPNTQbqEK8HsMio/7ZQhwSPIfEHEi6hBKdbhwB6b9kCXoK9AKu4FQTU05MD58oq/e2guQIrQCsH2uWnB0XUyQNAhdD8SDMLBpuLywUOlM8Hv2/+/UYiiQKtrcEGdy5ZAm2XVQZx7rb/JF4pBn3Vuwbvn77+KfSzBoWJGQfxNmcF1IKA/oDXfQRJeGcHkC7vBY/l8wJ2GPr917B1CZjyMwYKaDkLy+//B+KMRwtOZ98E=",
          "dtype": "f4"
         }
        }
       ],
       "layout": {
        "legend": {
         "tracegroupgap": 0
        },
        "margin": {
         "t": 60
        },
        "scene": {
         "domain": {
          "x": [
           0,
           1
          ],
          "y": [
           0,
           1
          ]
         },
         "xaxis": {
          "title": {
           "text": "x"
          }
         },
         "yaxis": {
          "title": {
           "text": "y"
          }
         },
         "zaxis": {
          "title": {
           "text": "z"
          }
         }
        },
        "template": {
         "data": {
          "bar": [
           {
            "error_x": {
             "color": "#2a3f5f"
            },
            "error_y": {
             "color": "#2a3f5f"
            },
            "marker": {
             "line": {
              "color": "#E5ECF6",
              "width": 0.5
             },
             "pattern": {
              "fillmode": "overlay",
              "size": 10,
              "solidity": 0.2
             }
            },
            "type": "bar"
           }
          ],
          "barpolar": [
           {
            "marker": {
             "line": {
              "color": "#E5ECF6",
              "width": 0.5
             },
             "pattern": {
              "fillmode": "overlay",
              "size": 10,
              "solidity": 0.2
             }
            },
            "type": "barpolar"
           }
          ],
          "carpet": [
           {
            "aaxis": {
             "endlinecolor": "#2a3f5f",
             "gridcolor": "white",
             "linecolor": "white",
             "minorgridcolor": "white",
             "startlinecolor": "#2a3f5f"
            },
            "baxis": {
             "endlinecolor": "#2a3f5f",
             "gridcolor": "white",
             "linecolor": "white",
             "minorgridcolor": "white",
             "startlinecolor": "#2a3f5f"
            },
            "type": "carpet"
           }
          ],
          "choropleth": [
           {
            "colorbar": {
             "outlinewidth": 0,
             "ticks": ""
            },
            "type": "choropleth"
           }
          ],
          "contour": [
           {
            "colorbar": {
             "outlinewidth": 0,
             "ticks": ""
            },
            "colorscale": [
             [
              0,
              "#0d0887"
             ],
             [
              0.1111111111111111,
              "#46039f"
             ],
             [
              0.2222222222222222,
              "#7201a8"
             ],
             [
              0.3333333333333333,
              "#9c179e"
             ],
             [
              0.4444444444444444,
              "#bd3786"
             ],
             [
              0.5555555555555556,
              "#d8576b"
             ],
             [
              0.6666666666666666,
              "#ed7953"
             ],
             [
              0.7777777777777778,
              "#fb9f3a"
             ],
             [
              0.8888888888888888,
              "#fdca26"
             ],
             [
              1,
              "#f0f921"
             ]
            ],
            "type": "contour"
           }
          ],
          "contourcarpet": [
           {
            "colorbar": {
             "outlinewidth": 0,
             "ticks": ""
            },
            "type": "contourcarpet"
           }
          ],
          "heatmap": [
           {
            "colorbar": {
             "outlinewidth": 0,
             "ticks": ""
            },
            "colorscale": [
             [
              0,
              "#0d0887"
             ],
             [
              0.1111111111111111,
              "#46039f"
             ],
             [
              0.2222222222222222,
              "#7201a8"
             ],
             [
              0.3333333333333333,
              "#9c179e"
             ],
             [
              0.4444444444444444,
              "#bd3786"
             ],
             [
              0.5555555555555556,
              "#d8576b"
             ],
             [
              0.6666666666666666,
              "#ed7953"
             ],
             [
              0.7777777777777778,
              "#fb9f3a"
             ],
             [
              0.8888888888888888,
              "#fdca26"
             ],
             [
              1,
              "#f0f921"
             ]
            ],
            "type": "heatmap"
           }
          ],
          "histogram": [
           {
            "marker": {
             "pattern": {
              "fillmode": "overlay",
              "size": 10,
              "solidity": 0.2
             }
            },
            "type": "histogram"
           }
          ],
          "histogram2d": [
           {
            "colorbar": {
             "outlinewidth": 0,
             "ticks": ""
            },
            "colorscale": [
             [
              0,
              "#0d0887"
             ],
             [
              0.1111111111111111,
              "#46039f"
             ],
             [
              0.2222222222222222,
              "#7201a8"
             ],
             [
              0.3333333333333333,
              "#9c179e"
             ],
             [
              0.4444444444444444,
              "#bd3786"
             ],
             [
              0.5555555555555556,
              "#d8576b"
             ],
             [
              0.6666666666666666,
              "#ed7953"
             ],
             [
              0.7777777777777778,
              "#fb9f3a"
             ],
             [
              0.8888888888888888,
              "#fdca26"
             ],
             [
              1,
              "#f0f921"
             ]
            ],
            "type": "histogram2d"
           }
          ],
          "histogram2dcontour": [
           {
            "colorbar": {
             "outlinewidth": 0,
             "ticks": ""
            },
            "colorscale": [
             [
              0,
              "#0d0887"
             ],
             [
              0.1111111111111111,
              "#46039f"
             ],
             [
              0.2222222222222222,
              "#7201a8"
             ],
             [
              0.3333333333333333,
              "#9c179e"
             ],
             [
              0.4444444444444444,
              "#bd3786"
             ],
             [
              0.5555555555555556,
              "#d8576b"
             ],
             [
              0.6666666666666666,
              "#ed7953"
             ],
             [
              0.7777777777777778,
              "#fb9f3a"
             ],
             [
              0.8888888888888888,
              "#fdca26"
             ],
             [
              1,
              "#f0f921"
             ]
            ],
            "type": "histogram2dcontour"
           }
          ],
          "mesh3d": [
           {
            "colorbar": {
             "outlinewidth": 0,
             "ticks": ""
            },
            "type": "mesh3d"
           }
          ],
          "parcoords": [
           {
            "line": {
             "colorbar": {
              "outlinewidth": 0,
              "ticks": ""
             }
            },
            "type": "parcoords"
           }
          ],
          "pie": [
           {
            "automargin": true,
            "type": "pie"
           }
          ],
          "scatter": [
           {
            "fillpattern": {
             "fillmode": "overlay",
             "size": 10,
             "solidity": 0.2
            },
            "type": "scatter"
           }
          ],
          "scatter3d": [
           {
            "line": {
             "colorbar": {
              "outlinewidth": 0,
              "ticks": ""
             }
            },
            "marker": {
             "colorbar": {
              "outlinewidth": 0,
              "ticks": ""
             }
            },
            "type": "scatter3d"
           }
          ],
          "scattercarpet": [
           {
            "marker": {
             "colorbar": {
              "outlinewidth": 0,
              "ticks": ""
             }
            },
            "type": "scattercarpet"
           }
          ],
          "scattergeo": [
           {
            "marker": {
             "colorbar": {
              "outlinewidth": 0,
              "ticks": ""
             }
            },
            "type": "scattergeo"
           }
          ],
          "scattergl": [
           {
            "marker": {
             "colorbar": {
              "outlinewidth": 0,
              "ticks": ""
             }
            },
            "type": "scattergl"
           }
          ],
          "scattermap": [
           {
            "marker": {
             "colorbar": {
              "outlinewidth": 0,
              "ticks": ""
             }
            },
            "type": "scattermap"
           }
          ],
          "scattermapbox": [
           {
            "marker": {
             "colorbar": {
              "outlinewidth": 0,
              "ticks": ""
             }
            },
            "type": "scattermapbox"
           }
          ],
          "scatterpolar": [
           {
            "marker": {
             "colorbar": {
              "outlinewidth": 0,
              "ticks": ""
             }
            },
            "type": "scatterpolar"
           }
          ],
          "scatterpolargl": [
           {
            "marker": {
             "colorbar": {
              "outlinewidth": 0,
              "ticks": ""
             }
            },
            "type": "scatterpolargl"
           }
          ],
          "scatterternary": [
           {
            "marker": {
             "colorbar": {
              "outlinewidth": 0,
              "ticks": ""
             }
            },
            "type": "scatterternary"
           }
          ],
          "surface": [
           {
            "colorbar": {
             "outlinewidth": 0,
             "ticks": ""
            },
            "colorscale": [
             [
              0,
              "#0d0887"
             ],
             [
              0.1111111111111111,
              "#46039f"
             ],
             [
              0.2222222222222222,
              "#7201a8"
             ],
             [
              0.3333333333333333,
              "#9c179e"
             ],
             [
              0.4444444444444444,
              "#bd3786"
             ],
             [
              0.5555555555555556,
              "#d8576b"
             ],
             [
              0.6666666666666666,
              "#ed7953"
             ],
             [
              0.7777777777777778,
              "#fb9f3a"
             ],
             [
              0.8888888888888888,
              "#fdca26"
             ],
             [
              1,
              "#f0f921"
             ]
            ],
            "type": "surface"
           }
          ],
          "table": [
           {
            "cells": {
             "fill": {
              "color": "#EBF0F8"
             },
             "line": {
              "color": "white"
             }
            },
            "header": {
             "fill": {
              "color": "#C8D4E3"
             },
             "line": {
              "color": "white"
             }
            },
            "type": "table"
           }
          ]
         },
         "layout": {
          "annotationdefaults": {
           "arrowcolor": "#2a3f5f",
           "arrowhead": 0,
           "arrowwidth": 1
          },
          "autotypenumbers": "strict",
          "coloraxis": {
           "colorbar": {
            "outlinewidth": 0,
            "ticks": ""
           }
          },
          "colorscale": {
           "diverging": [
            [
             0,
             "#8e0152"
            ],
            [
             0.1,
             "#c51b7d"
            ],
            [
             0.2,
             "#de77ae"
            ],
            [
             0.3,
             "#f1b6da"
            ],
            [
             0.4,
             "#fde0ef"
            ],
            [
             0.5,
             "#f7f7f7"
            ],
            [
             0.6,
             "#e6f5d0"
            ],
            [
             0.7,
             "#b8e186"
            ],
            [
             0.8,
             "#7fbc41"
            ],
            [
             0.9,
             "#4d9221"
            ],
            [
             1,
             "#276419"
            ]
           ],
           "sequential": [
            [
             0,
             "#0d0887"
            ],
            [
             0.1111111111111111,
             "#46039f"
            ],
            [
             0.2222222222222222,
             "#7201a8"
            ],
            [
             0.3333333333333333,
             "#9c179e"
            ],
            [
             0.4444444444444444,
             "#bd3786"
            ],
            [
             0.5555555555555556,
             "#d8576b"
            ],
            [
             0.6666666666666666,
             "#ed7953"
            ],
            [
             0.7777777777777778,
             "#fb9f3a"
            ],
            [
             0.8888888888888888,
             "#fdca26"
            ],
            [
             1,
             "#f0f921"
            ]
           ],
           "sequentialminus": [
            [
             0,
             "#0d0887"
            ],
            [
             0.1111111111111111,
             "#46039f"
            ],
            [
             0.2222222222222222,
             "#7201a8"
            ],
            [
             0.3333333333333333,
             "#9c179e"
            ],
            [
             0.4444444444444444,
             "#bd3786"
            ],
            [
             0.5555555555555556,
             "#d8576b"
            ],
            [
             0.6666666666666666,
             "#ed7953"
            ],
            [
             0.7777777777777778,
             "#fb9f3a"
            ],
            [
             0.8888888888888888,
             "#fdca26"
            ],
            [
             1,
             "#f0f921"
            ]
           ]
          },
          "colorway": [
           "#636efa",
           "#EF553B",
           "#00cc96",
           "#ab63fa",
           "#FFA15A",
           "#19d3f3",
           "#FF6692",
           "#B6E880",
           "#FF97FF",
           "#FECB52"
          ],
          "font": {
           "color": "#2a3f5f"
          },
          "geo": {
           "bgcolor": "white",
           "lakecolor": "white",
           "landcolor": "#E5ECF6",
           "showlakes": true,
           "showland": true,
           "subunitcolor": "white"
          },
          "hoverlabel": {
           "align": "left"
          },
          "hovermode": "closest",
          "mapbox": {
           "style": "light"
          },
          "paper_bgcolor": "white",
          "plot_bgcolor": "#E5ECF6",
          "polar": {
           "angularaxis": {
            "gridcolor": "white",
            "linecolor": "white",
            "ticks": ""
           },
           "bgcolor": "#E5ECF6",
           "radialaxis": {
            "gridcolor": "white",
            "linecolor": "white",
            "ticks": ""
           }
          },
          "scene": {
           "xaxis": {
            "backgroundcolor": "#E5ECF6",
            "gridcolor": "white",
            "gridwidth": 2,
            "linecolor": "white",
            "showbackground": true,
            "ticks": "",
            "zerolinecolor": "white"
           },
           "yaxis": {
            "backgroundcolor": "#E5ECF6",
            "gridcolor": "white",
            "gridwidth": 2,
            "linecolor": "white",
            "showbackground": true,
            "ticks": "",
            "zerolinecolor": "white"
           },
           "zaxis": {
            "backgroundcolor": "#E5ECF6",
            "gridcolor": "white",
            "gridwidth": 2,
            "linecolor": "white",
            "showbackground": true,
            "ticks": "",
            "zerolinecolor": "white"
           }
          },
          "shapedefaults": {
           "line": {
            "color": "#2a3f5f"
           }
          },
          "ternary": {
           "aaxis": {
            "gridcolor": "white",
            "linecolor": "white",
            "ticks": ""
           },
           "baxis": {
            "gridcolor": "white",
            "linecolor": "white",
            "ticks": ""
           },
           "bgcolor": "#E5ECF6",
           "caxis": {
            "gridcolor": "white",
            "linecolor": "white",
            "ticks": ""
           }
          },
          "title": {
           "x": 0.05
          },
          "xaxis": {
           "automargin": true,
           "gridcolor": "white",
           "linecolor": "white",
           "ticks": "",
           "title": {
            "standoff": 15
           },
           "zerolinecolor": "white",
           "zerolinewidth": 2
          },
          "yaxis": {
           "automargin": true,
           "gridcolor": "white",
           "linecolor": "white",
           "ticks": "",
           "title": {
            "standoff": 15
           },
           "zerolinecolor": "white",
           "zerolinewidth": 2
          }
         }
        }
       }
      }
     },
     "metadata": {},
     "output_type": "display_data"
    }
   ],
   "source": [
    "# Graficar los embedddings en 3D\n",
    "\n",
    "vecs, labels = reduce_dimensions(model_hp_potter,3)\n",
    "\n",
    "fig = px.scatter_3d(x=vecs[:MAX_WORDS,0], y=vecs[:MAX_WORDS,1], z=vecs[:MAX_WORDS,2],text=labels[:MAX_WORDS])\n",
    "fig.update_traces(marker_size = 2)\n",
    "fig.show() "
   ]
  },
  {
   "cell_type": "markdown",
   "metadata": {},
   "source": [
    "## Conclusiones:\n"
   ]
  }
 ],
 "metadata": {
  "colab": {
   "collapsed_sections": [],
   "provenance": []
  },
  "kernelspec": {
   "display_name": "Python (CEIA-NLP)",
   "language": "python",
   "name": "ceia-nlp"
  },
  "language_info": {
   "codemirror_mode": {
    "name": "ipython",
    "version": 3
   },
   "file_extension": ".py",
   "mimetype": "text/x-python",
   "name": "python",
   "nbconvert_exporter": "python",
   "pygments_lexer": "ipython3",
   "version": "3.11.12"
  }
 },
 "nbformat": 4,
 "nbformat_minor": 4
}
